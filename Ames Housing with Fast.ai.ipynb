{
  "nbformat": 4,
  "nbformat_minor": 0,
  "metadata": {
    "colab": {
      "name": "Ames.ipynb",
      "provenance": [],
      "collapsed_sections": [],
      "include_colab_link": true
    },
    "kernelspec": {
      "name": "python3",
      "display_name": "Python 3"
    }
  },
  "cells": [
    {
      "cell_type": "markdown",
      "metadata": {
        "id": "view-in-github",
        "colab_type": "text"
      },
      "source": [
        "<a href=\"https://colab.research.google.com/github/blakeobeans/kaggle_notebooks/blob/master/Ames%20Housing%20with%20Fast.ai.ipynb\" target=\"_parent\"><img src=\"https://colab.research.google.com/assets/colab-badge.svg\" alt=\"Open In Colab\"/></a>"
      ]
    },
    {
      "cell_type": "markdown",
      "metadata": {
        "id": "gE7kLyC11X4x",
        "colab_type": "text"
      },
      "source": [
        "Predict the selling price."
      ]
    },
    {
      "cell_type": "markdown",
      "metadata": {
        "id": "L258-JTZGzWr",
        "colab_type": "text"
      },
      "source": [
        "### Import Data"
      ]
    },
    {
      "cell_type": "code",
      "metadata": {
        "id": "4ySwYfkO1x49",
        "colab_type": "code",
        "colab": {}
      },
      "source": [
        "#load relevant libraries\n",
        "import pandas as pd\n",
        "import numpy as np\n",
        "import seaborn as sns\n",
        "from fastai.tabular import * \n",
        "#show all output\n",
        "from IPython.core.interactiveshell import InteractiveShell\n",
        "InteractiveShell.ast_node_interactivity = \"all\"\n",
        "#display all rows\n",
        "pd.options.display.max_rows = 4000"
      ],
      "execution_count": 0,
      "outputs": []
    },
    {
      "cell_type": "code",
      "metadata": {
        "id": "sU9Cfz9h14Es",
        "colab_type": "code",
        "outputId": "ea8fefc8-fac2-4d2a-ad1e-3b42461f8a54",
        "colab": {
          "base_uri": "https://localhost:8080/",
          "height": 122
        }
      },
      "source": [
        "#import data from Google Drive\n",
        "from google.colab import drive\n",
        "import os\n",
        "drive.mount('/content/drive')"
      ],
      "execution_count": 0,
      "outputs": [
        {
          "output_type": "stream",
          "text": [
            "Go to this URL in a browser: https://accounts.google.com/o/oauth2/auth?client_id=947318989803-6bn6qk8qdgf4n4g3pfee6491hc0brc4i.apps.googleusercontent.com&redirect_uri=urn%3aietf%3awg%3aoauth%3a2.0%3aoob&response_type=code&scope=email%20https%3a%2f%2fwww.googleapis.com%2fauth%2fdocs.test%20https%3a%2f%2fwww.googleapis.com%2fauth%2fdrive%20https%3a%2f%2fwww.googleapis.com%2fauth%2fdrive.photos.readonly%20https%3a%2f%2fwww.googleapis.com%2fauth%2fpeopleapi.readonly\n",
            "\n",
            "Enter your authorization code:\n",
            "··········\n",
            "Mounted at /content/drive\n"
          ],
          "name": "stdout"
        }
      ]
    },
    {
      "cell_type": "code",
      "metadata": {
        "id": "_kyw0MLQ5fWG",
        "colab_type": "code",
        "outputId": "ef49114c-7cd9-4d26-88e4-bcd0d763f796",
        "colab": {
          "base_uri": "https://localhost:8080/",
          "height": 34
        }
      },
      "source": [
        "path = '/content/drive/My Drive/Colab Notebooks/Kaggle/house-prices-advanced-regression-techniques'\n",
        "os.chdir(path)\n",
        "path"
      ],
      "execution_count": 0,
      "outputs": [
        {
          "output_type": "execute_result",
          "data": {
            "text/plain": [
              "'/content/drive/My Drive/Colab Notebooks/Kaggle/house-prices-advanced-regression-techniques'"
            ]
          },
          "metadata": {
            "tags": []
          },
          "execution_count": 3
        }
      ]
    },
    {
      "cell_type": "code",
      "metadata": {
        "id": "ggvaXIww5gsw",
        "colab_type": "code",
        "colab": {}
      },
      "source": [
        "train = pd.read_csv('train.csv')\n",
        "test = pd.read_csv('test.csv')"
      ],
      "execution_count": 0,
      "outputs": []
    },
    {
      "cell_type": "markdown",
      "metadata": {
        "id": "XzcaIw0iG2oL",
        "colab_type": "text"
      },
      "source": [
        "### Feature Engineering"
      ]
    },
    {
      "cell_type": "code",
      "metadata": {
        "id": "sbw5IDXpUOAC",
        "colab_type": "code",
        "colab": {}
      },
      "source": [
        "#Save the 'Id' column\n",
        "train_ID = train['Id']\n",
        "test_ID = test['Id']\n",
        "#Now drop the  'Id' colum since it's unnecessary for  the prediction process.\n",
        "train.drop(\"Id\", axis = 1, inplace = True)\n",
        "test.drop(\"Id\", axis = 1, inplace = True)"
      ],
      "execution_count": 0,
      "outputs": []
    },
    {
      "cell_type": "markdown",
      "metadata": {
        "id": "1imDDLNgMdVY",
        "colab_type": "text"
      },
      "source": [
        "#### Missing Data"
      ]
    },
    {
      "cell_type": "code",
      "metadata": {
        "id": "aZEQ8pEOSsiJ",
        "colab_type": "code",
        "colab": {}
      },
      "source": [
        "ntrain = train.shape[0]\n",
        "ntest = test.shape[0]\n",
        "\n",
        "# Creating y_train variable\n",
        "y_train = train.SalePrice.values\n",
        "# New all encompassing dataset\n",
        "all_data = pd.concat((train, test), sort=True).reset_index(drop=True)\n",
        "# Dropping the target\n",
        "all_data.drop(['SalePrice'], axis=1, inplace=True)"
      ],
      "execution_count": 0,
      "outputs": []
    },
    {
      "cell_type": "code",
      "metadata": {
        "id": "TQ9FX3DWRxpE",
        "colab_type": "code",
        "colab": {}
      },
      "source": [
        "#caluclate % missing for each variable\n",
        "all_data_na = (all_data.isnull().sum() / len(all_data)) * 100\n",
        "all_data_na = all_data_na.drop(all_data_na[all_data_na == 0].index).sort_values(ascending=False)[:30]\n",
        "missing_data = pd.DataFrame({'Missing Ratio' :all_data_na})"
      ],
      "execution_count": 0,
      "outputs": []
    },
    {
      "cell_type": "code",
      "metadata": {
        "id": "D2c6UMlJSJJd",
        "colab_type": "code",
        "outputId": "9efd6ac1-ad05-462a-df69-38429a809982",
        "colab": {
          "base_uri": "https://localhost:8080/",
          "height": 833
        }
      },
      "source": [
        "#visualize missing data\n",
        "f, ax = plt.subplots(figsize=(15, 12))\n",
        "plt.xticks(rotation='90')\n",
        "sns.barplot(x=all_data_na.index, y=all_data_na)\n",
        "plt.xlabel('Features', fontsize=15)\n",
        "plt.ylabel('Percent of missing values', fontsize=15)\n",
        "plt.title('Percent missing data by feature', fontsize=15)"
      ],
      "execution_count": 0,
      "outputs": [
        {
          "output_type": "execute_result",
          "data": {
            "text/plain": [
              "(array([0. , 0.2, 0.4, 0.6, 0.8, 1. ]), <a list of 6 Text xticklabel objects>)"
            ]
          },
          "metadata": {
            "tags": []
          },
          "execution_count": 8
        },
        {
          "output_type": "execute_result",
          "data": {
            "text/plain": [
              "<matplotlib.axes._subplots.AxesSubplot at 0x7f32ee6a32e8>"
            ]
          },
          "metadata": {
            "tags": []
          },
          "execution_count": 8
        },
        {
          "output_type": "execute_result",
          "data": {
            "text/plain": [
              "Text(0.5, 0, 'Features')"
            ]
          },
          "metadata": {
            "tags": []
          },
          "execution_count": 8
        },
        {
          "output_type": "execute_result",
          "data": {
            "text/plain": [
              "Text(0, 0.5, 'Percent of missing values')"
            ]
          },
          "metadata": {
            "tags": []
          },
          "execution_count": 8
        },
        {
          "output_type": "execute_result",
          "data": {
            "text/plain": [
              "Text(0.5, 1.0, 'Percent missing data by feature')"
            ]
          },
          "metadata": {
            "tags": []
          },
          "execution_count": 8
        },
        {
          "output_type": "display_data",
          "data": {
            "image/png": "[encoded data removed]",
            "text/plain": [
              "<Figure size 1080x864 with 1 Axes>"
            ]
          },
          "metadata": {
            "tags": []
          }
        }
      ]
    },
    {
      "cell_type": "markdown",
      "metadata": {
        "colab_type": "text",
        "id": "isE_hIukpMQC"
      },
      "source": [
        "Most of the data are not missing. It's just that the \"NA\" value means that some feature is not present. For example, \"NA\" on PoolQC just means no pool is there."
      ]
    },
    {
      "cell_type": "code",
      "metadata": {
        "id": "K-ood_5jSjI6",
        "colab_type": "code",
        "colab": {}
      },
      "source": [
        "#all features engineered below\n",
        "all_data[\"PoolQC\"] = all_data[\"PoolQC\"].fillna(\"None\")\n",
        "all_data[\"MiscFeature\"] = all_data[\"MiscFeature\"].fillna(\"None\")\n",
        "all_data[\"Alley\"] = all_data[\"Alley\"].fillna(\"None\")\n",
        "all_data[\"Fence\"] = all_data[\"Fence\"].fillna(\"None\")\n",
        "all_data[\"FireplaceQu\"] = all_data[\"FireplaceQu\"].fillna(\"None\")\n",
        "all_data[\"LotFrontage\"] = all_data.groupby(\"Neighborhood\")[\"LotFrontage\"].transform(\n",
        "    lambda x: x.fillna(x.median()))\n",
        "for col in ('GarageType', 'GarageFinish', 'GarageQual', 'GarageCond'):\n",
        "    all_data[col] = all_data[col].fillna('None')\n",
        "for col in ('GarageYrBlt', 'GarageArea', 'GarageCars'):\n",
        "    all_data[col] = all_data[col].fillna(0)\n",
        "for col in ('BsmtFinSF1', 'BsmtFinSF2', 'BsmtUnfSF','TotalBsmtSF', 'BsmtFullBath', 'BsmtHalfBath'):\n",
        "    all_data[col] = all_data[col].fillna(0)\n",
        "for col in ('BsmtQual', 'BsmtCond', 'BsmtExposure', 'BsmtFinType1', 'BsmtFinType2'):\n",
        "    all_data[col] = all_data[col].fillna('None')\n",
        "all_data[\"MasVnrType\"] = all_data[\"MasVnrType\"].fillna(\"None\")\n",
        "all_data[\"MasVnrArea\"] = all_data[\"MasVnrArea\"].fillna(0)\n",
        "all_data['MSZoning'] = all_data['MSZoning'].fillna(all_data['MSZoning'].mode()[0])\n",
        "all_data = all_data.drop(['Utilities'], axis=1)\n",
        "all_data[\"Functional\"] = all_data[\"Functional\"].fillna(\"Typ\")\n",
        "all_data['Electrical'] = all_data['Electrical'].fillna(all_data['Electrical'].mode()[0])\n",
        "all_data['KitchenQual'] = all_data['KitchenQual'].fillna(all_data['KitchenQual'].mode()[0])\n",
        "all_data['Exterior1st'] = all_data['Exterior1st'].fillna(all_data['Exterior1st'].mode()[0])\n",
        "all_data['Exterior2nd'] = all_data['Exterior2nd'].fillna(all_data['Exterior2nd'].mode()[0])\n",
        "all_data['SaleType'] = all_data['SaleType'].fillna(all_data['SaleType'].mode()[0])\n",
        "all_data['MSSubClass'] = all_data['MSSubClass'].fillna(\"None\")"
      ],
      "execution_count": 0,
      "outputs": []
    },
    {
      "cell_type": "code",
      "metadata": {
        "id": "vjsh5xvmTxjy",
        "colab_type": "code",
        "outputId": "a3f7fa3e-7b9c-4d88-8062-fdd8364c082a",
        "colab": {
          "base_uri": "https://localhost:8080/",
          "height": 49
        }
      },
      "source": [
        "#Check remaining missing values if any \n",
        "all_data_na = (all_data.isnull().sum() / len(all_data)) * 100\n",
        "all_data_na = all_data_na.drop(all_data_na[all_data_na == 0].index).sort_values(ascending=False)\n",
        "missing_data = pd.DataFrame({'Missing Ratio' :all_data_na})\n",
        "missing_data.head() #just SalePrice from test data"
      ],
      "execution_count": 0,
      "outputs": [
        {
          "output_type": "execute_result",
          "data": {
            "text/html": [
              "<div>\n",
              "<style scoped>\n",
              "    .dataframe tbody tr th:only-of-type {\n",
              "        vertical-align: middle;\n",
              "    }\n",
              "\n",
              "    .dataframe tbody tr th {\n",
              "        vertical-align: top;\n",
              "    }\n",
              "\n",
              "    .dataframe thead th {\n",
              "        text-align: right;\n",
              "    }\n",
              "</style>\n",
              "<table border=\"1\" class=\"dataframe\">\n",
              "  <thead>\n",
              "    <tr style=\"text-align: right;\">\n",
              "      <th></th>\n",
              "      <th>Missing Ratio</th>\n",
              "    </tr>\n",
              "  </thead>\n",
              "  <tbody>\n",
              "  </tbody>\n",
              "</table>\n",
              "</div>"
            ],
            "text/plain": [
              "Empty DataFrame\n",
              "Columns: [Missing Ratio]\n",
              "Index: []"
            ]
          },
          "metadata": {
            "tags": []
          },
          "execution_count": 12
        }
      ]
    },
    {
      "cell_type": "markdown",
      "metadata": {
        "id": "s3hszGYgUDd0",
        "colab_type": "text"
      },
      "source": [
        "### Change Variable Types"
      ]
    },
    {
      "cell_type": "code",
      "metadata": {
        "id": "nCfVwxEeUrQ1",
        "colab_type": "code",
        "colab": {}
      },
      "source": [
        "#MSSubClass=The building class\n",
        "all_data['MSSubClass'] = all_data['MSSubClass'].apply(str)\n",
        "\n",
        "#Changing OverallCond into a categorical variable\n",
        "all_data['OverallCond'] = all_data['OverallCond'].astype(str)\n",
        "\n",
        "#Year and month sold are transformed into categorical features.\n",
        "all_data['YrSold'] = all_data['YrSold'].astype(str)\n",
        "all_data['MoSold'] = all_data['MoSold'].astype(str)"
      ],
      "execution_count": 0,
      "outputs": []
    },
    {
      "cell_type": "markdown",
      "metadata": {
        "id": "XUdVy9WMV6qs",
        "colab_type": "text"
      },
      "source": [
        "### Back to original data"
      ]
    },
    {
      "cell_type": "code",
      "metadata": {
        "id": "9nwjHp-dZ1Oj",
        "colab_type": "code",
        "colab": {}
      },
      "source": [
        "train = all_data[:ntrain]\n",
        "test = all_data[ntrain:]"
      ],
      "execution_count": 0,
      "outputs": []
    },
    {
      "cell_type": "code",
      "metadata": {
        "id": "vXXZaQOha6fO",
        "colab_type": "code",
        "colab": {}
      },
      "source": [
        "#add dependent variable back to training data set\n",
        "y_train_temp = pd.DataFrame({'SalePrice': y_train[:,]})\n",
        "train = pd.concat([train, y_train_temp], axis = 1)"
      ],
      "execution_count": 0,
      "outputs": []
    },
    {
      "cell_type": "markdown",
      "metadata": {
        "id": "dWLm9yFaQaq3",
        "colab_type": "text"
      },
      "source": [
        "### Outliers"
      ]
    },
    {
      "cell_type": "code",
      "metadata": {
        "id": "bFU79pDpQhAo",
        "colab_type": "code",
        "outputId": "c64250cb-03d5-4967-a8fb-dbf3519b6a89",
        "colab": {
          "base_uri": "https://localhost:8080/",
          "height": 296
        }
      },
      "source": [
        "sns.regplot(x=train['GrLivArea'], y=train['SalePrice'], fit_reg=True)\n",
        "plt.show()"
      ],
      "execution_count": 0,
      "outputs": [
        {
          "output_type": "execute_result",
          "data": {
            "text/plain": [
              "<matplotlib.axes._subplots.AxesSubplot at 0x7f32edebe358>"
            ]
          },
          "metadata": {
            "tags": []
          },
          "execution_count": 16
        },
        {
          "output_type": "display_data",
          "data": {
            "image/png": "[encoded data removed]",
            "text/plain": [
              "<Figure size 432x288 with 1 Axes>"
            ]
          },
          "metadata": {
            "tags": []
          }
        }
      ]
    },
    {
      "cell_type": "code",
      "metadata": {
        "id": "hd0YMMRJQcfY",
        "colab_type": "code",
        "colab": {}
      },
      "source": [
        "# Removing two very extreme outliers in the bottom right hand corner- choosing not to remove\n",
        "# train = train.drop(train[(train['GrLivArea']>4000) & (train['SalePrice']<300000)].index)"
      ],
      "execution_count": 0,
      "outputs": []
    },
    {
      "cell_type": "markdown",
      "metadata": {
        "id": "ynuD4PShuftH",
        "colab_type": "text"
      },
      "source": [
        "### Transform Data"
      ]
    },
    {
      "cell_type": "code",
      "metadata": {
        "id": "tLYR3KLw2v1-",
        "colab_type": "code",
        "colab": {}
      },
      "source": [
        "#Tranform data. procedures, see tabular.transform \n",
        "#FillMissing takes the median for continuous, and 0 flag for categorical although there are other options\n",
        "#Categorify makes categorical variables categorical\n",
        "#Normalize normalizes continuous variables \n",
        "procs = [FillMissing, Categorify, Normalize]"
      ],
      "execution_count": 0,
      "outputs": []
    },
    {
      "cell_type": "markdown",
      "metadata": {
        "id": "aUVmyH-pHWUn",
        "colab_type": "text"
      },
      "source": [
        "### Create DataBunch object"
      ]
    },
    {
      "cell_type": "code",
      "metadata": {
        "id": "u1PQ-Tsn291W",
        "colab_type": "code",
        "colab": {}
      },
      "source": [
        "#instead of listing vars, faster to use select_dtypes() function from pandas\n",
        "cat_names = train.select_dtypes(include=['object']).columns.tolist()\n",
        "cont_names = train.select_dtypes(include=[np.number]).columns.tolist()\n",
        "cont_names.remove('SalePrice') #remove continuous response variable"
      ],
      "execution_count": 0,
      "outputs": []
    },
    {
      "cell_type": "markdown",
      "metadata": {
        "id": "ncDrCmvkW-GX",
        "colab_type": "text"
      },
      "source": [
        "Before creating a DataBunch object, we'll create a TabularList. Thus, we can make modifications in the data block API."
      ]
    },
    {
      "cell_type": "code",
      "metadata": {
        "id": "Cr1RIZhWGI3l",
        "colab_type": "code",
        "colab": {}
      },
      "source": [
        "#test databunch defined first\n",
        "test = TabularList.from_df(df=test, \n",
        "                           cat_names=cat_names, \n",
        "                           cont_names=cont_names, \n",
        "                           procs=procs)"
      ],
      "execution_count": 0,
      "outputs": []
    },
    {
      "cell_type": "code",
      "metadata": {
        "id": "aMkt8tynGNmP",
        "colab_type": "code",
        "colab": {}
      },
      "source": [
        "#see datablock core API for other methods\n",
        "data = (TabularList.from_df(df=train, \n",
        "                            path='.', \n",
        "                            cat_names=cat_names, \n",
        "                            cont_names=cont_names, \n",
        "                            procs=procs)\n",
        "                        .split_by_rand_pct(valid_pct = 0.2, #% in the validation set\n",
        "                                           seed = 24) #create validation dataset\n",
        "                        .label_from_df(cols = 'SalePrice', #still not sure what this does, but calling out the dependent variable\n",
        "                                       label_cls = FloatList, #???\n",
        "                                       log = True ) #take log of dependent variable\n",
        "                        .add_test(test) #add the test set (see previous block)\n",
        "                        .databunch()) #defaults from conversion to databunch, you can add batch size"
      ],
      "execution_count": 0,
      "outputs": []
    },
    {
      "cell_type": "code",
      "metadata": {
        "id": "-SPVtcrlumge",
        "colab_type": "code",
        "colab": {}
      },
      "source": [
        "#data.show_batch(rows = 10)"
      ],
      "execution_count": 0,
      "outputs": []
    },
    {
      "cell_type": "markdown",
      "metadata": {
        "id": "V0QamPG2GVMh",
        "colab_type": "text"
      },
      "source": [
        "## Fit the Model"
      ]
    },
    {
      "cell_type": "markdown",
      "metadata": {
        "id": "JEyVPBL4YeiR",
        "colab_type": "text"
      },
      "source": [
        "We'll let the embedding sizes be determined by default. The key metric is rmse of the log(SalePrice)."
      ]
    },
    {
      "cell_type": "code",
      "metadata": {
        "id": "0Rzm9I_MGWmJ",
        "colab_type": "code",
        "colab": {}
      },
      "source": [
        "learn = tabular_learner(data, \n",
        "                        layers=[1000, 1000, 1000], #two cycles with 300 rows then 100 rows in the matrix \n",
        "                        #emb_szs = xxx, #embedding defaults usd\n",
        "                        metrics=rmse, #metric of interest\n",
        "                        ps = [.1, .1, .1], #sets the drop out between cycles\n",
        "                        emb_drop = .1,  #embedding drop-out prior to training\n",
        "                        #callback_fns = ShowGraph\n",
        "                        )"
      ],
      "execution_count": 0,
      "outputs": []
    },
    {
      "cell_type": "code",
      "metadata": {
        "id": "qWD7iMpNJpCR",
        "colab_type": "code",
        "colab": {}
      },
      "source": [
        "#learn.model\n",
        "#learn.summary()"
      ],
      "execution_count": 0,
      "outputs": []
    },
    {
      "cell_type": "markdown",
      "metadata": {
        "id": "skeNkDZJd3Qf",
        "colab_type": "text"
      },
      "source": [
        "First, we embed all of the categorical variables. There are 46 categorical variables.\n",
        "\n",
        "BatchNorm1d is a complicated method of normalization. Linear is 238 in, 300 out. ReLU replaces the negatives with 0s. These three repeat, with one more linear of 100 x 1 for the prediction column."
      ]
    },
    {
      "cell_type": "code",
      "metadata": {
        "id": "OEBXmC6eGYW6",
        "colab_type": "code",
        "outputId": "dd825213-d5bb-4410-fd0b-b841d8c901ee",
        "colab": {
          "base_uri": "https://localhost:8080/",
          "height": 330
        }
      },
      "source": [
        "learn.lr_find()\n",
        "learn.recorder.plot(suggestion=True)"
      ],
      "execution_count": 0,
      "outputs": [
        {
          "output_type": "display_data",
          "data": {
            "text/html": [
              ""
            ],
            "text/plain": [
              "<IPython.core.display.HTML object>"
            ]
          },
          "metadata": {
            "tags": []
          }
        },
        {
          "output_type": "stream",
          "text": [
            "LR Finder is complete, type {learner_name}.recorder.plot() to see the graph.\n",
            "Min numerical gradient: 1.91E-02\n",
            "Min loss divided by 10: 4.37E-02\n"
          ],
          "name": "stdout"
        },
        {
          "output_type": "display_data",
          "data": {
            "image/png": "[encoded data removed]",
            "text/plain": [
              "<Figure size 432x288 with 1 Axes>"
            ]
          },
          "metadata": {
            "tags": []
          }
        }
      ]
    },
    {
      "cell_type": "code",
      "metadata": {
        "id": "CMaH5mSxGjAb",
        "colab_type": "code",
        "outputId": "7b73b2c9-2916-4d20-df1b-c440d681d59a",
        "colab": {
          "base_uri": "https://localhost:8080/",
          "height": 1000
        }
      },
      "source": [
        "learn.fit_one_cycle(cyc_len = 50, \n",
        "                    max_lr=1e-1, \n",
        "                    wd=(1e-1), \n",
        "                    moms=(0.8, 0.7)\n",
        "                   )"
      ],
      "execution_count": 0,
      "outputs": [
        {
          "output_type": "display_data",
          "data": {
            "text/html": [
              "<table border=\"1\" class=\"dataframe\">\n",
              "  <thead>\n",
              "    <tr style=\"text-align: left;\">\n",
              "      <th>epoch</th>\n",
              "      <th>train_loss</th>\n",
              "      <th>valid_loss</th>\n",
              "      <th>root_mean_squared_error</th>\n",
              "      <th>time</th>\n",
              "    </tr>\n",
              "  </thead>\n",
              "  <tbody>\n",
              "    <tr>\n",
              "      <td>0</td>\n",
              "      <td>0.149623</td>\n",
              "      <td>0.116204</td>\n",
              "      <td>0.320019</td>\n",
              "      <td>00:01</td>\n",
              "    </tr>\n",
              "    <tr>\n",
              "      <td>1</td>\n",
              "      <td>0.144642</td>\n",
              "      <td>0.093049</td>\n",
              "      <td>0.293514</td>\n",
              "      <td>00:01</td>\n",
              "    </tr>\n",
              "    <tr>\n",
              "      <td>2</td>\n",
              "      <td>0.137648</td>\n",
              "      <td>0.066764</td>\n",
              "      <td>0.257394</td>\n",
              "      <td>00:01</td>\n",
              "    </tr>\n",
              "    <tr>\n",
              "      <td>3</td>\n",
              "      <td>0.137029</td>\n",
              "      <td>0.096836</td>\n",
              "      <td>0.296156</td>\n",
              "      <td>00:01</td>\n",
              "    </tr>\n",
              "    <tr>\n",
              "      <td>4</td>\n",
              "      <td>0.133591</td>\n",
              "      <td>0.100213</td>\n",
              "      <td>0.299060</td>\n",
              "      <td>00:01</td>\n",
              "    </tr>\n",
              "    <tr>\n",
              "      <td>5</td>\n",
              "      <td>0.137441</td>\n",
              "      <td>0.066807</td>\n",
              "      <td>0.257723</td>\n",
              "      <td>00:01</td>\n",
              "    </tr>\n",
              "    <tr>\n",
              "      <td>6</td>\n",
              "      <td>0.129623</td>\n",
              "      <td>0.065067</td>\n",
              "      <td>0.253345</td>\n",
              "      <td>00:02</td>\n",
              "    </tr>\n",
              "    <tr>\n",
              "      <td>7</td>\n",
              "      <td>0.128473</td>\n",
              "      <td>0.169584</td>\n",
              "      <td>0.411612</td>\n",
              "      <td>00:01</td>\n",
              "    </tr>\n",
              "    <tr>\n",
              "      <td>8</td>\n",
              "      <td>0.143968</td>\n",
              "      <td>0.228274</td>\n",
              "      <td>0.468543</td>\n",
              "      <td>00:01</td>\n",
              "    </tr>\n",
              "    <tr>\n",
              "      <td>9</td>\n",
              "      <td>0.312205</td>\n",
              "      <td>2.085831</td>\n",
              "      <td>1.444043</td>\n",
              "      <td>00:01</td>\n",
              "    </tr>\n",
              "    <tr>\n",
              "      <td>10</td>\n",
              "      <td>0.675395</td>\n",
              "      <td>3.663932</td>\n",
              "      <td>1.913940</td>\n",
              "      <td>00:01</td>\n",
              "    </tr>\n",
              "    <tr>\n",
              "      <td>11</td>\n",
              "      <td>1.040417</td>\n",
              "      <td>0.591564</td>\n",
              "      <td>0.765340</td>\n",
              "      <td>00:01</td>\n",
              "    </tr>\n",
              "    <tr>\n",
              "      <td>12</td>\n",
              "      <td>1.369338</td>\n",
              "      <td>0.076571</td>\n",
              "      <td>0.276174</td>\n",
              "      <td>00:01</td>\n",
              "    </tr>\n",
              "    <tr>\n",
              "      <td>13</td>\n",
              "      <td>1.196700</td>\n",
              "      <td>0.276918</td>\n",
              "      <td>0.525777</td>\n",
              "      <td>00:01</td>\n",
              "    </tr>\n",
              "    <tr>\n",
              "      <td>14</td>\n",
              "      <td>1.412921</td>\n",
              "      <td>0.509769</td>\n",
              "      <td>0.712803</td>\n",
              "      <td>00:01</td>\n",
              "    </tr>\n",
              "    <tr>\n",
              "      <td>15</td>\n",
              "      <td>1.115312</td>\n",
              "      <td>0.893704</td>\n",
              "      <td>0.944630</td>\n",
              "      <td>00:01</td>\n",
              "    </tr>\n",
              "    <tr>\n",
              "      <td>16</td>\n",
              "      <td>1.302049</td>\n",
              "      <td>2.820149</td>\n",
              "      <td>1.678598</td>\n",
              "      <td>00:01</td>\n",
              "    </tr>\n",
              "    <tr>\n",
              "      <td>17</td>\n",
              "      <td>1.054976</td>\n",
              "      <td>0.483649</td>\n",
              "      <td>0.695221</td>\n",
              "      <td>00:01</td>\n",
              "    </tr>\n",
              "    <tr>\n",
              "      <td>18</td>\n",
              "      <td>1.081491</td>\n",
              "      <td>0.253917</td>\n",
              "      <td>0.495204</td>\n",
              "      <td>00:01</td>\n",
              "    </tr>\n",
              "    <tr>\n",
              "      <td>19</td>\n",
              "      <td>0.861511</td>\n",
              "      <td>0.882594</td>\n",
              "      <td>0.939149</td>\n",
              "      <td>00:02</td>\n",
              "    </tr>\n",
              "    <tr>\n",
              "      <td>20</td>\n",
              "      <td>1.021206</td>\n",
              "      <td>0.678782</td>\n",
              "      <td>0.823710</td>\n",
              "      <td>00:01</td>\n",
              "    </tr>\n",
              "    <tr>\n",
              "      <td>21</td>\n",
              "      <td>0.893363</td>\n",
              "      <td>0.918285</td>\n",
              "      <td>0.955967</td>\n",
              "      <td>00:01</td>\n",
              "    </tr>\n",
              "    <tr>\n",
              "      <td>22</td>\n",
              "      <td>0.948684</td>\n",
              "      <td>0.407583</td>\n",
              "      <td>0.637896</td>\n",
              "      <td>00:01</td>\n",
              "    </tr>\n",
              "    <tr>\n",
              "      <td>23</td>\n",
              "      <td>0.806988</td>\n",
              "      <td>0.038784</td>\n",
              "      <td>0.195458</td>\n",
              "      <td>00:01</td>\n",
              "    </tr>\n",
              "    <tr>\n",
              "      <td>24</td>\n",
              "      <td>0.636470</td>\n",
              "      <td>0.347919</td>\n",
              "      <td>0.584705</td>\n",
              "      <td>00:01</td>\n",
              "    </tr>\n",
              "    <tr>\n",
              "      <td>25</td>\n",
              "      <td>0.581492</td>\n",
              "      <td>0.069214</td>\n",
              "      <td>0.256136</td>\n",
              "      <td>00:01</td>\n",
              "    </tr>\n",
              "    <tr>\n",
              "      <td>26</td>\n",
              "      <td>0.505499</td>\n",
              "      <td>0.246786</td>\n",
              "      <td>0.494720</td>\n",
              "      <td>00:01</td>\n",
              "    </tr>\n",
              "    <tr>\n",
              "      <td>27</td>\n",
              "      <td>0.422071</td>\n",
              "      <td>0.116941</td>\n",
              "      <td>0.341138</td>\n",
              "      <td>00:01</td>\n",
              "    </tr>\n",
              "    <tr>\n",
              "      <td>28</td>\n",
              "      <td>0.458262</td>\n",
              "      <td>1.275826</td>\n",
              "      <td>1.128742</td>\n",
              "      <td>00:01</td>\n",
              "    </tr>\n",
              "    <tr>\n",
              "      <td>29</td>\n",
              "      <td>0.475413</td>\n",
              "      <td>0.069631</td>\n",
              "      <td>0.258154</td>\n",
              "      <td>00:01</td>\n",
              "    </tr>\n",
              "    <tr>\n",
              "      <td>30</td>\n",
              "      <td>0.375106</td>\n",
              "      <td>0.128970</td>\n",
              "      <td>0.358746</td>\n",
              "      <td>00:01</td>\n",
              "    </tr>\n",
              "    <tr>\n",
              "      <td>31</td>\n",
              "      <td>0.314552</td>\n",
              "      <td>0.039040</td>\n",
              "      <td>0.197280</td>\n",
              "      <td>00:02</td>\n",
              "    </tr>\n",
              "    <tr>\n",
              "      <td>32</td>\n",
              "      <td>0.261407</td>\n",
              "      <td>0.136744</td>\n",
              "      <td>0.368184</td>\n",
              "      <td>00:01</td>\n",
              "    </tr>\n",
              "    <tr>\n",
              "      <td>33</td>\n",
              "      <td>0.227786</td>\n",
              "      <td>22.598408</td>\n",
              "      <td>4.701048</td>\n",
              "      <td>00:01</td>\n",
              "    </tr>\n",
              "    <tr>\n",
              "      <td>34</td>\n",
              "      <td>0.215265</td>\n",
              "      <td>0.076773</td>\n",
              "      <td>0.275491</td>\n",
              "      <td>00:01</td>\n",
              "    </tr>\n",
              "    <tr>\n",
              "      <td>35</td>\n",
              "      <td>0.185379</td>\n",
              "      <td>33.652935</td>\n",
              "      <td>2.915906</td>\n",
              "      <td>00:02</td>\n",
              "    </tr>\n",
              "    <tr>\n",
              "      <td>36</td>\n",
              "      <td>0.168748</td>\n",
              "      <td>0.064393</td>\n",
              "      <td>0.252144</td>\n",
              "      <td>00:01</td>\n",
              "    </tr>\n",
              "    <tr>\n",
              "      <td>37</td>\n",
              "      <td>0.147834</td>\n",
              "      <td>0.025890</td>\n",
              "      <td>0.157261</td>\n",
              "      <td>00:01</td>\n",
              "    </tr>\n",
              "    <tr>\n",
              "      <td>38</td>\n",
              "      <td>0.132779</td>\n",
              "      <td>0.078227</td>\n",
              "      <td>0.278831</td>\n",
              "      <td>00:02</td>\n",
              "    </tr>\n",
              "    <tr>\n",
              "      <td>39</td>\n",
              "      <td>0.120035</td>\n",
              "      <td>0.050854</td>\n",
              "      <td>0.224525</td>\n",
              "      <td>00:01</td>\n",
              "    </tr>\n",
              "    <tr>\n",
              "      <td>40</td>\n",
              "      <td>0.108357</td>\n",
              "      <td>0.065224</td>\n",
              "      <td>0.254842</td>\n",
              "      <td>00:01</td>\n",
              "    </tr>\n",
              "    <tr>\n",
              "      <td>41</td>\n",
              "      <td>0.102462</td>\n",
              "      <td>0.060668</td>\n",
              "      <td>0.245753</td>\n",
              "      <td>00:01</td>\n",
              "    </tr>\n",
              "    <tr>\n",
              "      <td>42</td>\n",
              "      <td>0.097084</td>\n",
              "      <td>14.260036</td>\n",
              "      <td>1.933224</td>\n",
              "      <td>00:01</td>\n",
              "    </tr>\n",
              "    <tr>\n",
              "      <td>43</td>\n",
              "      <td>0.090864</td>\n",
              "      <td>0.047344</td>\n",
              "      <td>0.215017</td>\n",
              "      <td>00:01</td>\n",
              "    </tr>\n",
              "    <tr>\n",
              "      <td>44</td>\n",
              "      <td>0.086697</td>\n",
              "      <td>0.221832</td>\n",
              "      <td>0.373273</td>\n",
              "      <td>00:02</td>\n",
              "    </tr>\n",
              "    <tr>\n",
              "      <td>45</td>\n",
              "      <td>0.083093</td>\n",
              "      <td>0.084803</td>\n",
              "      <td>0.257868</td>\n",
              "      <td>00:01</td>\n",
              "    </tr>\n",
              "    <tr>\n",
              "      <td>46</td>\n",
              "      <td>0.080142</td>\n",
              "      <td>0.141860</td>\n",
              "      <td>0.293516</td>\n",
              "      <td>00:01</td>\n",
              "    </tr>\n",
              "    <tr>\n",
              "      <td>47</td>\n",
              "      <td>0.076490</td>\n",
              "      <td>0.037374</td>\n",
              "      <td>0.177773</td>\n",
              "      <td>00:02</td>\n",
              "    </tr>\n",
              "    <tr>\n",
              "      <td>48</td>\n",
              "      <td>0.072610</td>\n",
              "      <td>0.046576</td>\n",
              "      <td>0.184634</td>\n",
              "      <td>00:01</td>\n",
              "    </tr>\n",
              "    <tr>\n",
              "      <td>49</td>\n",
              "      <td>0.070155</td>\n",
              "      <td>0.032655</td>\n",
              "      <td>0.165540</td>\n",
              "      <td>00:02</td>\n",
              "    </tr>\n",
              "  </tbody>\n",
              "</table>"
            ],
            "text/plain": [
              "<IPython.core.display.HTML object>"
            ]
          },
          "metadata": {
            "tags": []
          }
        }
      ]
    },
    {
      "cell_type": "markdown",
      "metadata": {
        "id": "MG_soFNwhcDJ",
        "colab_type": "text"
      },
      "source": [
        "Trial Best: .009275; .093508"
      ]
    },
    {
      "cell_type": "code",
      "metadata": {
        "id": "h7BDwx2gd7P5",
        "colab_type": "code",
        "colab": {}
      },
      "source": [
        "#learn.save('11.13.model')"
      ],
      "execution_count": 0,
      "outputs": []
    },
    {
      "cell_type": "code",
      "metadata": {
        "id": "MeI_zxl0Jm_I",
        "colab_type": "code",
        "outputId": "f1897591-992e-4da0-b8fb-c90d804d0e08",
        "colab": {
          "base_uri": "https://localhost:8080/",
          "height": 281
        }
      },
      "source": [
        "learn.recorder.plot_losses() #works best after running through a cycle (y limit decreases)"
      ],
      "execution_count": 0,
      "outputs": [
        {
          "output_type": "display_data",
          "data": {
            "image/png": "[encoded data removed]",
            "text/plain": [
              "<Figure size 432x288 with 1 Axes>"
            ]
          },
          "metadata": {
            "tags": []
          }
        }
      ]
    },
    {
      "cell_type": "markdown",
      "metadata": {
        "id": "UveWRfVbdxtK",
        "colab_type": "text"
      },
      "source": [
        "## Model Analysis"
      ]
    },
    {
      "cell_type": "markdown",
      "metadata": {
        "id": "bRStY010JvQP",
        "colab_type": "text"
      },
      "source": [
        "### Predictions"
      ]
    },
    {
      "cell_type": "code",
      "metadata": {
        "id": "QyyaFCw4JwtU",
        "colab_type": "code",
        "outputId": "c48703a0-1fe7-4ba3-897a-1387894ec92f",
        "colab": {
          "base_uri": "https://localhost:8080/",
          "height": 51
        }
      },
      "source": [
        "# get predictions\n",
        "preds, targets = learn.get_preds(DatasetType.Test)\n",
        "labels = [np.exp(p[0].data.item()) for p in preds]"
      ],
      "execution_count": 0,
      "outputs": [
        {
          "output_type": "stream",
          "text": [
            "/usr/local/lib/python3.6/dist-packages/ipykernel_launcher.py:2: RuntimeWarning: overflow encountered in exp\n",
            "  \n"
          ],
          "name": "stderr"
        }
      ]
    },
    {
      "cell_type": "code",
      "metadata": {
        "id": "Ro607NocJ7Jk",
        "colab_type": "code",
        "outputId": "0cb548bd-db6b-488c-8f26-26c4f8353f8d",
        "colab": {
          "base_uri": "https://localhost:8080/",
          "height": 204
        }
      },
      "source": [
        "# create submission file to submit in Kaggle competition\n",
        "submission = pd.DataFrame({'Id': test_ID, 'SalePrice': labels})\n",
        "submission.head()"
      ],
      "execution_count": 0,
      "outputs": [
        {
          "output_type": "execute_result",
          "data": {
            "text/html": [
              "<div>\n",
              "<style scoped>\n",
              "    .dataframe tbody tr th:only-of-type {\n",
              "        vertical-align: middle;\n",
              "    }\n",
              "\n",
              "    .dataframe tbody tr th {\n",
              "        vertical-align: top;\n",
              "    }\n",
              "\n",
              "    .dataframe thead th {\n",
              "        text-align: right;\n",
              "    }\n",
              "</style>\n",
              "<table border=\"1\" class=\"dataframe\">\n",
              "  <thead>\n",
              "    <tr style=\"text-align: right;\">\n",
              "      <th></th>\n",
              "      <th>Id</th>\n",
              "      <th>SalePrice</th>\n",
              "    </tr>\n",
              "  </thead>\n",
              "  <tbody>\n",
              "    <tr>\n",
              "      <th>0</th>\n",
              "      <td>1461</td>\n",
              "      <td>inf</td>\n",
              "    </tr>\n",
              "    <tr>\n",
              "      <th>1</th>\n",
              "      <td>1462</td>\n",
              "      <td>inf</td>\n",
              "    </tr>\n",
              "    <tr>\n",
              "      <th>2</th>\n",
              "      <td>1463</td>\n",
              "      <td>inf</td>\n",
              "    </tr>\n",
              "    <tr>\n",
              "      <th>3</th>\n",
              "      <td>1464</td>\n",
              "      <td>inf</td>\n",
              "    </tr>\n",
              "    <tr>\n",
              "      <th>4</th>\n",
              "      <td>1465</td>\n",
              "      <td>inf</td>\n",
              "    </tr>\n",
              "  </tbody>\n",
              "</table>\n",
              "</div>"
            ],
            "text/plain": [
              "     Id  SalePrice\n",
              "0  1461        inf\n",
              "1  1462        inf\n",
              "2  1463        inf\n",
              "3  1464        inf\n",
              "4  1465        inf"
            ]
          },
          "metadata": {
            "tags": []
          },
          "execution_count": 81
        }
      ]
    },
    {
      "cell_type": "code",
      "metadata": {
        "id": "e1asubUDPyIJ",
        "colab_type": "code",
        "colab": {}
      },
      "source": [
        "submission.to_csv('submission.csv', index=False)"
      ],
      "execution_count": 0,
      "outputs": []
    },
    {
      "cell_type": "code",
      "metadata": {
        "id": "SYB1ig-feNw2",
        "colab_type": "code",
        "colab": {}
      },
      "source": [
        ""
      ],
      "execution_count": 0,
      "outputs": []
    }
  ]
}