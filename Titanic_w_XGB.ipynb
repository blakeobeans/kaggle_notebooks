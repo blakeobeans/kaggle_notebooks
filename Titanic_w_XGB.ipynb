{
  "nbformat": 4,
  "nbformat_minor": 0,
  "metadata": {
    "colab": {
      "name": "Titanic w XGB.ipynb",
      "provenance": [],
      "collapsed_sections": [],
      "toc_visible": true,
      "authorship_tag": "ABX9TyPT4VUvVOt/zWKBtxOrsHpf",
      "include_colab_link": true
    },
    "kernelspec": {
      "name": "python3",
      "display_name": "Python 3"
    },
    "accelerator": "GPU"
  },
  "cells": [
    {
      "cell_type": "markdown",
      "metadata": {
        "id": "view-in-github",
        "colab_type": "text"
      },
      "source": [
        "<a href=\"https://colab.research.google.com/github/blakeobeans/kaggle_notebooks/blob/master/Titanic_w_XGB.ipynb\" target=\"_parent\"><img src=\"https://colab.research.google.com/assets/colab-badge.svg\" alt=\"Open In Colab\"/></a>"
      ]
    },
    {
      "cell_type": "code",
      "metadata": {
        "id": "VbFecG4lG6fc",
        "colab_type": "code",
        "colab": {}
      },
      "source": [
        "import matplotlib.pyplot as plt"
      ],
      "execution_count": 0,
      "outputs": []
    },
    {
      "cell_type": "markdown",
      "metadata": {
        "id": "adGG4UD7QRuo",
        "colab_type": "text"
      },
      "source": [
        "### Mount Google Drive"
      ]
    },
    {
      "cell_type": "code",
      "metadata": {
        "id": "k9wF7WXQLqer",
        "colab_type": "code",
        "outputId": "eac3a8e8-53fd-41a2-e191-2657373c18ce",
        "colab": {
          "base_uri": "https://localhost:8080/",
          "height": 125
        }
      },
      "source": [
        "from google.colab import drive\n",
        "import os\n",
        "drive.mount('/content/drive')"
      ],
      "execution_count": 3,
      "outputs": [
        {
          "output_type": "stream",
          "text": [
            "Go to this URL in a browser: https://accounts.google.com/o/oauth2/auth?client_id=947318989803-6bn6qk8qdgf4n4g3pfee6491hc0brc4i.apps.googleusercontent.com&redirect_uri=urn%3aietf%3awg%3aoauth%3a2.0%3aoob&response_type=code&scope=email%20https%3a%2f%2fwww.googleapis.com%2fauth%2fdocs.test%20https%3a%2f%2fwww.googleapis.com%2fauth%2fdrive%20https%3a%2f%2fwww.googleapis.com%2fauth%2fdrive.photos.readonly%20https%3a%2f%2fwww.googleapis.com%2fauth%2fpeopleapi.readonly\n",
            "\n",
            "Enter your authorization code:\n",
            "··········\n",
            "Mounted at /content/drive\n"
          ],
          "name": "stdout"
        }
      ]
    },
    {
      "cell_type": "code",
      "metadata": {
        "id": "n8GDt876LyTa",
        "colab_type": "code",
        "outputId": "c0037905-f678-4a46-ca23-1c8ee86617fb",
        "colab": {
          "base_uri": "https://localhost:8080/",
          "height": 34
        }
      },
      "source": [
        "#set wd\n",
        "path = '/content/drive/My Drive/Colab Notebooks/Kaggle/Titanic'\n",
        "os.chdir(path)\n",
        "path"
      ],
      "execution_count": 4,
      "outputs": [
        {
          "output_type": "execute_result",
          "data": {
            "text/plain": [
              "'/content/drive/My Drive/Colab Notebooks/Kaggle/Titanic'"
            ]
          },
          "metadata": {
            "tags": []
          },
          "execution_count": 4
        }
      ]
    },
    {
      "cell_type": "code",
      "metadata": {
        "id": "jOk809CjOeIl",
        "colab_type": "code",
        "colab": {}
      },
      "source": [
        "from google.colab import files"
      ],
      "execution_count": 0,
      "outputs": []
    },
    {
      "cell_type": "markdown",
      "metadata": {
        "id": "PjdIja4QQWYy",
        "colab_type": "text"
      },
      "source": [
        "### Set API Creds"
      ]
    },
    {
      "cell_type": "code",
      "metadata": {
        "id": "0QS8DEHfOZxH",
        "colab_type": "code",
        "colab": {}
      },
      "source": [
        "import os\n",
        "os.environ['KAGGLE_USERNAME'] = \"blakeobeans\""
      ],
      "execution_count": 0,
      "outputs": []
    },
    {
      "cell_type": "code",
      "metadata": {
        "id": "l3fmpdGVOjh2",
        "colab_type": "code",
        "colab": {}
      },
      "source": [
        "#note- enter API key here\n",
        "os.environ['KAGGLE_KEY'] = open(\"api_key.txt\").read()"
      ],
      "execution_count": 0,
      "outputs": []
    },
    {
      "cell_type": "markdown",
      "metadata": {
        "id": "1KQesDeaQclL",
        "colab_type": "text"
      },
      "source": [
        "### Download Data"
      ]
    },
    {
      "cell_type": "code",
      "metadata": {
        "id": "0ikzVesFOsiD",
        "colab_type": "code",
        "outputId": "7608f013-d6ca-45ce-a54f-958fc2ddf19d",
        "colab": {
          "base_uri": "https://localhost:8080/",
          "height": 87
        }
      },
      "source": [
        "!kaggle competitions download -c titanic"
      ],
      "execution_count": 0,
      "outputs": [
        {
          "output_type": "stream",
          "text": [
            "Warning: Looks like you're using an outdated API Version, please consider updating (server 1.5.6 / client 1.5.4)\n",
            "train.csv: Skipping, found more recently modified local copy (use --force to force download)\n",
            "test.csv: Skipping, found more recently modified local copy (use --force to force download)\n",
            "gender_submission.csv: Skipping, found more recently modified local copy (use --force to force download)\n"
          ],
          "name": "stdout"
        }
      ]
    },
    {
      "cell_type": "markdown",
      "metadata": {
        "id": "4NDGszR9QKwq",
        "colab_type": "text"
      },
      "source": [
        "### Import Data"
      ]
    },
    {
      "cell_type": "code",
      "metadata": {
        "id": "Pg_aSJI1QOFJ",
        "colab_type": "code",
        "colab": {}
      },
      "source": [
        "import pandas as pd"
      ],
      "execution_count": 0,
      "outputs": []
    },
    {
      "cell_type": "code",
      "metadata": {
        "id": "YcSsZpzAK6my",
        "colab_type": "code",
        "colab": {}
      },
      "source": [
        "train = pd.read_csv('train.csv')\n",
        "test = pd.read_csv('test.csv')"
      ],
      "execution_count": 0,
      "outputs": []
    },
    {
      "cell_type": "markdown",
      "metadata": {
        "id": "8N2u7DLe6f8Y",
        "colab_type": "text"
      },
      "source": [
        "## Exploratory Analysis"
      ]
    },
    {
      "cell_type": "code",
      "metadata": {
        "id": "osRdIojFQPVq",
        "colab_type": "code",
        "outputId": "ef6cf1f1-4b80-4129-b87e-fc601858d84f",
        "colab": {
          "base_uri": "https://localhost:8080/",
          "height": 204
        }
      },
      "source": [
        "train.head()"
      ],
      "execution_count": 0,
      "outputs": [
        {
          "output_type": "execute_result",
          "data": {
            "text/html": [
              "<div>\n",
              "<style scoped>\n",
              "    .dataframe tbody tr th:only-of-type {\n",
              "        vertical-align: middle;\n",
              "    }\n",
              "\n",
              "    .dataframe tbody tr th {\n",
              "        vertical-align: top;\n",
              "    }\n",
              "\n",
              "    .dataframe thead th {\n",
              "        text-align: right;\n",
              "    }\n",
              "</style>\n",
              "<table border=\"1\" class=\"dataframe\">\n",
              "  <thead>\n",
              "    <tr style=\"text-align: right;\">\n",
              "      <th></th>\n",
              "      <th>PassengerId</th>\n",
              "      <th>Survived</th>\n",
              "      <th>Pclass</th>\n",
              "      <th>Name</th>\n",
              "      <th>Sex</th>\n",
              "      <th>Age</th>\n",
              "      <th>SibSp</th>\n",
              "      <th>Parch</th>\n",
              "      <th>Ticket</th>\n",
              "      <th>Fare</th>\n",
              "      <th>Cabin</th>\n",
              "      <th>Embarked</th>\n",
              "    </tr>\n",
              "  </thead>\n",
              "  <tbody>\n",
              "    <tr>\n",
              "      <th>0</th>\n",
              "      <td>1</td>\n",
              "      <td>0</td>\n",
              "      <td>3</td>\n",
              "      <td>Braund, Mr. Owen Harris</td>\n",
              "      <td>male</td>\n",
              "      <td>22.0</td>\n",
              "      <td>1</td>\n",
              "      <td>0</td>\n",
              "      <td>A/5 21171</td>\n",
              "      <td>7.2500</td>\n",
              "      <td>NaN</td>\n",
              "      <td>S</td>\n",
              "    </tr>\n",
              "    <tr>\n",
              "      <th>1</th>\n",
              "      <td>2</td>\n",
              "      <td>1</td>\n",
              "      <td>1</td>\n",
              "      <td>Cumings, Mrs. John Bradley (Florence Briggs Th...</td>\n",
              "      <td>female</td>\n",
              "      <td>38.0</td>\n",
              "      <td>1</td>\n",
              "      <td>0</td>\n",
              "      <td>PC 17599</td>\n",
              "      <td>71.2833</td>\n",
              "      <td>C85</td>\n",
              "      <td>C</td>\n",
              "    </tr>\n",
              "    <tr>\n",
              "      <th>2</th>\n",
              "      <td>3</td>\n",
              "      <td>1</td>\n",
              "      <td>3</td>\n",
              "      <td>Heikkinen, Miss. Laina</td>\n",
              "      <td>female</td>\n",
              "      <td>26.0</td>\n",
              "      <td>0</td>\n",
              "      <td>0</td>\n",
              "      <td>STON/O2. 3101282</td>\n",
              "      <td>7.9250</td>\n",
              "      <td>NaN</td>\n",
              "      <td>S</td>\n",
              "    </tr>\n",
              "    <tr>\n",
              "      <th>3</th>\n",
              "      <td>4</td>\n",
              "      <td>1</td>\n",
              "      <td>1</td>\n",
              "      <td>Futrelle, Mrs. Jacques Heath (Lily May Peel)</td>\n",
              "      <td>female</td>\n",
              "      <td>35.0</td>\n",
              "      <td>1</td>\n",
              "      <td>0</td>\n",
              "      <td>113803</td>\n",
              "      <td>53.1000</td>\n",
              "      <td>C123</td>\n",
              "      <td>S</td>\n",
              "    </tr>\n",
              "    <tr>\n",
              "      <th>4</th>\n",
              "      <td>5</td>\n",
              "      <td>0</td>\n",
              "      <td>3</td>\n",
              "      <td>Allen, Mr. William Henry</td>\n",
              "      <td>male</td>\n",
              "      <td>35.0</td>\n",
              "      <td>0</td>\n",
              "      <td>0</td>\n",
              "      <td>373450</td>\n",
              "      <td>8.0500</td>\n",
              "      <td>NaN</td>\n",
              "      <td>S</td>\n",
              "    </tr>\n",
              "  </tbody>\n",
              "</table>\n",
              "</div>"
            ],
            "text/plain": [
              "   PassengerId  Survived  Pclass  ...     Fare Cabin  Embarked\n",
              "0            1         0       3  ...   7.2500   NaN         S\n",
              "1            2         1       1  ...  71.2833   C85         C\n",
              "2            3         1       3  ...   7.9250   NaN         S\n",
              "3            4         1       1  ...  53.1000  C123         S\n",
              "4            5         0       3  ...   8.0500   NaN         S\n",
              "\n",
              "[5 rows x 12 columns]"
            ]
          },
          "metadata": {
            "tags": []
          },
          "execution_count": 261
        }
      ]
    },
    {
      "cell_type": "code",
      "metadata": {
        "id": "JBF0HnW0HbxU",
        "colab_type": "code",
        "outputId": "2d726487-301a-47c5-a917-d2f08d862ab9",
        "colab": {
          "base_uri": "https://localhost:8080/",
          "height": 34
        }
      },
      "source": [
        "train.shape"
      ],
      "execution_count": 0,
      "outputs": [
        {
          "output_type": "execute_result",
          "data": {
            "text/plain": [
              "(891, 12)"
            ]
          },
          "metadata": {
            "tags": []
          },
          "execution_count": 262
        }
      ]
    },
    {
      "cell_type": "code",
      "metadata": {
        "id": "zGXq7cFdAxBv",
        "colab_type": "code",
        "outputId": "bd91a17a-0abc-4261-a39c-433ddfebb301",
        "colab": {
          "base_uri": "https://localhost:8080/",
          "height": 34
        }
      },
      "source": [
        "test.shape"
      ],
      "execution_count": 0,
      "outputs": [
        {
          "output_type": "execute_result",
          "data": {
            "text/plain": [
              "(418, 11)"
            ]
          },
          "metadata": {
            "tags": []
          },
          "execution_count": 263
        }
      ]
    },
    {
      "cell_type": "markdown",
      "metadata": {
        "id": "R31GHJUPIoxh",
        "colab_type": "text"
      },
      "source": [
        "## Feature Engineering"
      ]
    },
    {
      "cell_type": "markdown",
      "metadata": {
        "id": "YPA0xmz4nEgr",
        "colab_type": "text"
      },
      "source": [
        "### Data Concatenation"
      ]
    },
    {
      "cell_type": "code",
      "metadata": {
        "id": "-z5V3fdbnI9T",
        "colab_type": "code",
        "colab": {}
      },
      "source": [
        "train_labels = train['Survived'] #resume working with labels in section  \"Splitting Data\""
      ],
      "execution_count": 0,
      "outputs": []
    },
    {
      "cell_type": "code",
      "metadata": {
        "id": "53metstJnQ3t",
        "colab_type": "code",
        "colab": {}
      },
      "source": [
        "train = train.drop(['Survived'], axis = 1)"
      ],
      "execution_count": 0,
      "outputs": []
    },
    {
      "cell_type": "code",
      "metadata": {
        "id": "HXd0xDltntrz",
        "colab_type": "code",
        "colab": {}
      },
      "source": [
        "df = pd.concat([train, test], axis = 0)"
      ],
      "execution_count": 0,
      "outputs": []
    },
    {
      "cell_type": "code",
      "metadata": {
        "id": "wFg9qWtrog9C",
        "colab_type": "code",
        "outputId": "22ee538d-de3b-4bb5-d10d-a55917c2413d",
        "colab": {
          "base_uri": "https://localhost:8080/",
          "height": 204
        }
      },
      "source": [
        "df.head()"
      ],
      "execution_count": 0,
      "outputs": [
        {
          "output_type": "execute_result",
          "data": {
            "text/html": [
              "<div>\n",
              "<style scoped>\n",
              "    .dataframe tbody tr th:only-of-type {\n",
              "        vertical-align: middle;\n",
              "    }\n",
              "\n",
              "    .dataframe tbody tr th {\n",
              "        vertical-align: top;\n",
              "    }\n",
              "\n",
              "    .dataframe thead th {\n",
              "        text-align: right;\n",
              "    }\n",
              "</style>\n",
              "<table border=\"1\" class=\"dataframe\">\n",
              "  <thead>\n",
              "    <tr style=\"text-align: right;\">\n",
              "      <th></th>\n",
              "      <th>PassengerId</th>\n",
              "      <th>Pclass</th>\n",
              "      <th>Name</th>\n",
              "      <th>Sex</th>\n",
              "      <th>Age</th>\n",
              "      <th>SibSp</th>\n",
              "      <th>Parch</th>\n",
              "      <th>Ticket</th>\n",
              "      <th>Fare</th>\n",
              "      <th>Cabin</th>\n",
              "      <th>Embarked</th>\n",
              "    </tr>\n",
              "  </thead>\n",
              "  <tbody>\n",
              "    <tr>\n",
              "      <th>0</th>\n",
              "      <td>1</td>\n",
              "      <td>3</td>\n",
              "      <td>Braund, Mr. Owen Harris</td>\n",
              "      <td>male</td>\n",
              "      <td>22.0</td>\n",
              "      <td>1</td>\n",
              "      <td>0</td>\n",
              "      <td>A/5 21171</td>\n",
              "      <td>7.2500</td>\n",
              "      <td>NaN</td>\n",
              "      <td>S</td>\n",
              "    </tr>\n",
              "    <tr>\n",
              "      <th>1</th>\n",
              "      <td>2</td>\n",
              "      <td>1</td>\n",
              "      <td>Cumings, Mrs. John Bradley (Florence Briggs Th...</td>\n",
              "      <td>female</td>\n",
              "      <td>38.0</td>\n",
              "      <td>1</td>\n",
              "      <td>0</td>\n",
              "      <td>PC 17599</td>\n",
              "      <td>71.2833</td>\n",
              "      <td>C85</td>\n",
              "      <td>C</td>\n",
              "    </tr>\n",
              "    <tr>\n",
              "      <th>2</th>\n",
              "      <td>3</td>\n",
              "      <td>3</td>\n",
              "      <td>Heikkinen, Miss. Laina</td>\n",
              "      <td>female</td>\n",
              "      <td>26.0</td>\n",
              "      <td>0</td>\n",
              "      <td>0</td>\n",
              "      <td>STON/O2. 3101282</td>\n",
              "      <td>7.9250</td>\n",
              "      <td>NaN</td>\n",
              "      <td>S</td>\n",
              "    </tr>\n",
              "    <tr>\n",
              "      <th>3</th>\n",
              "      <td>4</td>\n",
              "      <td>1</td>\n",
              "      <td>Futrelle, Mrs. Jacques Heath (Lily May Peel)</td>\n",
              "      <td>female</td>\n",
              "      <td>35.0</td>\n",
              "      <td>1</td>\n",
              "      <td>0</td>\n",
              "      <td>113803</td>\n",
              "      <td>53.1000</td>\n",
              "      <td>C123</td>\n",
              "      <td>S</td>\n",
              "    </tr>\n",
              "    <tr>\n",
              "      <th>4</th>\n",
              "      <td>5</td>\n",
              "      <td>3</td>\n",
              "      <td>Allen, Mr. William Henry</td>\n",
              "      <td>male</td>\n",
              "      <td>35.0</td>\n",
              "      <td>0</td>\n",
              "      <td>0</td>\n",
              "      <td>373450</td>\n",
              "      <td>8.0500</td>\n",
              "      <td>NaN</td>\n",
              "      <td>S</td>\n",
              "    </tr>\n",
              "  </tbody>\n",
              "</table>\n",
              "</div>"
            ],
            "text/plain": [
              "   PassengerId  Pclass  ... Cabin Embarked\n",
              "0            1       3  ...   NaN        S\n",
              "1            2       1  ...   C85        C\n",
              "2            3       3  ...   NaN        S\n",
              "3            4       1  ...  C123        S\n",
              "4            5       3  ...   NaN        S\n",
              "\n",
              "[5 rows x 11 columns]"
            ]
          },
          "metadata": {
            "tags": []
          },
          "execution_count": 267
        }
      ]
    },
    {
      "cell_type": "markdown",
      "metadata": {
        "colab_type": "text",
        "id": "BumeyBd3oUsu"
      },
      "source": [
        "### Remove irrelevant variables"
      ]
    },
    {
      "cell_type": "code",
      "metadata": {
        "colab_type": "code",
        "id": "GFwxtQLp0IaN",
        "colab": {}
      },
      "source": [
        "#Removing 'PassengerID'\n",
        "df = df.drop(['PassengerId'], axis = 1)"
      ],
      "execution_count": 0,
      "outputs": []
    },
    {
      "cell_type": "markdown",
      "metadata": {
        "id": "17KLwwL8xpM-",
        "colab_type": "text"
      },
      "source": [
        "### Missing Data Imputation"
      ]
    },
    {
      "cell_type": "code",
      "metadata": {
        "id": "v-LVuYV3pCXj",
        "colab_type": "code",
        "outputId": "7690c29e-dd6b-4d32-c6b6-8df413dfc9d1",
        "colab": {
          "base_uri": "https://localhost:8080/",
          "height": 204
        }
      },
      "source": [
        "df.isna().sum()"
      ],
      "execution_count": 0,
      "outputs": [
        {
          "output_type": "execute_result",
          "data": {
            "text/plain": [
              "Pclass         0\n",
              "Name           0\n",
              "Sex            0\n",
              "Age          263\n",
              "SibSp          0\n",
              "Parch          0\n",
              "Ticket         0\n",
              "Fare           1\n",
              "Cabin       1014\n",
              "Embarked       2\n",
              "dtype: int64"
            ]
          },
          "metadata": {
            "tags": []
          },
          "execution_count": 269
        }
      ]
    },
    {
      "cell_type": "markdown",
      "metadata": {
        "id": "4y4S_W7kNtsS",
        "colab_type": "text"
      },
      "source": [
        "Missing data for age, fare, cabin and embarked."
      ]
    },
    {
      "cell_type": "code",
      "metadata": {
        "id": "Yak5ZUXgp0LF",
        "colab_type": "code",
        "outputId": "2153fbae-d642-47d8-c94f-43a3e8ccf8c8",
        "colab": {
          "base_uri": "https://localhost:8080/",
          "height": 204
        }
      },
      "source": [
        "df.corr()"
      ],
      "execution_count": 0,
      "outputs": [
        {
          "output_type": "execute_result",
          "data": {
            "text/html": [
              "<div>\n",
              "<style scoped>\n",
              "    .dataframe tbody tr th:only-of-type {\n",
              "        vertical-align: middle;\n",
              "    }\n",
              "\n",
              "    .dataframe tbody tr th {\n",
              "        vertical-align: top;\n",
              "    }\n",
              "\n",
              "    .dataframe thead th {\n",
              "        text-align: right;\n",
              "    }\n",
              "</style>\n",
              "<table border=\"1\" class=\"dataframe\">\n",
              "  <thead>\n",
              "    <tr style=\"text-align: right;\">\n",
              "      <th></th>\n",
              "      <th>Pclass</th>\n",
              "      <th>Age</th>\n",
              "      <th>SibSp</th>\n",
              "      <th>Parch</th>\n",
              "      <th>Fare</th>\n",
              "    </tr>\n",
              "  </thead>\n",
              "  <tbody>\n",
              "    <tr>\n",
              "      <th>Pclass</th>\n",
              "      <td>1.000000</td>\n",
              "      <td>-0.408106</td>\n",
              "      <td>0.060832</td>\n",
              "      <td>0.018322</td>\n",
              "      <td>-0.558629</td>\n",
              "    </tr>\n",
              "    <tr>\n",
              "      <th>Age</th>\n",
              "      <td>-0.408106</td>\n",
              "      <td>1.000000</td>\n",
              "      <td>-0.243699</td>\n",
              "      <td>-0.150917</td>\n",
              "      <td>0.178740</td>\n",
              "    </tr>\n",
              "    <tr>\n",
              "      <th>SibSp</th>\n",
              "      <td>0.060832</td>\n",
              "      <td>-0.243699</td>\n",
              "      <td>1.000000</td>\n",
              "      <td>0.373587</td>\n",
              "      <td>0.160238</td>\n",
              "    </tr>\n",
              "    <tr>\n",
              "      <th>Parch</th>\n",
              "      <td>0.018322</td>\n",
              "      <td>-0.150917</td>\n",
              "      <td>0.373587</td>\n",
              "      <td>1.000000</td>\n",
              "      <td>0.221539</td>\n",
              "    </tr>\n",
              "    <tr>\n",
              "      <th>Fare</th>\n",
              "      <td>-0.558629</td>\n",
              "      <td>0.178740</td>\n",
              "      <td>0.160238</td>\n",
              "      <td>0.221539</td>\n",
              "      <td>1.000000</td>\n",
              "    </tr>\n",
              "  </tbody>\n",
              "</table>\n",
              "</div>"
            ],
            "text/plain": [
              "          Pclass       Age     SibSp     Parch      Fare\n",
              "Pclass  1.000000 -0.408106  0.060832  0.018322 -0.558629\n",
              "Age    -0.408106  1.000000 -0.243699 -0.150917  0.178740\n",
              "SibSp   0.060832 -0.243699  1.000000  0.373587  0.160238\n",
              "Parch   0.018322 -0.150917  0.373587  1.000000  0.221539\n",
              "Fare   -0.558629  0.178740  0.160238  0.221539  1.000000"
            ]
          },
          "metadata": {
            "tags": []
          },
          "execution_count": 270
        }
      ]
    },
    {
      "cell_type": "markdown",
      "metadata": {
        "id": "J8wweeViprax",
        "colab_type": "text"
      },
      "source": [
        "#### 'Age'"
      ]
    },
    {
      "cell_type": "markdown",
      "metadata": {
        "id": "wWMRJt6UqCoQ",
        "colab_type": "text"
      },
      "source": [
        "Age is most closely correlated with Pclass and SibSp, so we'll impute after grouping by these two variables."
      ]
    },
    {
      "cell_type": "code",
      "metadata": {
        "id": "k9RMMr9wqNIw",
        "colab_type": "code",
        "colab": {}
      },
      "source": [
        "#df.groupby(['Pclass', 'SibSp']).median()['Age']\n",
        "df['Age'] = df.groupby(['Pclass', 'SibSp'])['Age'].transform(lambda x: x.fillna(x.median()))"
      ],
      "execution_count": 0,
      "outputs": []
    },
    {
      "cell_type": "markdown",
      "metadata": {
        "id": "EsE7Xh4Ssww8",
        "colab_type": "text"
      },
      "source": [
        "#### 'Embarked'"
      ]
    },
    {
      "cell_type": "code",
      "metadata": {
        "id": "t0lMVzpQs1r3",
        "colab_type": "code",
        "colab": {}
      },
      "source": [
        "#Googling identifies passenger by name- departed from Southampton\n",
        "df['Embarked'] = df['Embarked'].fillna('S')"
      ],
      "execution_count": 0,
      "outputs": []
    },
    {
      "cell_type": "markdown",
      "metadata": {
        "id": "xkpaMmibtUMR",
        "colab_type": "text"
      },
      "source": [
        "#### 'Fare'"
      ]
    },
    {
      "cell_type": "code",
      "metadata": {
        "id": "Znf6iR_tuQ6p",
        "colab_type": "code",
        "outputId": "d0ae6ec4-ccbb-44db-826f-fc90ae779ce4",
        "colab": {
          "base_uri": "https://localhost:8080/",
          "height": 80
        }
      },
      "source": [
        "df[df['Fare'].isnull()]"
      ],
      "execution_count": 0,
      "outputs": [
        {
          "output_type": "execute_result",
          "data": {
            "text/html": [
              "<div>\n",
              "<style scoped>\n",
              "    .dataframe tbody tr th:only-of-type {\n",
              "        vertical-align: middle;\n",
              "    }\n",
              "\n",
              "    .dataframe tbody tr th {\n",
              "        vertical-align: top;\n",
              "    }\n",
              "\n",
              "    .dataframe thead th {\n",
              "        text-align: right;\n",
              "    }\n",
              "</style>\n",
              "<table border=\"1\" class=\"dataframe\">\n",
              "  <thead>\n",
              "    <tr style=\"text-align: right;\">\n",
              "      <th></th>\n",
              "      <th>Pclass</th>\n",
              "      <th>Name</th>\n",
              "      <th>Sex</th>\n",
              "      <th>Age</th>\n",
              "      <th>SibSp</th>\n",
              "      <th>Parch</th>\n",
              "      <th>Ticket</th>\n",
              "      <th>Fare</th>\n",
              "      <th>Cabin</th>\n",
              "      <th>Embarked</th>\n",
              "    </tr>\n",
              "  </thead>\n",
              "  <tbody>\n",
              "    <tr>\n",
              "      <th>152</th>\n",
              "      <td>3</td>\n",
              "      <td>Storey, Mr. Thomas</td>\n",
              "      <td>male</td>\n",
              "      <td>60.5</td>\n",
              "      <td>0</td>\n",
              "      <td>0</td>\n",
              "      <td>3701</td>\n",
              "      <td>NaN</td>\n",
              "      <td>NaN</td>\n",
              "      <td>S</td>\n",
              "    </tr>\n",
              "  </tbody>\n",
              "</table>\n",
              "</div>"
            ],
            "text/plain": [
              "     Pclass                Name   Sex   Age  ...  Ticket  Fare Cabin  Embarked\n",
              "152       3  Storey, Mr. Thomas  male  60.5  ...    3701   NaN   NaN         S\n",
              "\n",
              "[1 rows x 10 columns]"
            ]
          },
          "metadata": {
            "tags": []
          },
          "execution_count": 273
        }
      ]
    },
    {
      "cell_type": "code",
      "metadata": {
        "id": "BUi7JA04tfIJ",
        "colab_type": "code",
        "colab": {}
      },
      "source": [
        "#most closely correlated with Pclass, Parch and Age\n",
        "#group by Pclass only because no match for Parch and Age\n",
        "df.groupby(['Pclass', 'Parch', 'Age']).median()['Fare']\n",
        "df['Fare'] = df.groupby(['Pclass'])['Fare'].transform(lambda x: x.fillna(x.median()))"
      ],
      "execution_count": 0,
      "outputs": []
    },
    {
      "cell_type": "markdown",
      "metadata": {
        "id": "nL2YdYBAu2BU",
        "colab_type": "text"
      },
      "source": [
        "#### 'Cabin'"
      ]
    },
    {
      "cell_type": "code",
      "metadata": {
        "id": "DOxt-p7BvAZu",
        "colab_type": "code",
        "colab": {}
      },
      "source": [
        "#create a deck column from the first letter of the cabin column\n",
        "df['Deck'] = df['Cabin'].apply(lambda s: s[0] if pd.notnull(s) else 'M')"
      ],
      "execution_count": 0,
      "outputs": []
    },
    {
      "cell_type": "code",
      "metadata": {
        "id": "_xn7gl47vdd0",
        "colab_type": "code",
        "colab": {}
      },
      "source": [
        "df['Deck'] = df['Deck'].replace(['A', 'B', 'C', 'T'], 'ABC')\n",
        "df['Deck'] = df['Deck'].replace(['D', 'E'], 'DE')\n",
        "df['Deck'] = df['Deck'].replace(['F', 'G'], 'FG')"
      ],
      "execution_count": 0,
      "outputs": []
    },
    {
      "cell_type": "code",
      "metadata": {
        "id": "BV1ra-1WwI6Y",
        "colab_type": "code",
        "colab": {}
      },
      "source": [
        "df = df.drop(['Cabin'], axis = 1)"
      ],
      "execution_count": 0,
      "outputs": []
    },
    {
      "cell_type": "markdown",
      "metadata": {
        "id": "f68Fw70FeZOQ",
        "colab_type": "text"
      },
      "source": [
        "### Frequency Encoding"
      ]
    },
    {
      "cell_type": "markdown",
      "metadata": {
        "id": "jxJ-KwZDfTxV",
        "colab_type": "text"
      },
      "source": [
        "#### 'Family Size'"
      ]
    },
    {
      "cell_type": "code",
      "metadata": {
        "id": "fR6FGGdfecDR",
        "colab_type": "code",
        "colab": {}
      },
      "source": [
        "df['Family_Size'] = df['SibSp'] + df['Parch'] + 1"
      ],
      "execution_count": 0,
      "outputs": []
    },
    {
      "cell_type": "markdown",
      "metadata": {
        "id": "pvqdq2T1fX-P",
        "colab_type": "text"
      },
      "source": [
        "#### 'Ticket Frequency'"
      ]
    },
    {
      "cell_type": "code",
      "metadata": {
        "id": "rXIuBbTHe2Xk",
        "colab_type": "code",
        "colab": {}
      },
      "source": [
        "df['Ticket_Frequency'] = df.groupby('Ticket')['Ticket'].transform('count')"
      ],
      "execution_count": 0,
      "outputs": []
    },
    {
      "cell_type": "markdown",
      "metadata": {
        "id": "bnM6n3RbfaAI",
        "colab_type": "text"
      },
      "source": [
        "#### 'Is_Married' (woman only)"
      ]
    },
    {
      "cell_type": "code",
      "metadata": {
        "id": "NTg89aJKfcav",
        "colab_type": "code",
        "outputId": "d137be3c-f1f5-41f4-eb19-98bb157cdfb0",
        "colab": {
          "base_uri": "https://localhost:8080/",
          "height": 102
        }
      },
      "source": [
        "df['Title'] = df['Name'].str.split(', ', expand=True)[1].str.split('.', expand=True)[0]\n",
        "df['Is_Married'] = 0\n",
        "df['Is_Married'].loc[df['Title'] == 'Mrs'] = 1"
      ],
      "execution_count": 0,
      "outputs": [
        {
          "output_type": "stream",
          "text": [
            "/usr/local/lib/python3.6/dist-packages/pandas/core/indexing.py:205: SettingWithCopyWarning: \n",
            "A value is trying to be set on a copy of a slice from a DataFrame\n",
            "\n",
            "See the caveats in the documentation: http://pandas.pydata.org/pandas-docs/stable/user_guide/indexing.html#returning-a-view-versus-a-copy\n",
            "  self._setitem_with_indexer(indexer, value)\n"
          ],
          "name": "stderr"
        }
      ]
    },
    {
      "cell_type": "markdown",
      "metadata": {
        "id": "QIkItqRHf775",
        "colab_type": "text"
      },
      "source": [
        "#### 'Title'"
      ]
    },
    {
      "cell_type": "code",
      "metadata": {
        "id": "Lk4338nXf7jG",
        "colab_type": "code",
        "colab": {}
      },
      "source": [
        "df['Title'] = df['Title'].replace(['Miss', 'Mrs','Ms', 'Mlle', 'Lady', 'Mme', 'the Countess', 'Dona'], 'Miss/Mrs/Ms')\n",
        "df['Title'] = df['Title'].replace(['Dr', 'Col', 'Major', 'Jonkheer', 'Capt', 'Sir', 'Don', 'Rev'], 'Dr/Military/Noble/Clergy')"
      ],
      "execution_count": 0,
      "outputs": []
    },
    {
      "cell_type": "markdown",
      "metadata": {
        "id": "lJ3mENxfKTjg",
        "colab_type": "text"
      },
      "source": [
        "### Categorical Encoding"
      ]
    },
    {
      "cell_type": "markdown",
      "metadata": {
        "id": "i2kDHkIjN-Qa",
        "colab_type": "text"
      },
      "source": [
        "Because the XGBoost algorithm requires numeric value, we have to main options for dealing with categorical variables: **label encoding** and **one-hot encoding**.  \n",
        "I'll opt for label encoding where there is an inherent rank and one-hot encoding otherwise."
      ]
    },
    {
      "cell_type": "code",
      "metadata": {
        "id": "6rDx28f0NgTk",
        "colab_type": "code",
        "outputId": "e382e8de-e2fd-4b6d-ae2d-a5cbcaad766f",
        "colab": {
          "base_uri": "https://localhost:8080/",
          "height": 340
        }
      },
      "source": [
        "df.info()"
      ],
      "execution_count": 0,
      "outputs": [
        {
          "output_type": "stream",
          "text": [
            "<class 'pandas.core.frame.DataFrame'>\n",
            "Int64Index: 1309 entries, 0 to 417\n",
            "Data columns (total 14 columns):\n",
            "Pclass              1309 non-null int64\n",
            "Name                1309 non-null object\n",
            "Sex                 1309 non-null object\n",
            "Age                 1309 non-null float64\n",
            "SibSp               1309 non-null int64\n",
            "Parch               1309 non-null int64\n",
            "Ticket              1309 non-null object\n",
            "Fare                1309 non-null float64\n",
            "Embarked            1309 non-null object\n",
            "Deck                1309 non-null object\n",
            "Family_Size         1309 non-null int64\n",
            "Ticket_Frequency    1309 non-null int64\n",
            "Title               1309 non-null object\n",
            "Is_Married          1309 non-null int64\n",
            "dtypes: float64(2), int64(6), object(6)\n",
            "memory usage: 153.4+ KB\n"
          ],
          "name": "stdout"
        }
      ]
    },
    {
      "cell_type": "markdown",
      "metadata": {
        "id": "KWFRUnM1Nj2N",
        "colab_type": "text"
      },
      "source": [
        "**Label encoding**: Pclass  \n",
        "**One-hot encoding**: Sex, Embarked"
      ]
    },
    {
      "cell_type": "code",
      "metadata": {
        "id": "gpFK_zaYKjhI",
        "colab_type": "code",
        "colab": {}
      },
      "source": [
        "df_cat_ohe = df[['Sex', 'Embarked', 'Deck']]\n",
        "df_cat_le = df[['Pclass']]\n",
        "df_quant = df[['Age', 'SibSp', 'Parch', 'Fare']]"
      ],
      "execution_count": 0,
      "outputs": []
    },
    {
      "cell_type": "markdown",
      "metadata": {
        "id": "aI4WZvasMvXT",
        "colab_type": "text"
      },
      "source": [
        "#### Label Encoding"
      ]
    },
    {
      "cell_type": "markdown",
      "metadata": {
        "id": "fKX7ttISMxRt",
        "colab_type": "text"
      },
      "source": [
        "Label encoding can be done with pandas"
      ]
    },
    {
      "cell_type": "code",
      "metadata": {
        "id": "ZWoKyZRFM_IW",
        "colab_type": "code",
        "outputId": "ccc23357-2456-45b5-dff4-3ab2db1a5163",
        "colab": {
          "base_uri": "https://localhost:8080/",
          "height": 119
        }
      },
      "source": [
        "df_cat_le['Pclass'] = pd.to_numeric(df_cat_le['Pclass']) # Replace strings with an integer"
      ],
      "execution_count": 0,
      "outputs": [
        {
          "output_type": "stream",
          "text": [
            "/usr/local/lib/python3.6/dist-packages/ipykernel_launcher.py:1: SettingWithCopyWarning: \n",
            "A value is trying to be set on a copy of a slice from a DataFrame.\n",
            "Try using .loc[row_indexer,col_indexer] = value instead\n",
            "\n",
            "See the caveats in the documentation: http://pandas.pydata.org/pandas-docs/stable/user_guide/indexing.html#returning-a-view-versus-a-copy\n",
            "  \"\"\"Entry point for launching an IPython kernel.\n"
          ],
          "name": "stderr"
        }
      ]
    },
    {
      "cell_type": "markdown",
      "metadata": {
        "id": "VJFHZz-Wxw85",
        "colab_type": "text"
      },
      "source": [
        "#### One-hot encoding"
      ]
    },
    {
      "cell_type": "code",
      "metadata": {
        "id": "PaybgyWpxcF2",
        "colab_type": "code",
        "outputId": "7f0257cd-69ef-44e5-b6a3-97b2d7ca98f9",
        "colab": {
          "base_uri": "https://localhost:8080/",
          "height": 34
        }
      },
      "source": [
        "df_cat_ohe.Sex.unique()"
      ],
      "execution_count": 0,
      "outputs": [
        {
          "output_type": "execute_result",
          "data": {
            "text/plain": [
              "array(['male', 'female'], dtype=object)"
            ]
          },
          "metadata": {
            "tags": []
          },
          "execution_count": 285
        }
      ]
    },
    {
      "cell_type": "code",
      "metadata": {
        "id": "k1W3tWA6xgKe",
        "colab_type": "code",
        "outputId": "e06b8a3a-cdc6-4de8-d1a0-f29ad0d7bcb0",
        "colab": {
          "base_uri": "https://localhost:8080/",
          "height": 34
        }
      },
      "source": [
        "df_cat_ohe.Embarked.unique()"
      ],
      "execution_count": 0,
      "outputs": [
        {
          "output_type": "execute_result",
          "data": {
            "text/plain": [
              "array(['S', 'C', 'Q'], dtype=object)"
            ]
          },
          "metadata": {
            "tags": []
          },
          "execution_count": 286
        }
      ]
    },
    {
      "cell_type": "code",
      "metadata": {
        "id": "9yetBVxg3TH8",
        "colab_type": "code",
        "outputId": "cc8a23c2-196d-442a-86f7-c16e5efe0486",
        "colab": {
          "base_uri": "https://localhost:8080/",
          "height": 34
        }
      },
      "source": [
        "df_cat_ohe.Deck.unique()"
      ],
      "execution_count": 0,
      "outputs": [
        {
          "output_type": "execute_result",
          "data": {
            "text/plain": [
              "array(['M', 'ABC', 'DE', 'FG'], dtype=object)"
            ]
          },
          "metadata": {
            "tags": []
          },
          "execution_count": 287
        }
      ]
    },
    {
      "cell_type": "code",
      "metadata": {
        "id": "Ozd0-ArExW30",
        "colab_type": "code",
        "colab": {}
      },
      "source": [
        "from sklearn import preprocessing"
      ],
      "execution_count": 0,
      "outputs": []
    },
    {
      "cell_type": "code",
      "metadata": {
        "id": "OJNpsXpLKaU1",
        "colab_type": "code",
        "colab": {}
      },
      "source": [
        "enc = preprocessing.OneHotEncoder()\n",
        "enc.fit(df_cat_ohe)\n",
        "onehotlabels = enc.transform(df_cat_ohe).toarray()\n",
        "df_ohe = pd.DataFrame(onehotlabels)\n",
        "df_ohe.columns = ['M', 'F', 'S', 'C', 'Q', 'D_M', 'D_ABC', 'D_E', 'D_FG']"
      ],
      "execution_count": 0,
      "outputs": []
    },
    {
      "cell_type": "markdown",
      "metadata": {
        "id": "BiTQoQy33nSd",
        "colab_type": "text"
      },
      "source": [
        "### Ticket and Name- To Be Continued"
      ]
    },
    {
      "cell_type": "markdown",
      "metadata": {
        "id": "4-veTAWK2DmE",
        "colab_type": "text"
      },
      "source": [
        "### Joining Data Frame"
      ]
    },
    {
      "cell_type": "code",
      "metadata": {
        "id": "_pKp80Tp5UVu",
        "colab_type": "code",
        "colab": {}
      },
      "source": [
        "df = pd.concat([df_quant, df_cat_le], axis=1, sort=False)"
      ],
      "execution_count": 0,
      "outputs": []
    },
    {
      "cell_type": "code",
      "metadata": {
        "id": "TuI9is3q6vTG",
        "colab_type": "code",
        "colab": {}
      },
      "source": [
        "df = df.reset_index(drop = False)"
      ],
      "execution_count": 0,
      "outputs": []
    },
    {
      "cell_type": "code",
      "metadata": {
        "id": "Wct4-hi65d6r",
        "colab_type": "code",
        "colab": {}
      },
      "source": [
        "df_ohe = df_ohe.reset_index(drop = False)"
      ],
      "execution_count": 0,
      "outputs": []
    },
    {
      "cell_type": "code",
      "metadata": {
        "id": "0gl10lP713jo",
        "colab_type": "code",
        "colab": {}
      },
      "source": [
        "df = df.join(df_ohe.set_index('index'), on = 'index')"
      ],
      "execution_count": 0,
      "outputs": []
    },
    {
      "cell_type": "code",
      "metadata": {
        "id": "9y4nmAs--C9F",
        "colab_type": "code",
        "colab": {}
      },
      "source": [
        "df = df.drop(['index'], axis = 1)"
      ],
      "execution_count": 0,
      "outputs": []
    },
    {
      "cell_type": "markdown",
      "metadata": {
        "id": "inn8OPgySmqt",
        "colab_type": "text"
      },
      "source": [
        "## XGBoost with Grid Search and Cross Validation with Scikit-learn API"
      ]
    },
    {
      "cell_type": "markdown",
      "metadata": {
        "id": "wiTfXEJygb1q",
        "colab_type": "text"
      },
      "source": [
        "The XGBoost library does not have a grid search function, so we will use the scikit-learn API for XGBoost instead. "
      ]
    },
    {
      "cell_type": "markdown",
      "metadata": {
        "id": "iYTfnx8b36uW",
        "colab_type": "text"
      },
      "source": [
        "### Splitting Data"
      ]
    },
    {
      "cell_type": "markdown",
      "metadata": {
        "id": "4-KelXBr4DHA",
        "colab_type": "text"
      },
      "source": [
        "#### Train and Test Set"
      ]
    },
    {
      "cell_type": "code",
      "metadata": {
        "id": "bs0QrTV54FHA",
        "colab_type": "code",
        "colab": {}
      },
      "source": [
        "train_features = df.iloc[0:890,:]\n",
        "test_features = df.iloc[891:1310,:]"
      ],
      "execution_count": 0,
      "outputs": []
    },
    {
      "cell_type": "code",
      "metadata": {
        "id": "tzxjDZb_-3Kx",
        "colab_type": "code",
        "outputId": "a2a196ad-97b0-4ce2-8127-11ff4c2a9ee9",
        "colab": {
          "base_uri": "https://localhost:8080/",
          "height": 34
        }
      },
      "source": [
        "train_features.shape"
      ],
      "execution_count": 0,
      "outputs": [
        {
          "output_type": "execute_result",
          "data": {
            "text/plain": [
              "(890, 14)"
            ]
          },
          "metadata": {
            "tags": []
          },
          "execution_count": 296
        }
      ]
    },
    {
      "cell_type": "code",
      "metadata": {
        "id": "IymWksQH-wSe",
        "colab_type": "code",
        "outputId": "cc69bb63-979d-465f-ddab-81d589948a56",
        "colab": {
          "base_uri": "https://localhost:8080/",
          "height": 34
        }
      },
      "source": [
        "test_features.shape"
      ],
      "execution_count": 0,
      "outputs": [
        {
          "output_type": "execute_result",
          "data": {
            "text/plain": [
              "(418, 14)"
            ]
          },
          "metadata": {
            "tags": []
          },
          "execution_count": 297
        }
      ]
    },
    {
      "cell_type": "code",
      "metadata": {
        "id": "JcV-pLuo_XB6",
        "colab_type": "code",
        "colab": {}
      },
      "source": [
        "train = pd.concat([train_features, train_labels], axis=1, sort=False)"
      ],
      "execution_count": 0,
      "outputs": []
    },
    {
      "cell_type": "markdown",
      "metadata": {
        "id": "6JCK_97efgiN",
        "colab_type": "text"
      },
      "source": [
        "#### Validation Data for Cross-Validation"
      ]
    },
    {
      "cell_type": "markdown",
      "metadata": {
        "id": "TurKbu3E8TG7",
        "colab_type": "text"
      },
      "source": [
        "##### Note: hyperparameter tuning starts below"
      ]
    },
    {
      "cell_type": "code",
      "metadata": {
        "id": "vuKxoQRbfmur",
        "colab_type": "code",
        "colab": {}
      },
      "source": [
        "from sklearn.model_selection import train_test_split"
      ],
      "execution_count": 0,
      "outputs": []
    },
    {
      "cell_type": "code",
      "metadata": {
        "id": "GLYA1nXy_vT_",
        "colab_type": "code",
        "colab": {}
      },
      "source": [
        "split_percent = 0.1 #adjustable\n",
        "train, val = train_test_split(train, test_size=split_percent, stratify = train['Survived'], random_state=135) "
      ],
      "execution_count": 0,
      "outputs": []
    },
    {
      "cell_type": "code",
      "metadata": {
        "id": "BzJjXO_cO_m9",
        "colab_type": "code",
        "colab": {}
      },
      "source": [
        "train_labels = train['Survived']\n",
        "val_labels = val['Survived']"
      ],
      "execution_count": 0,
      "outputs": []
    },
    {
      "cell_type": "code",
      "metadata": {
        "id": "TdfisTmfPUnx",
        "colab_type": "code",
        "colab": {}
      },
      "source": [
        "train_features = train.drop('Survived', axis = 1)\n",
        "val_features = val.drop('Survived', axis = 1)"
      ],
      "execution_count": 0,
      "outputs": []
    },
    {
      "cell_type": "markdown",
      "metadata": {
        "id": "9zCj8-n1tvF7",
        "colab_type": "text"
      },
      "source": [
        "### Define Model"
      ]
    },
    {
      "cell_type": "code",
      "metadata": {
        "id": "LprohLp8iaQ8",
        "colab_type": "code",
        "colab": {}
      },
      "source": [
        "from xgboost import XGBClassifier"
      ],
      "execution_count": 0,
      "outputs": []
    },
    {
      "cell_type": "code",
      "metadata": {
        "id": "SXP6pywxnWYL",
        "colab_type": "code",
        "colab": {}
      },
      "source": [
        "model = XGBClassifier()"
      ],
      "execution_count": 0,
      "outputs": []
    },
    {
      "cell_type": "markdown",
      "metadata": {
        "id": "wzslcYastqaw",
        "colab_type": "text"
      },
      "source": [
        "### Set Parameters"
      ]
    },
    {
      "cell_type": "code",
      "metadata": {
        "id": "ydV_gceY8tAa",
        "colab_type": "code",
        "colab": {}
      },
      "source": [
        "#original parameters\n",
        "params = {\n",
        "     'colsample_bytree': [0.6, 0.8, 1.0], #fraction of features to use\n",
        "     'gamma': [0.5, 1, 1.5, 2, 5],\n",
        "     'learning_rate' : [0.01, 0.1, 0.3], #learning rate\n",
        "     'max_depth': [3, 4, 5], #number of allowable nodes\n",
        "     'min_child_weight': [1, 3, 5], #weight required for new node\n",
        "     'n_estimators' : [50, 100, 200], #number of trees \n",
        "     'subsample': [0.6, 0.8, 1.0] #fraction of rows to subsample\n",
        "}"
      ],
      "execution_count": 0,
      "outputs": []
    },
    {
      "cell_type": "code",
      "metadata": {
        "id": "_5gTj4M67xFb",
        "colab_type": "code",
        "outputId": "6a69f9a2-73dd-489b-c2a8-befc600c2820",
        "colab": {
          "base_uri": "https://localhost:8080/",
          "height": 140
        }
      },
      "source": [
        "params #most recent parameters"
      ],
      "execution_count": 0,
      "outputs": [
        {
          "output_type": "execute_result",
          "data": {
            "text/plain": [
              "{'colsample_bytree': [0.6, 0.8, 1.0],\n",
              " 'gamma': [0.5, 1, 1.5, 2, 5],\n",
              " 'learning_rate': [0.01, 0.1, 0.3],\n",
              " 'max_depth': [3, 4, 5],\n",
              " 'min_child_weight': [1, 3, 5],\n",
              " 'n_estimators': [50, 100, 200],\n",
              " 'subsample': [0.6, 0.8, 1.0]}"
            ]
          },
          "metadata": {
            "tags": []
          },
          "execution_count": 388
        }
      ]
    },
    {
      "cell_type": "code",
      "metadata": {
        "id": "GK17E8-C1H29",
        "colab_type": "code",
        "outputId": "50ede80e-e59a-47f2-87af-9fc921c23a17",
        "colab": {
          "base_uri": "https://localhost:8080/",
          "height": 140
        }
      },
      "source": [
        "grid_search.best_params_"
      ],
      "execution_count": 0,
      "outputs": [
        {
          "output_type": "execute_result",
          "data": {
            "text/plain": [
              "{'colsample_bytree': 0.9,\n",
              " 'gamma': 1.1,\n",
              " 'learning_rate': 0.3,\n",
              " 'max_depth': 8,\n",
              " 'min_child_weight': 1,\n",
              " 'n_estimators': 18,\n",
              " 'subsample': 0.6}"
            ]
          },
          "metadata": {
            "tags": []
          },
          "execution_count": 389
        }
      ]
    },
    {
      "cell_type": "code",
      "metadata": {
        "id": "txnA2_A41Mso",
        "colab_type": "code",
        "colab": {}
      },
      "source": [
        "#new parameters\n",
        "params = {\n",
        "     'colsample_bytree': [0.8, 0.9, 1.0], #fraction of features to use\n",
        "     'gamma': [1.0, 1.1, 1.2],\n",
        "     'learning_rate' : [0.2, 0.3, 0.4], #learning rate\n",
        "     'max_depth': [7, 8, 9], #number of allowable nodes\n",
        "     'min_child_weight': [1, 2], #weight required for new node\n",
        "     'n_estimators' : [15, 18, 20], #number of trees \n",
        "     'subsample': [0.5, 0.6, 0.7] #fraction of rows to subsample\n",
        "}"
      ],
      "execution_count": 0,
      "outputs": []
    },
    {
      "cell_type": "markdown",
      "metadata": {
        "id": "NObeonrSt9tW",
        "colab_type": "text"
      },
      "source": [
        "### Set Up Cross Validation"
      ]
    },
    {
      "cell_type": "code",
      "metadata": {
        "id": "ObEOIsDWiei_",
        "colab_type": "code",
        "colab": {}
      },
      "source": [
        "from sklearn.model_selection import StratifiedKFold"
      ],
      "execution_count": 0,
      "outputs": []
    },
    {
      "cell_type": "code",
      "metadata": {
        "id": "AkwYRwes65oB",
        "colab_type": "code",
        "colab": {}
      },
      "source": [
        "folds = 5\n",
        "random_state = 3259\n",
        "skf = StratifiedKFold(n_splits = folds, \n",
        "                      shuffle = True, \n",
        "                      random_state = random_state)"
      ],
      "execution_count": 0,
      "outputs": []
    },
    {
      "cell_type": "markdown",
      "metadata": {
        "id": "M8INonsftw_b",
        "colab_type": "text"
      },
      "source": [
        "### Define Validation Parameter"
      ]
    },
    {
      "cell_type": "code",
      "metadata": {
        "id": "FOLk-i6FnZ_d",
        "colab_type": "code",
        "colab": {}
      },
      "source": [
        "eval_set = [(val_features, val_labels)]"
      ],
      "execution_count": 0,
      "outputs": []
    },
    {
      "cell_type": "markdown",
      "metadata": {
        "id": "x-_MyAZdukY5",
        "colab_type": "text"
      },
      "source": [
        "### Create Grid Search Model Object"
      ]
    },
    {
      "cell_type": "code",
      "metadata": {
        "id": "Fd8gZQmz0tyb",
        "colab_type": "code",
        "colab": {}
      },
      "source": [
        "from sklearn.model_selection import GridSearchCV"
      ],
      "execution_count": 0,
      "outputs": []
    },
    {
      "cell_type": "code",
      "metadata": {
        "id": "HTr_wGDYh2N1",
        "colab_type": "code",
        "colab": {}
      },
      "source": [
        "grid_search = GridSearchCV(model, \n",
        "                           params, \n",
        "                           scoring='accuracy', \n",
        "                           n_jobs=-1, \n",
        "                           cv=skf, \n",
        "                           verbose = 3,\n",
        "                           return_train_score = True)"
      ],
      "execution_count": 0,
      "outputs": []
    },
    {
      "cell_type": "markdown",
      "metadata": {
        "id": "lN1hUO9_upvN",
        "colab_type": "text"
      },
      "source": [
        "### Fit Model"
      ]
    },
    {
      "cell_type": "code",
      "metadata": {
        "id": "r_KwrGjm64J-",
        "colab_type": "code",
        "outputId": "a2882af4-3849-436f-8dff-2a514aeef95f",
        "colab": {
          "base_uri": "https://localhost:8080/",
          "height": 826
        }
      },
      "source": [
        "#trained with the evaluation set to prevent overfitting\n",
        "grid_search.fit(X = train_features, \n",
        "                y = train_labels,\n",
        "                eval_set = eval_set,\n",
        "                eval_metric = \"error\",\n",
        "                early_stopping_rounds = 25)"
      ],
      "execution_count": 0,
      "outputs": [
        {
          "output_type": "stream",
          "text": [
            "Fitting 5 folds for each of 1458 candidates, totalling 7290 fits\n"
          ],
          "name": "stdout"
        },
        {
          "output_type": "stream",
          "text": [
            "[Parallel(n_jobs=-1)]: Using backend LokyBackend with 2 concurrent workers.\n",
            "[Parallel(n_jobs=-1)]: Done  50 tasks      | elapsed:    2.5s\n",
            "[Parallel(n_jobs=-1)]: Done 434 tasks      | elapsed:    9.4s\n",
            "[Parallel(n_jobs=-1)]: Done 1074 tasks      | elapsed:   20.0s\n",
            "[Parallel(n_jobs=-1)]: Done 1970 tasks      | elapsed:   35.1s\n",
            "[Parallel(n_jobs=-1)]: Done 3122 tasks      | elapsed:   54.6s\n",
            "[Parallel(n_jobs=-1)]: Done 4530 tasks      | elapsed:  1.3min\n",
            "[Parallel(n_jobs=-1)]: Done 6194 tasks      | elapsed:  1.8min\n"
          ],
          "name": "stderr"
        },
        {
          "output_type": "stream",
          "text": [
            "[0]\tvalidation_0-error:0.24\n",
            "Will train until validation_0-error hasn't improved in 25 rounds.\n",
            "[1]\tvalidation_0-error:0.24\n",
            "[2]\tvalidation_0-error:0.24\n",
            "[3]\tvalidation_0-error:0.24\n",
            "[4]\tvalidation_0-error:0.24\n",
            "[5]\tvalidation_0-error:0.24\n",
            "[6]\tvalidation_0-error:0.24\n",
            "[7]\tvalidation_0-error:0.24\n",
            "[8]\tvalidation_0-error:0.24\n",
            "[9]\tvalidation_0-error:0.24\n",
            "[10]\tvalidation_0-error:0.24\n",
            "[11]\tvalidation_0-error:0.24\n",
            "[12]\tvalidation_0-error:0.24\n",
            "[13]\tvalidation_0-error:0.24\n",
            "[14]\tvalidation_0-error:0.24\n"
          ],
          "name": "stdout"
        },
        {
          "output_type": "stream",
          "text": [
            "[Parallel(n_jobs=-1)]: Done 7290 out of 7290 | elapsed:  2.1min finished\n"
          ],
          "name": "stderr"
        },
        {
          "output_type": "execute_result",
          "data": {
            "text/plain": [
              "GridSearchCV(cv=StratifiedKFold(n_splits=5, random_state=3259, shuffle=True),\n",
              "             error_score=nan,\n",
              "             estimator=XGBClassifier(base_score=0.5, booster='gbtree',\n",
              "                                     colsample_bylevel=1, colsample_bynode=1,\n",
              "                                     colsample_bytree=1, gamma=0,\n",
              "                                     learning_rate=0.1, max_delta_step=0,\n",
              "                                     max_depth=3, min_child_weight=1,\n",
              "                                     missing=None, n_estimators=100, n_jobs=1,\n",
              "                                     nthread=None, objective='binary:l...\n",
              "                                     scale_pos_weight=1, seed=None, silent=None,\n",
              "                                     subsample=1, verbosity=1),\n",
              "             iid='deprecated', n_jobs=-1,\n",
              "             param_grid={'colsample_bytree': [0.8, 0.9, 1.0],\n",
              "                         'gamma': [1.0, 1.1, 1.2],\n",
              "                         'learning_rate': [0.2, 0.3, 0.4],\n",
              "                         'max_depth': [7, 8, 9], 'min_child_weight': [1, 2],\n",
              "                         'n_estimators': [15, 18, 20],\n",
              "                         'subsample': [0.5, 0.6, 0.7]},\n",
              "             pre_dispatch='2*n_jobs', refit=True, return_train_score=True,\n",
              "             scoring='accuracy', verbose=3)"
            ]
          },
          "metadata": {
            "tags": []
          },
          "execution_count": 397
        }
      ]
    },
    {
      "cell_type": "markdown",
      "metadata": {
        "id": "FXOmW8Hpwprp",
        "colab_type": "text"
      },
      "source": [
        "## Analyze Model"
      ]
    },
    {
      "cell_type": "markdown",
      "metadata": {
        "id": "MBN1JUV89Ga_",
        "colab_type": "text"
      },
      "source": [
        "### Review Best Grid Scores"
      ]
    },
    {
      "cell_type": "code",
      "metadata": {
        "id": "yNZ0byeM1s44",
        "colab_type": "code",
        "outputId": "08e62460-5114-450c-d220-92c50326ba5a",
        "colab": {
          "base_uri": "https://localhost:8080/",
          "height": 34
        }
      },
      "source": [
        "1-grid_search.best_score_"
      ],
      "execution_count": 0,
      "outputs": [
        {
          "output_type": "execute_result",
          "data": {
            "text/plain": [
              "0.19725158562367862"
            ]
          },
          "metadata": {
            "tags": []
          },
          "execution_count": 398
        }
      ]
    },
    {
      "cell_type": "code",
      "metadata": {
        "id": "2RXgQrstvUBK",
        "colab_type": "code",
        "outputId": "de37a59a-b6c6-40a2-b3ad-db736d6c42e5",
        "colab": {
          "base_uri": "https://localhost:8080/",
          "height": 140
        }
      },
      "source": [
        "grid_search.best_params_"
      ],
      "execution_count": 0,
      "outputs": [
        {
          "output_type": "execute_result",
          "data": {
            "text/plain": [
              "{'colsample_bytree': 0.8,\n",
              " 'gamma': 1.2,\n",
              " 'learning_rate': 0.2,\n",
              " 'max_depth': 7,\n",
              " 'min_child_weight': 1,\n",
              " 'n_estimators': 15,\n",
              " 'subsample': 0.7}"
            ]
          },
          "metadata": {
            "tags": []
          },
          "execution_count": 399
        }
      ]
    },
    {
      "cell_type": "code",
      "metadata": {
        "id": "gVeB1ObI23HS",
        "colab_type": "code",
        "outputId": "9655f92a-0538-4973-b495-6e5c8b736a85",
        "colab": {
          "base_uri": "https://localhost:8080/",
          "height": 140
        }
      },
      "source": [
        "params"
      ],
      "execution_count": 0,
      "outputs": [
        {
          "output_type": "execute_result",
          "data": {
            "text/plain": [
              "{'colsample_bytree': [0.8, 0.9, 1.0],\n",
              " 'gamma': [1.0, 1.1, 1.2],\n",
              " 'learning_rate': [0.2, 0.3, 0.4],\n",
              " 'max_depth': [7, 8, 9],\n",
              " 'min_child_weight': [1, 2],\n",
              " 'n_estimators': [15, 18, 20],\n",
              " 'subsample': [0.5, 0.6, 0.7]}"
            ]
          },
          "metadata": {
            "tags": []
          },
          "execution_count": 400
        }
      ]
    },
    {
      "cell_type": "markdown",
      "metadata": {
        "id": "B49xayFuzikh",
        "colab_type": "text"
      },
      "source": [
        "### Tuning Hyperparameters"
      ]
    },
    {
      "cell_type": "markdown",
      "metadata": {
        "id": "i-3X9_P0jxqK",
        "colab_type": "text"
      },
      "source": [
        "If the optimum hyperparameter is on a lower or upper bound, include smaller/larger parameters and search again. (Just adjust the grid search parameters in the previous section.)"
      ]
    },
    {
      "cell_type": "markdown",
      "metadata": {
        "id": "ODo-NPbBx-N8",
        "colab_type": "text"
      },
      "source": [
        "## Final Model Using XGBoost API"
      ]
    },
    {
      "cell_type": "code",
      "metadata": {
        "id": "_Vz7CNImyIsj",
        "colab_type": "code",
        "colab": {}
      },
      "source": [
        "import xgboost as xgb"
      ],
      "execution_count": 0,
      "outputs": []
    },
    {
      "cell_type": "markdown",
      "metadata": {
        "id": "CG9A_5WD0MKH",
        "colab_type": "text"
      },
      "source": [
        "### Create XGBoost Dataframes"
      ]
    },
    {
      "cell_type": "code",
      "metadata": {
        "id": "t2NNXgBnyBfy",
        "colab_type": "code",
        "outputId": "7d6a2875-0998-4dff-a162-d70b3467aaf0",
        "colab": {
          "base_uri": "https://localhost:8080/",
          "height": 87
        }
      },
      "source": [
        "dtrain = xgb.DMatrix(train_features, label=train_labels)\n",
        "dval = xgb.DMatrix(val_features, label=val_labels)\n",
        "dtest = xgb.DMatrix(test_features)"
      ],
      "execution_count": 0,
      "outputs": [
        {
          "output_type": "stream",
          "text": [
            "/usr/local/lib/python3.6/dist-packages/xgboost/core.py:587: FutureWarning: Series.base is deprecated and will be removed in a future version\n",
            "  if getattr(data, 'base', None) is not None and \\\n",
            "/usr/local/lib/python3.6/dist-packages/xgboost/core.py:588: FutureWarning: Series.base is deprecated and will be removed in a future version\n",
            "  data.base is not None and isinstance(data, np.ndarray) \\\n"
          ],
          "name": "stderr"
        }
      ]
    },
    {
      "cell_type": "markdown",
      "metadata": {
        "id": "PctudGZ70QNs",
        "colab_type": "text"
      },
      "source": [
        "### Create Model Object"
      ]
    },
    {
      "cell_type": "code",
      "metadata": {
        "id": "ibofNVbm0KXF",
        "colab_type": "code",
        "colab": {}
      },
      "source": [
        "cv_xgb = xgb.cv(params = grid_search.best_params_, #using best params from scikit-learn model\n",
        "                dtrain = dtrain, \n",
        "                nfold = 5,\n",
        "                metrics = ['error'], \n",
        "                early_stopping_rounds = 5) # Look for early stopping that minimizes error"
      ],
      "execution_count": 0,
      "outputs": []
    },
    {
      "cell_type": "code",
      "metadata": {
        "id": "Wwo-Mm3X0yCV",
        "colab_type": "code",
        "outputId": "f0da1e14-54cc-4e54-e65b-84762043b858",
        "colab": {
          "base_uri": "https://localhost:8080/",
          "height": 195
        }
      },
      "source": [
        "cv_xgb.tail()"
      ],
      "execution_count": 0,
      "outputs": [
        {
          "output_type": "execute_result",
          "data": {
            "text/html": [
              "<div>\n",
              "<style scoped>\n",
              "    .dataframe tbody tr th:only-of-type {\n",
              "        vertical-align: middle;\n",
              "    }\n",
              "\n",
              "    .dataframe tbody tr th {\n",
              "        vertical-align: top;\n",
              "    }\n",
              "\n",
              "    .dataframe thead th {\n",
              "        text-align: right;\n",
              "    }\n",
              "</style>\n",
              "<table border=\"1\" class=\"dataframe\">\n",
              "  <thead>\n",
              "    <tr style=\"text-align: right;\">\n",
              "      <th></th>\n",
              "      <th>train-error-mean</th>\n",
              "      <th>train-error-std</th>\n",
              "      <th>test-error-mean</th>\n",
              "      <th>test-error-std</th>\n",
              "    </tr>\n",
              "  </thead>\n",
              "  <tbody>\n",
              "    <tr>\n",
              "      <th>5</th>\n",
              "      <td>0.147915</td>\n",
              "      <td>0.020175</td>\n",
              "      <td>0.210994</td>\n",
              "      <td>0.052873</td>\n",
              "    </tr>\n",
              "    <tr>\n",
              "      <th>6</th>\n",
              "      <td>0.154765</td>\n",
              "      <td>0.026108</td>\n",
              "      <td>0.252220</td>\n",
              "      <td>0.067118</td>\n",
              "    </tr>\n",
              "    <tr>\n",
              "      <th>7</th>\n",
              "      <td>0.155915</td>\n",
              "      <td>0.024127</td>\n",
              "      <td>0.252220</td>\n",
              "      <td>0.067118</td>\n",
              "    </tr>\n",
              "    <tr>\n",
              "      <th>8</th>\n",
              "      <td>0.155921</td>\n",
              "      <td>0.029956</td>\n",
              "      <td>0.220190</td>\n",
              "      <td>0.059054</td>\n",
              "    </tr>\n",
              "    <tr>\n",
              "      <th>9</th>\n",
              "      <td>0.153616</td>\n",
              "      <td>0.029225</td>\n",
              "      <td>0.220190</td>\n",
              "      <td>0.059054</td>\n",
              "    </tr>\n",
              "  </tbody>\n",
              "</table>\n",
              "</div>"
            ],
            "text/plain": [
              "   train-error-mean  train-error-std  test-error-mean  test-error-std\n",
              "5          0.147915         0.020175         0.210994        0.052873\n",
              "6          0.154765         0.026108         0.252220        0.067118\n",
              "7          0.155915         0.024127         0.252220        0.067118\n",
              "8          0.155921         0.029956         0.220190        0.059054\n",
              "9          0.153616         0.029225         0.220190        0.059054"
            ]
          },
          "metadata": {
            "tags": []
          },
          "execution_count": 411
        }
      ]
    },
    {
      "cell_type": "markdown",
      "metadata": {
        "id": "ZzU73Y4rGaYF",
        "colab_type": "text"
      },
      "source": [
        "### Train Model"
      ]
    },
    {
      "cell_type": "code",
      "metadata": {
        "id": "NIobyG_RGZ18",
        "colab_type": "code",
        "outputId": "ede85b47-7ab7-4f96-efd7-a0b239a765b8",
        "colab": {
          "base_uri": "https://localhost:8080/",
          "height": 210
        }
      },
      "source": [
        "bst = xgb.train(grid_search.best_params_, \n",
        "                dtrain, \n",
        "                evals = [(dval, \"Validation\")],\n",
        "                early_stopping_rounds = 25)"
      ],
      "execution_count": 0,
      "outputs": [
        {
          "output_type": "stream",
          "text": [
            "[0]\tValidation-rmse:0.462778\n",
            "Will train until Validation-rmse hasn't improved in 25 rounds.\n",
            "[1]\tValidation-rmse:0.432156\n",
            "[2]\tValidation-rmse:0.422408\n",
            "[3]\tValidation-rmse:0.401908\n",
            "[4]\tValidation-rmse:0.401107\n",
            "[5]\tValidation-rmse:0.404563\n",
            "[6]\tValidation-rmse:0.402746\n",
            "[7]\tValidation-rmse:0.40866\n",
            "[8]\tValidation-rmse:0.408823\n",
            "[9]\tValidation-rmse:0.408734\n"
          ],
          "name": "stdout"
        }
      ]
    },
    {
      "cell_type": "markdown",
      "metadata": {
        "id": "eosSO0bGH3cO",
        "colab_type": "text"
      },
      "source": [
        "### Importance Plot"
      ]
    },
    {
      "cell_type": "code",
      "metadata": {
        "id": "Mks0Wx5VQNf3",
        "colab_type": "code",
        "outputId": "595c3fa6-396b-401f-f485-115276091877",
        "colab": {
          "base_uri": "https://localhost:8080/",
          "height": 313
        }
      },
      "source": [
        "xgb.plot_importance(bst)"
      ],
      "execution_count": 0,
      "outputs": [
        {
          "output_type": "execute_result",
          "data": {
            "text/plain": [
              "<matplotlib.axes._subplots.AxesSubplot at 0x7f5d74d6b0f0>"
            ]
          },
          "metadata": {
            "tags": []
          },
          "execution_count": 415
        },
        {
          "output_type": "display_data",
          "data": {
            "image/png": "[encoded data removed]",
            "text/plain": [
              "<Figure size 432x288 with 1 Axes>"
            ]
          },
          "metadata": {
            "tags": []
          }
        }
      ]
    },
    {
      "cell_type": "markdown",
      "metadata": {
        "id": "pDfj4X8VH5fD",
        "colab_type": "text"
      },
      "source": [
        "### Tree Plot"
      ]
    },
    {
      "cell_type": "code",
      "metadata": {
        "id": "5rqBSpNdxW-x",
        "colab_type": "code",
        "colab": {}
      },
      "source": [
        "from xgboost import plot_tree"
      ],
      "execution_count": 0,
      "outputs": []
    },
    {
      "cell_type": "code",
      "metadata": {
        "id": "K9ruNoexws4B",
        "colab_type": "code",
        "outputId": "7f2bd794-eb94-479a-f9e6-5acff867e1d1",
        "colab": {
          "base_uri": "https://localhost:8080/",
          "height": 351
        }
      },
      "source": [
        "xgb.to_graphviz(bst, rankdir='LR')"
      ],
      "execution_count": 0,
      "outputs": [
        {
          "output_type": "execute_result",
          "data": {
            "text/plain": [
              "<graphviz.dot.Digraph at 0x7f5d748d5e80>"
            ],
            "image/svg+xml": "<?xml version=\"1.0\" encoding=\"UTF-8\" standalone=\"no\"?>\n<!DOCTYPE svg PUBLIC \"-//W3C//DTD SVG 1.1//EN\"\n \"http://www.w3.org/Graphics/SVG/1.1/DTD/svg11.dtd\">\n<!-- Generated by graphviz version 2.40.1 (20161225.0304)\n -->\n<!-- Title: %3 Pages: 1 -->\n<svg width=\"864pt\" height=\"233pt\"\n viewBox=\"0.00 0.00 864.45 233.00\" xmlns=\"http://www.w3.org/2000/svg\" xmlns:xlink=\"http://www.w3.org/1999/xlink\">\n<g id=\"graph0\" class=\"graph\" transform=\"scale(1 1) rotate(0) translate(4 229)\">\n<title>%3</title>\n<polygon fill=\"#ffffff\" stroke=\"transparent\" points=\"-4,4 -4,-229 860.4521,-229 860.4521,4 -4,4\"/>\n<!-- 0 -->\n<g id=\"node1\" class=\"node\">\n<title>0</title>\n<ellipse fill=\"none\" stroke=\"#000000\" cx=\"36.3968\" cy=\"-99\" rx=\"36.2938\" ry=\"18\"/>\n<text text-anchor=\"middle\" x=\"36.3968\" y=\"-95.3\" font-family=\"Times,serif\" font-size=\"14.00\" fill=\"#000000\">M&lt;0.5</text>\n</g>\n<!-- 1 -->\n<g id=\"node2\" class=\"node\">\n<title>1</title>\n<ellipse fill=\"none\" stroke=\"#000000\" cx=\"239.5882\" cy=\"-126\" rx=\"59.5901\" ry=\"18\"/>\n<text text-anchor=\"middle\" x=\"239.5882\" y=\"-122.3\" font-family=\"Times,serif\" font-size=\"14.00\" fill=\"#000000\">D_ABC&lt;0.5</text>\n</g>\n<!-- 0&#45;&gt;1 -->\n<g id=\"edge1\" class=\"edge\">\n<title>0&#45;&gt;1</title>\n<path fill=\"none\" stroke=\"#0000ff\" d=\"M71.79,-103.703C100.0238,-107.4547 140.3396,-112.8119 174.3773,-117.3348\"/>\n<polygon fill=\"#0000ff\" stroke=\"#0000ff\" points=\"174.3449,-120.8612 184.7188,-118.709 175.267,-113.9222 174.3449,-120.8612\"/>\n<text text-anchor=\"middle\" x=\"126.2935\" y=\"-118.8\" font-family=\"Times,serif\" font-size=\"14.00\" fill=\"#000000\">yes, missing</text>\n</g>\n<!-- 2 -->\n<g id=\"node3\" class=\"node\">\n<title>2</title>\n<ellipse fill=\"none\" stroke=\"#000000\" cx=\"239.5882\" cy=\"-72\" rx=\"50.8918\" ry=\"18\"/>\n<text text-anchor=\"middle\" x=\"239.5882\" y=\"-68.3\" font-family=\"Times,serif\" font-size=\"14.00\" fill=\"#000000\">Pclass&lt;2.5</text>\n</g>\n<!-- 0&#45;&gt;2 -->\n<g id=\"edge2\" class=\"edge\">\n<title>0&#45;&gt;2</title>\n<path fill=\"none\" stroke=\"#ff0000\" d=\"M69.9701,-91.7058C76.8381,-90.3561 84.0329,-89.0448 90.7935,-88 120.0503,-83.4788 152.7403,-79.8126 180.0115,-77.1359\"/>\n<polygon fill=\"#ff0000\" stroke=\"#ff0000\" points=\"180.5603,-80.5994 190.1796,-76.1588 179.8907,-73.6315 180.5603,-80.5994\"/>\n<text text-anchor=\"middle\" x=\"126.2935\" y=\"-91.8\" font-family=\"Times,serif\" font-size=\"14.00\" fill=\"#000000\">no</text>\n</g>\n<!-- 3 -->\n<g id=\"node4\" class=\"node\">\n<title>3</title>\n<ellipse fill=\"none\" stroke=\"#000000\" cx=\"491.5254\" cy=\"-180\" rx=\"44.393\" ry=\"18\"/>\n<text text-anchor=\"middle\" x=\"491.5254\" y=\"-176.3\" font-family=\"Times,serif\" font-size=\"14.00\" fill=\"#000000\">Age&lt;3.5</text>\n</g>\n<!-- 1&#45;&gt;3 -->\n<g id=\"edge3\" class=\"edge\">\n<title>1&#45;&gt;3</title>\n<path fill=\"none\" stroke=\"#0000ff\" d=\"M285.5874,-137.5668C296.0224,-140.0981 307.0689,-142.705 317.3829,-145 359.0264,-154.2661 406.5174,-163.7386 441.3743,-170.4884\"/>\n<polygon fill=\"#0000ff\" stroke=\"#0000ff\" points=\"440.8277,-173.9474 451.3097,-172.4049 442.1536,-167.0741 440.8277,-173.9474\"/>\n<text text-anchor=\"middle\" x=\"352.8829\" y=\"-162.8\" font-family=\"Times,serif\" font-size=\"14.00\" fill=\"#000000\">yes, missing</text>\n</g>\n<!-- 4 -->\n<g id=\"node5\" class=\"node\">\n<title>4</title>\n<ellipse fill=\"none\" stroke=\"#000000\" cx=\"491.5254\" cy=\"-126\" rx=\"85.2851\" ry=\"18\"/>\n<text text-anchor=\"middle\" x=\"491.5254\" y=\"-122.3\" font-family=\"Times,serif\" font-size=\"14.00\" fill=\"#000000\">leaf=0.0833333358</text>\n</g>\n<!-- 1&#45;&gt;4 -->\n<g id=\"edge4\" class=\"edge\">\n<title>1&#45;&gt;4</title>\n<path fill=\"none\" stroke=\"#ff0000\" d=\"M299.6134,-126C328.3745,-126 363.5229,-126 395.8435,-126\"/>\n<polygon fill=\"#ff0000\" stroke=\"#ff0000\" points=\"396.2262,-129.5001 406.2261,-126 396.2261,-122.5001 396.2262,-129.5001\"/>\n<text text-anchor=\"middle\" x=\"352.8829\" y=\"-129.8\" font-family=\"Times,serif\" font-size=\"14.00\" fill=\"#000000\">no</text>\n</g>\n<!-- 5 -->\n<g id=\"node8\" class=\"node\">\n<title>5</title>\n<ellipse fill=\"none\" stroke=\"#000000\" cx=\"491.5254\" cy=\"-72\" rx=\"85.2851\" ry=\"18\"/>\n<text text-anchor=\"middle\" x=\"491.5254\" y=\"-68.3\" font-family=\"Times,serif\" font-size=\"14.00\" fill=\"#000000\">leaf=0.0884615406</text>\n</g>\n<!-- 2&#45;&gt;5 -->\n<g id=\"edge7\" class=\"edge\">\n<title>2&#45;&gt;5</title>\n<path fill=\"none\" stroke=\"#0000ff\" d=\"M290.5715,-72C320.6704,-72 359.7495,-72 395.434,-72\"/>\n<polygon fill=\"#0000ff\" stroke=\"#0000ff\" points=\"395.8904,-75.5001 405.8904,-72 395.8904,-68.5001 395.8904,-75.5001\"/>\n<text text-anchor=\"middle\" x=\"352.8829\" y=\"-75.8\" font-family=\"Times,serif\" font-size=\"14.00\" fill=\"#000000\">yes</text>\n</g>\n<!-- 6 -->\n<g id=\"node9\" class=\"node\">\n<title>6</title>\n<ellipse fill=\"none\" stroke=\"#000000\" cx=\"491.5254\" cy=\"-18\" rx=\"37.0935\" ry=\"18\"/>\n<text text-anchor=\"middle\" x=\"491.5254\" y=\"-14.3\" font-family=\"Times,serif\" font-size=\"14.00\" fill=\"#000000\">leaf=&#45;0</text>\n</g>\n<!-- 2&#45;&gt;6 -->\n<g id=\"edge8\" class=\"edge\">\n<title>2&#45;&gt;6</title>\n<path fill=\"none\" stroke=\"#ff0000\" d=\"M281.0989,-61.5264C292.8094,-58.663 305.5761,-55.6271 317.3829,-53 361.2182,-43.2462 411.5326,-33.2637 446.7704,-26.4689\"/>\n<polygon fill=\"#ff0000\" stroke=\"#ff0000\" points=\"447.5839,-29.8767 456.7441,-24.5532 446.2634,-23.0024 447.5839,-29.8767\"/>\n<text text-anchor=\"middle\" x=\"352.8829\" y=\"-56.8\" font-family=\"Times,serif\" font-size=\"14.00\" fill=\"#000000\">no, missing</text>\n</g>\n<!-- 7 -->\n<g id=\"node6\" class=\"node\">\n<title>7</title>\n<ellipse fill=\"none\" stroke=\"#000000\" cx=\"768.06\" cy=\"-207\" rx=\"85.2851\" ry=\"18\"/>\n<text text-anchor=\"middle\" x=\"768.06\" y=\"-203.3\" font-family=\"Times,serif\" font-size=\"14.00\" fill=\"#000000\">leaf=0.0800000057</text>\n</g>\n<!-- 3&#45;&gt;7 -->\n<g id=\"edge5\" class=\"edge\">\n<title>3&#45;&gt;7</title>\n<path fill=\"none\" stroke=\"#0000ff\" d=\"M534.7339,-184.2188C573.5919,-188.0127 631.8641,-193.7022 680.4514,-198.4462\"/>\n<polygon fill=\"#0000ff\" stroke=\"#0000ff\" points=\"680.3691,-201.9547 690.662,-199.4431 681.0494,-194.9878 680.3691,-201.9547\"/>\n<text text-anchor=\"middle\" x=\"628.1678\" y=\"-198.8\" font-family=\"Times,serif\" font-size=\"14.00\" fill=\"#000000\">yes</text>\n</g>\n<!-- 8 -->\n<g id=\"node7\" class=\"node\">\n<title>8</title>\n<ellipse fill=\"none\" stroke=\"#000000\" cx=\"768.06\" cy=\"-153\" rx=\"88.2844\" ry=\"18\"/>\n<text text-anchor=\"middle\" x=\"768.06\" y=\"-149.3\" font-family=\"Times,serif\" font-size=\"14.00\" fill=\"#000000\">leaf=&#45;0.0740384683</text>\n</g>\n<!-- 3&#45;&gt;8 -->\n<g id=\"edge6\" class=\"edge\">\n<title>3&#45;&gt;8</title>\n<path fill=\"none\" stroke=\"#ff0000\" d=\"M534.7339,-175.7813C572.9537,-172.0496 629.9553,-166.4841 678.0498,-161.7883\"/>\n<polygon fill=\"#ff0000\" stroke=\"#ff0000\" points=\"678.555,-165.2557 688.1675,-160.8005 677.8747,-158.2889 678.555,-165.2557\"/>\n<text text-anchor=\"middle\" x=\"628.1678\" y=\"-172.8\" font-family=\"Times,serif\" font-size=\"14.00\" fill=\"#000000\">no, missing</text>\n</g>\n</g>\n</svg>\n"
          },
          "metadata": {
            "tags": []
          },
          "execution_count": 425
        }
      ]
    },
    {
      "cell_type": "markdown",
      "metadata": {
        "id": "m3xipGEdw8kG",
        "colab_type": "text"
      },
      "source": [
        "### ROC Curve/Threshold"
      ]
    },
    {
      "cell_type": "code",
      "metadata": {
        "id": "zMW8rDuCIptf",
        "colab_type": "code",
        "colab": {}
      },
      "source": [
        "from sklearn.metrics import roc_curve\n",
        "from sklearn.metrics import roc_auc_score"
      ],
      "execution_count": 0,
      "outputs": []
    },
    {
      "cell_type": "code",
      "metadata": {
        "id": "-S9N3r8Dw_ra",
        "colab_type": "code",
        "colab": {}
      },
      "source": [
        "lr_probs = bst.predict(dval)"
      ],
      "execution_count": 0,
      "outputs": []
    },
    {
      "cell_type": "code",
      "metadata": {
        "id": "s8GFBWSCIZ_f",
        "colab_type": "code",
        "colab": {}
      },
      "source": [
        "# generate a no skill prediction (majority class)\n",
        "ns_probs = [0 for _ in range(len(val_labels))]"
      ],
      "execution_count": 0,
      "outputs": []
    },
    {
      "cell_type": "code",
      "metadata": {
        "id": "iqotb6w_IEqP",
        "colab_type": "code",
        "colab": {}
      },
      "source": [
        "# calculate scores\n",
        "ns_auc = roc_auc_score(val_labels, ns_probs)\n",
        "lr_auc = roc_auc_score(val_labels, lr_probs)"
      ],
      "execution_count": 0,
      "outputs": []
    },
    {
      "cell_type": "code",
      "metadata": {
        "id": "ms4iKfYmI5wi",
        "colab_type": "code",
        "outputId": "38309917-3f43-4fd0-a820-7e6b508488ae",
        "colab": {
          "base_uri": "https://localhost:8080/",
          "height": 52
        }
      },
      "source": [
        "# summarize scores\n",
        "print('No Skill: ROC AUC=%.3f' % (ns_auc))\n",
        "print('XGBoost: ROC AUC=%.3f' % (lr_auc))"
      ],
      "execution_count": 0,
      "outputs": [
        {
          "output_type": "stream",
          "text": [
            "No Skill: ROC AUC=0.500\n",
            "XGBoost: ROC AUC=0.843\n"
          ],
          "name": "stdout"
        }
      ]
    },
    {
      "cell_type": "code",
      "metadata": {
        "id": "yr_WoOhJI7Gl",
        "colab_type": "code",
        "colab": {}
      },
      "source": [
        "# calculate roc curves\n",
        "ns_fpr, ns_tpr, _ = roc_curve(val_labels, ns_probs)\n",
        "lr_fpr, lr_tpr, _ = roc_curve(val_labels, lr_probs)"
      ],
      "execution_count": 0,
      "outputs": []
    },
    {
      "cell_type": "code",
      "metadata": {
        "id": "thiPnaSmJLTf",
        "colab_type": "code",
        "colab": {}
      },
      "source": [
        "from matplotlib import pyplot"
      ],
      "execution_count": 0,
      "outputs": []
    },
    {
      "cell_type": "code",
      "metadata": {
        "id": "klMD_WKJJEPm",
        "colab_type": "code",
        "outputId": "b327575d-1ec6-4d46-c879-f5b368715423",
        "colab": {
          "base_uri": "https://localhost:8080/",
          "height": 279
        }
      },
      "source": [
        "# plot the roc curve for the model\n",
        "pyplot.plot(ns_fpr, ns_tpr, linestyle='--', label='No Skill')\n",
        "pyplot.plot(lr_fpr, lr_tpr, marker='.', label='XGBoost')\n",
        "# axis labels\n",
        "pyplot.xlabel('False Positive Rate')\n",
        "pyplot.ylabel('True Positive Rate')\n",
        "# show the legend\n",
        "pyplot.legend()\n",
        "# show the plot\n",
        "pyplot.show()"
      ],
      "execution_count": 0,
      "outputs": [
        {
          "output_type": "display_data",
          "data": {
            "image/png": "[encoded data removed]",
            "text/plain": [
              "<Figure size 432x288 with 1 Axes>"
            ]
          },
          "metadata": {
            "tags": []
          }
        }
      ]
    },
    {
      "cell_type": "markdown",
      "metadata": {
        "id": "4zWZsJnmQRQY",
        "colab_type": "text"
      },
      "source": [
        "## Making Predictions"
      ]
    },
    {
      "cell_type": "code",
      "metadata": {
        "id": "4ht9FuB9CxYj",
        "colab_type": "code",
        "colab": {}
      },
      "source": [
        "y_pred = bst.predict(dtest)"
      ],
      "execution_count": 0,
      "outputs": []
    },
    {
      "cell_type": "code",
      "metadata": {
        "id": "pF5_kvqtBwBP",
        "colab_type": "code",
        "colab": {}
      },
      "source": [
        "import numpy as np"
      ],
      "execution_count": 0,
      "outputs": []
    },
    {
      "cell_type": "code",
      "metadata": {
        "id": "QUVbONJBGz-2",
        "colab_type": "code",
        "colab": {}
      },
      "source": [
        "y_pred = np.where(y_pred > 0.5, 1, 0)\n",
        "y_pred = np.asarray(y_pred)"
      ],
      "execution_count": 0,
      "outputs": []
    },
    {
      "cell_type": "code",
      "metadata": {
        "id": "ofL3MXuTHDFQ",
        "colab_type": "code",
        "colab": {}
      },
      "source": [
        "test = pd.read_csv('test.csv')"
      ],
      "execution_count": 0,
      "outputs": []
    },
    {
      "cell_type": "code",
      "metadata": {
        "id": "Xv50f-hYI8dh",
        "colab_type": "code",
        "colab": {}
      },
      "source": [
        "submission = pd.DataFrame(\n",
        "    {\"PassengerID\": test.iloc[:,0],\n",
        "     \"Survived\": y_pred}\n",
        ")"
      ],
      "execution_count": 0,
      "outputs": []
    },
    {
      "cell_type": "markdown",
      "metadata": {
        "id": "2sAwpXWbs3yu",
        "colab_type": "text"
      },
      "source": [
        "### Saving Predictions"
      ]
    },
    {
      "cell_type": "code",
      "metadata": {
        "id": "fhysHfe-D-O1",
        "colab_type": "code",
        "colab": {}
      },
      "source": [
        "from numpy import asarray\n",
        "from numpy import savetxt\n",
        "savetxt('submission_17.csv', submission, delimiter=',') # save to csv file\n",
        "submission.to_csv(\"submission_17.csv\", index = False)"
      ],
      "execution_count": 0,
      "outputs": []
    },
    {
      "cell_type": "markdown",
      "metadata": {
        "id": "FHVzfeZCDu4m",
        "colab_type": "text"
      },
      "source": [
        "### Submitting via Kaggle API"
      ]
    },
    {
      "cell_type": "code",
      "metadata": {
        "id": "iF-UA4UeDfD7",
        "colab_type": "code",
        "outputId": "3d6a465d-dfac-46bc-952a-32306fc9d450",
        "colab": {
          "base_uri": "https://localhost:8080/",
          "height": 70
        }
      },
      "source": [
        "!kaggle competitions submit -c titanic -f submission_17.csv -m 'testing'"
      ],
      "execution_count": 26,
      "outputs": [
        {
          "output_type": "stream",
          "text": [
            "Warning: Looks like you're using an outdated API Version, please consider updating (server 1.5.6 / client 1.5.4)\n",
            "100% 2.77k/2.77k [00:02<00:00, 1.06kB/s]\n",
            "403 - Your team has used its submission allowance (10 of 10). This resets at midnight UTC (8.2 hours from now).\n"
          ],
          "name": "stdout"
        }
      ]
    },
    {
      "cell_type": "code",
      "metadata": {
        "id": "zvCYbCxEFNll",
        "colab_type": "code",
        "outputId": "363848d9-035e-4eaa-f9e3-497727e506fc",
        "colab": {
          "base_uri": "https://localhost:8080/",
          "height": 422
        }
      },
      "source": [
        "!kaggle competitions submissions -c titanic"
      ],
      "execution_count": 25,
      "outputs": [
        {
          "output_type": "stream",
          "text": [
            "Warning: Looks like you're using an outdated API Version, please consider updating (server 1.5.6 / client 1.5.4)\n",
            "fileName           date                 description                    status    publicScore  privateScore  \n",
            "-----------------  -------------------  -----------------------------  --------  -----------  ------------  \n",
            "submission_17.csv  2020-03-14 15:50:04  updated grid search            complete  0.66028      None          \n",
            "submission_17.csv  2020-03-14 03:40:11  updated grid search            complete  0.66028      None          \n",
            "submission_17.csv  2020-03-14 03:39:53  updated grid search            complete  0.66028      None          \n",
            "submission_17.csv  2020-03-14 03:39:31  updated grid search            complete  0.66028      None          \n",
            "submission_17.csv  2020-03-14 03:38:58  updated grid search            complete  0.66028      None          \n",
            "submission_16.csv  2020-03-14 01:07:27  playing with label thresholds  complete  0.63636      None          \n",
            "submission_17.csv  2020-03-14 00:33:43  playing with class threholds   complete  0.78947      None          \n",
            "submission_17.csv  2020-03-14 00:32:59  playing with class threholds   complete  0.78947      None          \n",
            "submission_17.csv  2020-03-14 00:14:49  playing with class threholds   complete  0.73684      None          \n",
            "submission_17.csv  2020-03-14 00:10:23  playing with class threholds   complete  0.75119      None          \n",
            "submission_17.csv  2020-03-13 23:21:23  playing with class threholds   complete  0.79425      None          \n",
            "submission_16.csv  2020-03-13 23:11:13  playing with label thresholds  complete  0.62679      None          \n",
            "submission_16.csv  2020-03-13 23:10:34  playing with label thresholds  complete  0.64114      None          \n",
            "submission_16.csv  2020-03-13 23:10:07  playing with label thresholds  complete  0.63157      None          \n",
            "submission_16.csv  2020-03-13 23:09:36  playing with label thresholds  complete  0.60765      None          \n",
            "submission_16.csv  2020-03-13 23:08:51  playing with label thresholds  complete  0.53588      None          \n",
            "submission_16.csv  2020-03-13 23:08:19  playing with label thresholds  complete  0.57416      None          \n",
            "submission_15.csv  2020-03-13 04:29:29  early stopping                 complete  0.58373      None          \n",
            "submission_14.csv  2020-03-13 04:26:22  early stopping                 complete  0.59330      None          \n",
            "submission_13.csv  2020-03-13 03:54:34  feature engineering            complete  0.57416      None          \n"
          ],
          "name": "stdout"
        }
      ]
    },
    {
      "cell_type": "code",
      "metadata": {
        "id": "AAM1WWxFJ5ZS",
        "colab_type": "code",
        "colab": {}
      },
      "source": [
        ""
      ],
      "execution_count": 0,
      "outputs": []
    }
  ]
}