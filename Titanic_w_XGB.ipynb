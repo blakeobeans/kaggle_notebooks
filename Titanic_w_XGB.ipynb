{
  "nbformat": 4,
  "nbformat_minor": 0,
  "metadata": {
    "colab": {
      "name": "Titanic w XGB.ipynb",
      "provenance": [],
      "collapsed_sections": [],
      "toc_visible": true,
      "authorship_tag": "ABX9TyMj5OoFNj+vsmz0akTXTXV5",
      "include_colab_link": true
    },
    "kernelspec": {
      "name": "python3",
      "display_name": "Python 3"
    },
    "accelerator": "GPU"
  },
  "cells": [
    {
      "cell_type": "markdown",
      "metadata": {
        "id": "view-in-github",
        "colab_type": "text"
      },
      "source": [
        "<a href=\"https://colab.research.google.com/github/blakeobeans/kaggle_notebooks/blob/master/Titanic_w_XGB.ipynb\" target=\"_parent\"><img src=\"https://colab.research.google.com/assets/colab-badge.svg\" alt=\"Open In Colab\"/></a>"
      ]
    },
    {
      "cell_type": "code",
      "metadata": {
        "id": "VbFecG4lG6fc",
        "colab_type": "code",
        "colab": {}
      },
      "source": [
        "import matplotlib.pyplot as plt"
      ],
      "execution_count": 0,
      "outputs": []
    },
    {
      "cell_type": "markdown",
      "metadata": {
        "id": "adGG4UD7QRuo",
        "colab_type": "text"
      },
      "source": [
        "### Mount Google Drive"
      ]
    },
    {
      "cell_type": "code",
      "metadata": {
        "id": "k9wF7WXQLqer",
        "colab_type": "code",
        "outputId": "182773cd-1140-4a5d-e297-30fd67c306f7",
        "colab": {
          "base_uri": "https://localhost:8080/",
          "height": 122
        }
      },
      "source": [
        "from google.colab import drive\n",
        "import os\n",
        "drive.mount('/content/drive')"
      ],
      "execution_count": 2,
      "outputs": [
        {
          "output_type": "stream",
          "text": [
            "Go to this URL in a browser: https://accounts.google.com/o/oauth2/auth?client_id=947318989803-6bn6qk8qdgf4n4g3pfee6491hc0brc4i.apps.googleusercontent.com&redirect_uri=urn%3aietf%3awg%3aoauth%3a2.0%3aoob&response_type=code&scope=email%20https%3a%2f%2fwww.googleapis.com%2fauth%2fdocs.test%20https%3a%2f%2fwww.googleapis.com%2fauth%2fdrive%20https%3a%2f%2fwww.googleapis.com%2fauth%2fdrive.photos.readonly%20https%3a%2f%2fwww.googleapis.com%2fauth%2fpeopleapi.readonly\n",
            "\n",
            "Enter your authorization code:\n",
            "··········\n",
            "Mounted at /content/drive\n"
          ],
          "name": "stdout"
        }
      ]
    },
    {
      "cell_type": "code",
      "metadata": {
        "id": "n8GDt876LyTa",
        "colab_type": "code",
        "outputId": "6e705137-78b9-40a6-b48e-220dee12436e",
        "colab": {
          "base_uri": "https://localhost:8080/",
          "height": 34
        }
      },
      "source": [
        "#set wd\n",
        "path = '/content/drive/My Drive/Colab Notebooks/Kaggle/Titanic'\n",
        "os.chdir(path)\n",
        "path"
      ],
      "execution_count": 3,
      "outputs": [
        {
          "output_type": "execute_result",
          "data": {
            "text/plain": [
              "'/content/drive/My Drive/Colab Notebooks/Kaggle/Titanic'"
            ]
          },
          "metadata": {
            "tags": []
          },
          "execution_count": 3
        }
      ]
    },
    {
      "cell_type": "code",
      "metadata": {
        "id": "jOk809CjOeIl",
        "colab_type": "code",
        "colab": {}
      },
      "source": [
        "from google.colab import files"
      ],
      "execution_count": 0,
      "outputs": []
    },
    {
      "cell_type": "markdown",
      "metadata": {
        "id": "PjdIja4QQWYy",
        "colab_type": "text"
      },
      "source": [
        "### Set API Creds"
      ]
    },
    {
      "cell_type": "code",
      "metadata": {
        "id": "0QS8DEHfOZxH",
        "colab_type": "code",
        "colab": {}
      },
      "source": [
        "import os\n",
        "os.environ['KAGGLE_USERNAME'] = \"blakeobeans\""
      ],
      "execution_count": 0,
      "outputs": []
    },
    {
      "cell_type": "code",
      "metadata": {
        "id": "l3fmpdGVOjh2",
        "colab_type": "code",
        "colab": {}
      },
      "source": [
        "os.environ['KAGGLE_KEY'] = \"60017706bdc00c3f8b75bdd75f4331b0\""
      ],
      "execution_count": 0,
      "outputs": []
    },
    {
      "cell_type": "markdown",
      "metadata": {
        "id": "1KQesDeaQclL",
        "colab_type": "text"
      },
      "source": [
        "### Download Data"
      ]
    },
    {
      "cell_type": "code",
      "metadata": {
        "id": "0ikzVesFOsiD",
        "colab_type": "code",
        "outputId": "de2c26b8-efc0-499f-e0f3-21a4021775c8",
        "colab": {
          "base_uri": "https://localhost:8080/",
          "height": 85
        }
      },
      "source": [
        "!kaggle competitions download -c titanic"
      ],
      "execution_count": 7,
      "outputs": [
        {
          "output_type": "stream",
          "text": [
            "Warning: Looks like you're using an outdated API Version, please consider updating (server 1.5.6 / client 1.5.4)\n",
            "test.csv: Skipping, found more recently modified local copy (use --force to force download)\n",
            "train.csv: Skipping, found more recently modified local copy (use --force to force download)\n",
            "gender_submission.csv: Skipping, found more recently modified local copy (use --force to force download)\n"
          ],
          "name": "stdout"
        }
      ]
    },
    {
      "cell_type": "markdown",
      "metadata": {
        "id": "4NDGszR9QKwq",
        "colab_type": "text"
      },
      "source": [
        "### Import Data"
      ]
    },
    {
      "cell_type": "code",
      "metadata": {
        "id": "Pg_aSJI1QOFJ",
        "colab_type": "code",
        "colab": {}
      },
      "source": [
        "import pandas as pd"
      ],
      "execution_count": 0,
      "outputs": []
    },
    {
      "cell_type": "code",
      "metadata": {
        "id": "YcSsZpzAK6my",
        "colab_type": "code",
        "colab": {}
      },
      "source": [
        "train = pd.read_csv('train.csv')\n",
        "test = pd.read_csv('test.csv')"
      ],
      "execution_count": 0,
      "outputs": []
    },
    {
      "cell_type": "markdown",
      "metadata": {
        "id": "8N2u7DLe6f8Y",
        "colab_type": "text"
      },
      "source": [
        "## Exploratory Analysis"
      ]
    },
    {
      "cell_type": "code",
      "metadata": {
        "id": "osRdIojFQPVq",
        "colab_type": "code",
        "outputId": "6a2b51eb-2b10-4e47-933c-03b43339a6c8",
        "colab": {
          "base_uri": "https://localhost:8080/",
          "height": 204
        }
      },
      "source": [
        "train.head()"
      ],
      "execution_count": 10,
      "outputs": [
        {
          "output_type": "execute_result",
          "data": {
            "text/html": [
              "<div>\n",
              "<style scoped>\n",
              "    .dataframe tbody tr th:only-of-type {\n",
              "        vertical-align: middle;\n",
              "    }\n",
              "\n",
              "    .dataframe tbody tr th {\n",
              "        vertical-align: top;\n",
              "    }\n",
              "\n",
              "    .dataframe thead th {\n",
              "        text-align: right;\n",
              "    }\n",
              "</style>\n",
              "<table border=\"1\" class=\"dataframe\">\n",
              "  <thead>\n",
              "    <tr style=\"text-align: right;\">\n",
              "      <th></th>\n",
              "      <th>PassengerId</th>\n",
              "      <th>Survived</th>\n",
              "      <th>Pclass</th>\n",
              "      <th>Name</th>\n",
              "      <th>Sex</th>\n",
              "      <th>Age</th>\n",
              "      <th>SibSp</th>\n",
              "      <th>Parch</th>\n",
              "      <th>Ticket</th>\n",
              "      <th>Fare</th>\n",
              "      <th>Cabin</th>\n",
              "      <th>Embarked</th>\n",
              "    </tr>\n",
              "  </thead>\n",
              "  <tbody>\n",
              "    <tr>\n",
              "      <th>0</th>\n",
              "      <td>1</td>\n",
              "      <td>0</td>\n",
              "      <td>3</td>\n",
              "      <td>Braund, Mr. Owen Harris</td>\n",
              "      <td>male</td>\n",
              "      <td>22.0</td>\n",
              "      <td>1</td>\n",
              "      <td>0</td>\n",
              "      <td>A/5 21171</td>\n",
              "      <td>7.2500</td>\n",
              "      <td>NaN</td>\n",
              "      <td>S</td>\n",
              "    </tr>\n",
              "    <tr>\n",
              "      <th>1</th>\n",
              "      <td>2</td>\n",
              "      <td>1</td>\n",
              "      <td>1</td>\n",
              "      <td>Cumings, Mrs. John Bradley (Florence Briggs Th...</td>\n",
              "      <td>female</td>\n",
              "      <td>38.0</td>\n",
              "      <td>1</td>\n",
              "      <td>0</td>\n",
              "      <td>PC 17599</td>\n",
              "      <td>71.2833</td>\n",
              "      <td>C85</td>\n",
              "      <td>C</td>\n",
              "    </tr>\n",
              "    <tr>\n",
              "      <th>2</th>\n",
              "      <td>3</td>\n",
              "      <td>1</td>\n",
              "      <td>3</td>\n",
              "      <td>Heikkinen, Miss. Laina</td>\n",
              "      <td>female</td>\n",
              "      <td>26.0</td>\n",
              "      <td>0</td>\n",
              "      <td>0</td>\n",
              "      <td>STON/O2. 3101282</td>\n",
              "      <td>7.9250</td>\n",
              "      <td>NaN</td>\n",
              "      <td>S</td>\n",
              "    </tr>\n",
              "    <tr>\n",
              "      <th>3</th>\n",
              "      <td>4</td>\n",
              "      <td>1</td>\n",
              "      <td>1</td>\n",
              "      <td>Futrelle, Mrs. Jacques Heath (Lily May Peel)</td>\n",
              "      <td>female</td>\n",
              "      <td>35.0</td>\n",
              "      <td>1</td>\n",
              "      <td>0</td>\n",
              "      <td>113803</td>\n",
              "      <td>53.1000</td>\n",
              "      <td>C123</td>\n",
              "      <td>S</td>\n",
              "    </tr>\n",
              "    <tr>\n",
              "      <th>4</th>\n",
              "      <td>5</td>\n",
              "      <td>0</td>\n",
              "      <td>3</td>\n",
              "      <td>Allen, Mr. William Henry</td>\n",
              "      <td>male</td>\n",
              "      <td>35.0</td>\n",
              "      <td>0</td>\n",
              "      <td>0</td>\n",
              "      <td>373450</td>\n",
              "      <td>8.0500</td>\n",
              "      <td>NaN</td>\n",
              "      <td>S</td>\n",
              "    </tr>\n",
              "  </tbody>\n",
              "</table>\n",
              "</div>"
            ],
            "text/plain": [
              "   PassengerId  Survived  Pclass  ...     Fare Cabin  Embarked\n",
              "0            1         0       3  ...   7.2500   NaN         S\n",
              "1            2         1       1  ...  71.2833   C85         C\n",
              "2            3         1       3  ...   7.9250   NaN         S\n",
              "3            4         1       1  ...  53.1000  C123         S\n",
              "4            5         0       3  ...   8.0500   NaN         S\n",
              "\n",
              "[5 rows x 12 columns]"
            ]
          },
          "metadata": {
            "tags": []
          },
          "execution_count": 10
        }
      ]
    },
    {
      "cell_type": "code",
      "metadata": {
        "id": "JBF0HnW0HbxU",
        "colab_type": "code",
        "outputId": "4f35a53b-5332-4035-9a60-57fc0d379981",
        "colab": {
          "base_uri": "https://localhost:8080/",
          "height": 34
        }
      },
      "source": [
        "train.shape"
      ],
      "execution_count": 11,
      "outputs": [
        {
          "output_type": "execute_result",
          "data": {
            "text/plain": [
              "(891, 12)"
            ]
          },
          "metadata": {
            "tags": []
          },
          "execution_count": 11
        }
      ]
    },
    {
      "cell_type": "code",
      "metadata": {
        "id": "zGXq7cFdAxBv",
        "colab_type": "code",
        "outputId": "3f1dae8e-83ec-47a3-da4a-c0337bae503b",
        "colab": {
          "base_uri": "https://localhost:8080/",
          "height": 34
        }
      },
      "source": [
        "test.shape"
      ],
      "execution_count": 12,
      "outputs": [
        {
          "output_type": "execute_result",
          "data": {
            "text/plain": [
              "(418, 11)"
            ]
          },
          "metadata": {
            "tags": []
          },
          "execution_count": 12
        }
      ]
    },
    {
      "cell_type": "markdown",
      "metadata": {
        "id": "R31GHJUPIoxh",
        "colab_type": "text"
      },
      "source": [
        "## Feature Engineering"
      ]
    },
    {
      "cell_type": "markdown",
      "metadata": {
        "id": "EksdrSSJKO53",
        "colab_type": "text"
      },
      "source": [
        "#### Remove irrelevant variables"
      ]
    },
    {
      "cell_type": "markdown",
      "metadata": {
        "id": "Dxm67Ou66sNF",
        "colab_type": "text"
      },
      "source": [
        "Removing 'PassengerID', 'Name', 'Ticket' and 'Cabin'."
      ]
    },
    {
      "cell_type": "code",
      "metadata": {
        "colab_type": "code",
        "id": "GFwxtQLp0IaN",
        "colab": {}
      },
      "source": [
        "train = train[['Survived', 'Pclass', 'Sex', 'Age', 'SibSp', 'Parch', 'Fare', 'Embarked']]\n",
        "test = test[['Pclass', 'Sex', 'Age', 'SibSp', 'Parch', 'Fare', 'Embarked']]"
      ],
      "execution_count": 0,
      "outputs": []
    },
    {
      "cell_type": "markdown",
      "metadata": {
        "id": "17KLwwL8xpM-",
        "colab_type": "text"
      },
      "source": [
        "### Missing Data Imputation"
      ]
    },
    {
      "cell_type": "code",
      "metadata": {
        "id": "mU67GxIwGw-V",
        "colab_type": "code",
        "colab": {}
      },
      "source": [
        "import missingno as msno"
      ],
      "execution_count": 0,
      "outputs": []
    },
    {
      "cell_type": "code",
      "metadata": {
        "id": "msg5oytrHBfF",
        "colab_type": "code",
        "outputId": "abd22daa-5ce4-4d6b-f992-de91fb89a9a7",
        "colab": {
          "base_uri": "https://localhost:8080/",
          "height": 678
        }
      },
      "source": [
        "msno.matrix(train)"
      ],
      "execution_count": 15,
      "outputs": [
        {
          "output_type": "execute_result",
          "data": {
            "text/plain": [
              "<matplotlib.axes._subplots.AxesSubplot at 0x7fc3d5fbca58>"
            ]
          },
          "metadata": {
            "tags": []
          },
          "execution_count": 15
        },
        {
          "output_type": "display_data",
          "data": {
            "image/png": "[encoded data removed]",
            "text/plain": [
              "<Figure size 1800x720 with 2 Axes>"
            ]
          },
          "metadata": {
            "tags": []
          }
        }
      ]
    },
    {
      "cell_type": "markdown",
      "metadata": {
        "id": "4y4S_W7kNtsS",
        "colab_type": "text"
      },
      "source": [
        "We're missing data for the \"age\" variable- one quantitative variable. We'll impute based on the most frequent value. This can be improved by looking at correlations between age and other variables in the dataset."
      ]
    },
    {
      "cell_type": "code",
      "metadata": {
        "id": "Ad5ia5rGJo8t",
        "colab_type": "code",
        "colab": {}
      },
      "source": [
        "from sklearn import preprocessing\n",
        "import numpy as np"
      ],
      "execution_count": 0,
      "outputs": []
    },
    {
      "cell_type": "code",
      "metadata": {
        "id": "LXI8z8SiL4TG",
        "colab_type": "code",
        "colab": {}
      },
      "source": [
        "#impute missing data for \"Embarked\"\n",
        "from sklearn.impute import SimpleImputer\n",
        "my_imputer = SimpleImputer(missing_values=np.NaN, strategy='most_frequent')"
      ],
      "execution_count": 0,
      "outputs": []
    },
    {
      "cell_type": "code",
      "metadata": {
        "id": "Ddapi26oBDPt",
        "colab_type": "code",
        "colab": {}
      },
      "source": [
        "train_imputed = my_imputer.fit_transform(train)\n",
        "test_imputed = my_imputer.fit_transform(test)"
      ],
      "execution_count": 0,
      "outputs": []
    },
    {
      "cell_type": "code",
      "metadata": {
        "id": "pOtlZBPEzc11",
        "colab_type": "code",
        "colab": {}
      },
      "source": [
        "#convert imputed array into pandas df with column names\n",
        "train_imputed = pd.DataFrame(train_imputed, columns = train.columns)\n",
        "test_imputed = pd.DataFrame(test_imputed, columns = test.columns)"
      ],
      "execution_count": 0,
      "outputs": []
    },
    {
      "cell_type": "markdown",
      "metadata": {
        "id": "lJ3mENxfKTjg",
        "colab_type": "text"
      },
      "source": [
        "### Categorical Encoding"
      ]
    },
    {
      "cell_type": "markdown",
      "metadata": {
        "id": "i2kDHkIjN-Qa",
        "colab_type": "text"
      },
      "source": [
        "Because the XGBoost algorithm requires numeric value, we have to main options for dealing with categorical variables: **label encoding** and **one-hot encoding**.  \n",
        "I'll opt for label encoding where there is an inherent rank and one-hot encoding otherwise."
      ]
    },
    {
      "cell_type": "code",
      "metadata": {
        "id": "6rDx28f0NgTk",
        "colab_type": "code",
        "outputId": "9aea2d74-3f95-4e5c-adb5-c82f21ba922e",
        "colab": {
          "base_uri": "https://localhost:8080/",
          "height": 238
        }
      },
      "source": [
        "train_imputed.info()"
      ],
      "execution_count": 20,
      "outputs": [
        {
          "output_type": "stream",
          "text": [
            "<class 'pandas.core.frame.DataFrame'>\n",
            "RangeIndex: 891 entries, 0 to 890\n",
            "Data columns (total 8 columns):\n",
            "Survived    891 non-null object\n",
            "Pclass      891 non-null object\n",
            "Sex         891 non-null object\n",
            "Age         891 non-null object\n",
            "SibSp       891 non-null object\n",
            "Parch       891 non-null object\n",
            "Fare        891 non-null object\n",
            "Embarked    891 non-null object\n",
            "dtypes: object(8)\n",
            "memory usage: 55.8+ KB\n"
          ],
          "name": "stdout"
        }
      ]
    },
    {
      "cell_type": "markdown",
      "metadata": {
        "id": "KWFRUnM1Nj2N",
        "colab_type": "text"
      },
      "source": [
        "**Label encoding**: Pclass  \n",
        "**One-hot encoding**: Sex, Embarked"
      ]
    },
    {
      "cell_type": "code",
      "metadata": {
        "id": "gpFK_zaYKjhI",
        "colab_type": "code",
        "colab": {}
      },
      "source": [
        "train_imputed_cat_ohe = train_imputed[['Sex', 'Embarked']]\n",
        "train_imputed_cat_le = train_imputed[['Pclass']]\n",
        "train_imputed_quant = train_imputed[['Survived', 'Age', 'SibSp', 'Parch', 'Fare']]"
      ],
      "execution_count": 0,
      "outputs": []
    },
    {
      "cell_type": "code",
      "metadata": {
        "id": "boNoMrcxA6S-",
        "colab_type": "code",
        "colab": {}
      },
      "source": [
        "test_imputed_cat_ohe = test_imputed[['Sex', 'Embarked']]\n",
        "test_imputed_cat_le = test_imputed[['Pclass']]\n",
        "test_imputed_quant = test_imputed[['Age', 'SibSp', 'Parch', 'Fare']]"
      ],
      "execution_count": 0,
      "outputs": []
    },
    {
      "cell_type": "markdown",
      "metadata": {
        "id": "aI4WZvasMvXT",
        "colab_type": "text"
      },
      "source": [
        "#### Label Encoding"
      ]
    },
    {
      "cell_type": "markdown",
      "metadata": {
        "id": "fKX7ttISMxRt",
        "colab_type": "text"
      },
      "source": [
        "Label encoding can be done with pandas"
      ]
    },
    {
      "cell_type": "code",
      "metadata": {
        "id": "lvZRv9qcM07z",
        "colab_type": "code",
        "outputId": "992f9146-d679-4a2b-96ec-962109a57a9e",
        "colab": {
          "base_uri": "https://localhost:8080/",
          "height": 119
        }
      },
      "source": [
        "train_imputed_cat_le.info()"
      ],
      "execution_count": 23,
      "outputs": [
        {
          "output_type": "stream",
          "text": [
            "<class 'pandas.core.frame.DataFrame'>\n",
            "RangeIndex: 891 entries, 0 to 890\n",
            "Data columns (total 1 columns):\n",
            "Pclass    891 non-null object\n",
            "dtypes: object(1)\n",
            "memory usage: 7.1+ KB\n"
          ],
          "name": "stdout"
        }
      ]
    },
    {
      "cell_type": "code",
      "metadata": {
        "id": "1ILDgKm_NL70",
        "colab_type": "code",
        "outputId": "980ca7e5-5eb4-4da5-c7f1-1080cfe6efcc",
        "colab": {
          "base_uri": "https://localhost:8080/",
          "height": 204
        }
      },
      "source": [
        "train_imputed_cat_le.head()"
      ],
      "execution_count": 24,
      "outputs": [
        {
          "output_type": "execute_result",
          "data": {
            "text/html": [
              "<div>\n",
              "<style scoped>\n",
              "    .dataframe tbody tr th:only-of-type {\n",
              "        vertical-align: middle;\n",
              "    }\n",
              "\n",
              "    .dataframe tbody tr th {\n",
              "        vertical-align: top;\n",
              "    }\n",
              "\n",
              "    .dataframe thead th {\n",
              "        text-align: right;\n",
              "    }\n",
              "</style>\n",
              "<table border=\"1\" class=\"dataframe\">\n",
              "  <thead>\n",
              "    <tr style=\"text-align: right;\">\n",
              "      <th></th>\n",
              "      <th>Pclass</th>\n",
              "    </tr>\n",
              "  </thead>\n",
              "  <tbody>\n",
              "    <tr>\n",
              "      <th>0</th>\n",
              "      <td>3</td>\n",
              "    </tr>\n",
              "    <tr>\n",
              "      <th>1</th>\n",
              "      <td>1</td>\n",
              "    </tr>\n",
              "    <tr>\n",
              "      <th>2</th>\n",
              "      <td>3</td>\n",
              "    </tr>\n",
              "    <tr>\n",
              "      <th>3</th>\n",
              "      <td>1</td>\n",
              "    </tr>\n",
              "    <tr>\n",
              "      <th>4</th>\n",
              "      <td>3</td>\n",
              "    </tr>\n",
              "  </tbody>\n",
              "</table>\n",
              "</div>"
            ],
            "text/plain": [
              "  Pclass\n",
              "0      3\n",
              "1      1\n",
              "2      3\n",
              "3      1\n",
              "4      3"
            ]
          },
          "metadata": {
            "tags": []
          },
          "execution_count": 24
        }
      ]
    },
    {
      "cell_type": "code",
      "metadata": {
        "id": "ZWoKyZRFM_IW",
        "colab_type": "code",
        "outputId": "6cb0e340-6774-4833-a0ed-5907aa76e8d9",
        "colab": {
          "base_uri": "https://localhost:8080/",
          "height": 221
        }
      },
      "source": [
        "train_imputed_cat_le['Pclass'] = pd.to_numeric(train_imputed_cat_le['Pclass']) # Replace strings with an integer\n",
        "test_imputed_cat_le['Pclass'] = pd.to_numeric(test_imputed_cat_le['Pclass']) # Replace strings with an integer"
      ],
      "execution_count": 25,
      "outputs": [
        {
          "output_type": "stream",
          "text": [
            "/usr/local/lib/python3.6/dist-packages/ipykernel_launcher.py:1: SettingWithCopyWarning: \n",
            "A value is trying to be set on a copy of a slice from a DataFrame.\n",
            "Try using .loc[row_indexer,col_indexer] = value instead\n",
            "\n",
            "See the caveats in the documentation: http://pandas.pydata.org/pandas-docs/stable/user_guide/indexing.html#returning-a-view-versus-a-copy\n",
            "  \"\"\"Entry point for launching an IPython kernel.\n",
            "/usr/local/lib/python3.6/dist-packages/ipykernel_launcher.py:2: SettingWithCopyWarning: \n",
            "A value is trying to be set on a copy of a slice from a DataFrame.\n",
            "Try using .loc[row_indexer,col_indexer] = value instead\n",
            "\n",
            "See the caveats in the documentation: http://pandas.pydata.org/pandas-docs/stable/user_guide/indexing.html#returning-a-view-versus-a-copy\n",
            "  \n"
          ],
          "name": "stderr"
        }
      ]
    },
    {
      "cell_type": "markdown",
      "metadata": {
        "id": "VJFHZz-Wxw85",
        "colab_type": "text"
      },
      "source": [
        "#### One-hot encoding"
      ]
    },
    {
      "cell_type": "code",
      "metadata": {
        "id": "PaybgyWpxcF2",
        "colab_type": "code",
        "outputId": "fd3325a9-74f2-4cf6-f9d3-489953e17fc4",
        "colab": {
          "base_uri": "https://localhost:8080/",
          "height": 34
        }
      },
      "source": [
        "train_imputed_cat_ohe.Sex.unique()"
      ],
      "execution_count": 26,
      "outputs": [
        {
          "output_type": "execute_result",
          "data": {
            "text/plain": [
              "array(['male', 'female'], dtype=object)"
            ]
          },
          "metadata": {
            "tags": []
          },
          "execution_count": 26
        }
      ]
    },
    {
      "cell_type": "code",
      "metadata": {
        "id": "k1W3tWA6xgKe",
        "colab_type": "code",
        "outputId": "230afdda-29ba-491c-91e6-baf96cc23af7",
        "colab": {
          "base_uri": "https://localhost:8080/",
          "height": 34
        }
      },
      "source": [
        "train_imputed_cat_ohe.Embarked.unique()"
      ],
      "execution_count": 27,
      "outputs": [
        {
          "output_type": "execute_result",
          "data": {
            "text/plain": [
              "array(['S', 'C', 'Q'], dtype=object)"
            ]
          },
          "metadata": {
            "tags": []
          },
          "execution_count": 27
        }
      ]
    },
    {
      "cell_type": "code",
      "metadata": {
        "id": "gq1Tzt6uKWV8",
        "colab_type": "code",
        "colab": {}
      },
      "source": [
        "enc = preprocessing.OneHotEncoder()"
      ],
      "execution_count": 0,
      "outputs": []
    },
    {
      "cell_type": "code",
      "metadata": {
        "id": "OJNpsXpLKaU1",
        "colab_type": "code",
        "colab": {}
      },
      "source": [
        "enc.fit(train_imputed_cat_ohe)\n",
        "onehotlabels = enc.transform(train_imputed_cat_ohe).toarray()\n",
        "df = pd.DataFrame(onehotlabels)\n",
        "train = pd.concat([train_imputed_quant, train_imputed_cat_le, df], axis=1, sort=False)"
      ],
      "execution_count": 0,
      "outputs": []
    },
    {
      "cell_type": "code",
      "metadata": {
        "id": "ebUpM1MlPNmf",
        "colab_type": "code",
        "outputId": "a9239908-b0ee-4fd5-fd14-114b04fc3251",
        "colab": {
          "base_uri": "https://localhost:8080/",
          "height": 204
        }
      },
      "source": [
        "train.head()"
      ],
      "execution_count": 30,
      "outputs": [
        {
          "output_type": "execute_result",
          "data": {
            "text/html": [
              "<div>\n",
              "<style scoped>\n",
              "    .dataframe tbody tr th:only-of-type {\n",
              "        vertical-align: middle;\n",
              "    }\n",
              "\n",
              "    .dataframe tbody tr th {\n",
              "        vertical-align: top;\n",
              "    }\n",
              "\n",
              "    .dataframe thead th {\n",
              "        text-align: right;\n",
              "    }\n",
              "</style>\n",
              "<table border=\"1\" class=\"dataframe\">\n",
              "  <thead>\n",
              "    <tr style=\"text-align: right;\">\n",
              "      <th></th>\n",
              "      <th>Survived</th>\n",
              "      <th>Age</th>\n",
              "      <th>SibSp</th>\n",
              "      <th>Parch</th>\n",
              "      <th>Fare</th>\n",
              "      <th>Pclass</th>\n",
              "      <th>0</th>\n",
              "      <th>1</th>\n",
              "      <th>2</th>\n",
              "      <th>3</th>\n",
              "      <th>4</th>\n",
              "    </tr>\n",
              "  </thead>\n",
              "  <tbody>\n",
              "    <tr>\n",
              "      <th>0</th>\n",
              "      <td>0</td>\n",
              "      <td>22</td>\n",
              "      <td>1</td>\n",
              "      <td>0</td>\n",
              "      <td>7.25</td>\n",
              "      <td>3</td>\n",
              "      <td>0.0</td>\n",
              "      <td>1.0</td>\n",
              "      <td>0.0</td>\n",
              "      <td>0.0</td>\n",
              "      <td>1.0</td>\n",
              "    </tr>\n",
              "    <tr>\n",
              "      <th>1</th>\n",
              "      <td>1</td>\n",
              "      <td>38</td>\n",
              "      <td>1</td>\n",
              "      <td>0</td>\n",
              "      <td>71.2833</td>\n",
              "      <td>1</td>\n",
              "      <td>1.0</td>\n",
              "      <td>0.0</td>\n",
              "      <td>1.0</td>\n",
              "      <td>0.0</td>\n",
              "      <td>0.0</td>\n",
              "    </tr>\n",
              "    <tr>\n",
              "      <th>2</th>\n",
              "      <td>1</td>\n",
              "      <td>26</td>\n",
              "      <td>0</td>\n",
              "      <td>0</td>\n",
              "      <td>7.925</td>\n",
              "      <td>3</td>\n",
              "      <td>1.0</td>\n",
              "      <td>0.0</td>\n",
              "      <td>0.0</td>\n",
              "      <td>0.0</td>\n",
              "      <td>1.0</td>\n",
              "    </tr>\n",
              "    <tr>\n",
              "      <th>3</th>\n",
              "      <td>1</td>\n",
              "      <td>35</td>\n",
              "      <td>1</td>\n",
              "      <td>0</td>\n",
              "      <td>53.1</td>\n",
              "      <td>1</td>\n",
              "      <td>1.0</td>\n",
              "      <td>0.0</td>\n",
              "      <td>0.0</td>\n",
              "      <td>0.0</td>\n",
              "      <td>1.0</td>\n",
              "    </tr>\n",
              "    <tr>\n",
              "      <th>4</th>\n",
              "      <td>0</td>\n",
              "      <td>35</td>\n",
              "      <td>0</td>\n",
              "      <td>0</td>\n",
              "      <td>8.05</td>\n",
              "      <td>3</td>\n",
              "      <td>0.0</td>\n",
              "      <td>1.0</td>\n",
              "      <td>0.0</td>\n",
              "      <td>0.0</td>\n",
              "      <td>1.0</td>\n",
              "    </tr>\n",
              "  </tbody>\n",
              "</table>\n",
              "</div>"
            ],
            "text/plain": [
              "  Survived Age SibSp Parch     Fare  Pclass    0    1    2    3    4\n",
              "0        0  22     1     0     7.25       3  0.0  1.0  0.0  0.0  1.0\n",
              "1        1  38     1     0  71.2833       1  1.0  0.0  1.0  0.0  0.0\n",
              "2        1  26     0     0    7.925       3  1.0  0.0  0.0  0.0  1.0\n",
              "3        1  35     1     0     53.1       1  1.0  0.0  0.0  0.0  1.0\n",
              "4        0  35     0     0     8.05       3  0.0  1.0  0.0  0.0  1.0"
            ]
          },
          "metadata": {
            "tags": []
          },
          "execution_count": 30
        }
      ]
    },
    {
      "cell_type": "code",
      "metadata": {
        "id": "IwGcjRBT0_iL",
        "colab_type": "code",
        "colab": {}
      },
      "source": [
        "train.columns = ['Survived', 'Age', 'SibSp', 'Parch', 'Fare', 'Pclass', 'M', 'F', 'S', 'C', 'Q']"
      ],
      "execution_count": 0,
      "outputs": []
    },
    {
      "cell_type": "code",
      "metadata": {
        "id": "XflLhAr3NCYy",
        "colab_type": "code",
        "colab": {}
      },
      "source": [
        "enc.fit(test_imputed_cat_ohe)\n",
        "onehotlabels = enc.transform(test_imputed_cat_ohe).toarray()\n",
        "df = pd.DataFrame(onehotlabels)\n",
        "test = pd.concat([test_imputed_quant, test_imputed_cat_le, df], axis=1, sort=False)"
      ],
      "execution_count": 0,
      "outputs": []
    },
    {
      "cell_type": "code",
      "metadata": {
        "id": "UQlhLwRr1i4-",
        "colab_type": "code",
        "colab": {}
      },
      "source": [
        "test.columns = ['Age', 'SibSp', 'Parch', 'Fare', 'Pclass', 'M', 'F', 'S', 'C', 'Q']"
      ],
      "execution_count": 0,
      "outputs": []
    },
    {
      "cell_type": "markdown",
      "metadata": {
        "id": "6JCK_97efgiN",
        "colab_type": "text"
      },
      "source": [
        "## Create Validation Dataset"
      ]
    },
    {
      "cell_type": "markdown",
      "metadata": {
        "id": "v3cwJXf7FO2U",
        "colab_type": "text"
      },
      "source": [
        "Because this is a public dataset, the test data can be submitted multiple times. Therefore, a validation dataset is not necessary."
      ]
    },
    {
      "cell_type": "code",
      "metadata": {
        "id": "vuKxoQRbfmur",
        "colab_type": "code",
        "colab": {}
      },
      "source": [
        "from sklearn.model_selection import train_test_split\n",
        "train, val = train_test_split(train, test_size=0.1, random_state=42)"
      ],
      "execution_count": 0,
      "outputs": []
    },
    {
      "cell_type": "code",
      "metadata": {
        "id": "BzJjXO_cO_m9",
        "colab_type": "code",
        "colab": {}
      },
      "source": [
        "train_label = train['Survived']\n",
        "val_label = val['Survived']"
      ],
      "execution_count": 0,
      "outputs": []
    },
    {
      "cell_type": "code",
      "metadata": {
        "id": "TdfisTmfPUnx",
        "colab_type": "code",
        "colab": {}
      },
      "source": [
        "train_features = train.drop('Survived', axis = 1)\n",
        "val_features = val.drop('Survived', axis = 1)"
      ],
      "execution_count": 0,
      "outputs": []
    },
    {
      "cell_type": "code",
      "metadata": {
        "id": "HSiEqOzV2am2",
        "colab_type": "code",
        "colab": {}
      },
      "source": [
        "train[['Survived', 'Age', 'SibSp', 'Parch', 'Fare']] = train[['Survived', 'Age', 'SibSp', 'Parch', 'Fare']].astype(float)\n",
        "val[['Survived', 'Age', 'SibSp', 'Parch', 'Fare']] = val[['Survived', 'Age', 'SibSp', 'Parch', 'Fare']].astype(float)"
      ],
      "execution_count": 0,
      "outputs": []
    },
    {
      "cell_type": "code",
      "metadata": {
        "id": "8IXOP3UT36Z0",
        "colab_type": "code",
        "colab": {}
      },
      "source": [
        "test[['Age', 'SibSp', 'Parch', 'Fare']] = test[['Age', 'SibSp', 'Parch', 'Fare']].astype(float)"
      ],
      "execution_count": 0,
      "outputs": []
    },
    {
      "cell_type": "code",
      "metadata": {
        "id": "AUGFF_8T4PHs",
        "colab_type": "code",
        "colab": {}
      },
      "source": [
        "train_features[['Age', 'SibSp', 'Parch', 'Fare']] = train_features[['Age', 'SibSp', 'Parch', 'Fare']].astype(float)\n",
        "val_features[['Age', 'SibSp', 'Parch', 'Fare']] = val_features[['Age', 'SibSp', 'Parch', 'Fare']].astype(float)\n",
        "#val_features.dtypes"
      ],
      "execution_count": 0,
      "outputs": []
    },
    {
      "cell_type": "code",
      "metadata": {
        "id": "FDLoH7Ha4UOt",
        "colab_type": "code",
        "colab": {}
      },
      "source": [
        "train_label = train_label.astype(float)\n",
        "val_label = val_label.astype(float)"
      ],
      "execution_count": 0,
      "outputs": []
    },
    {
      "cell_type": "markdown",
      "metadata": {
        "id": "inn8OPgySmqt",
        "colab_type": "text"
      },
      "source": [
        "## XGBoost"
      ]
    },
    {
      "cell_type": "markdown",
      "metadata": {
        "id": "WlH-useH7V5T",
        "colab_type": "text"
      },
      "source": [
        "I'll be using only one model- XGBoost."
      ]
    },
    {
      "cell_type": "markdown",
      "metadata": {
        "id": "xeQoMJtB7QLN",
        "colab_type": "text"
      },
      "source": [
        "### Creating Dataset"
      ]
    },
    {
      "cell_type": "code",
      "metadata": {
        "id": "w7rWeiUNH21G",
        "colab_type": "code",
        "colab": {}
      },
      "source": [
        "import xgboost as xgb"
      ],
      "execution_count": 0,
      "outputs": []
    },
    {
      "cell_type": "code",
      "metadata": {
        "id": "gNzd6TY6OcKp",
        "colab_type": "code",
        "outputId": "8449874d-359f-4f9b-a2df-6eca918fec2e",
        "colab": {
          "base_uri": "https://localhost:8080/",
          "height": 85
        }
      },
      "source": [
        "dtrain = xgb.DMatrix(train_features, label=train_label)\n",
        "dval = xgb.DMatrix(val_features, label=val_label)\n",
        "dtest = xgb.DMatrix(test)"
      ],
      "execution_count": 42,
      "outputs": [
        {
          "output_type": "stream",
          "text": [
            "/usr/local/lib/python3.6/dist-packages/xgboost/core.py:587: FutureWarning: Series.base is deprecated and will be removed in a future version\n",
            "  if getattr(data, 'base', None) is not None and \\\n",
            "/usr/local/lib/python3.6/dist-packages/xgboost/core.py:588: FutureWarning: Series.base is deprecated and will be removed in a future version\n",
            "  data.base is not None and isinstance(data, np.ndarray) \\\n"
          ],
          "name": "stderr"
        }
      ]
    },
    {
      "cell_type": "markdown",
      "metadata": {
        "id": "tWF8F8cZ5qg1",
        "colab_type": "text"
      },
      "source": [
        "### Grid Search w/ Cross Validation"
      ]
    },
    {
      "cell_type": "code",
      "metadata": {
        "id": "ydV_gceY8tAa",
        "colab_type": "code",
        "colab": {}
      },
      "source": [
        "cv_params = {\n",
        "     'colsample_bytree': np.linspace(0.5, 0.9, 5), #fraction of features to use\n",
        "     'n_estimators':[100, 200, 1000],\n",
        "     'max_depth': [10, 15, 20, 25], #number of allowable nodes\n",
        "     'min_child_weight': [1,3,5], #weight required for new node\n",
        "     'learning_rate': [0.1, 0.5]\n",
        "}"
      ],
      "execution_count": 0,
      "outputs": []
    },
    {
      "cell_type": "code",
      "metadata": {
        "id": "q4CsqoeH6kOQ",
        "colab_type": "code",
        "colab": {}
      },
      "source": [
        "ind_params = {'seed':0, \n",
        "              'subsample': 0.8, #fraction of rows to subsample\n",
        "              'objective': 'binary:logistic'}"
      ],
      "execution_count": 0,
      "outputs": []
    },
    {
      "cell_type": "code",
      "metadata": {
        "id": "Fd8gZQmz0tyb",
        "colab_type": "code",
        "colab": {}
      },
      "source": [
        "from sklearn.model_selection import GridSearchCV"
      ],
      "execution_count": 0,
      "outputs": []
    },
    {
      "cell_type": "code",
      "metadata": {
        "id": "AkwYRwes65oB",
        "colab_type": "code",
        "colab": {}
      },
      "source": [
        "optimized_GBM = GridSearchCV(xgb.XGBClassifier(**ind_params), \n",
        "                             cv_params, \n",
        "                             scoring = 'accuracy', \n",
        "                             cv = 5, \n",
        "                             n_jobs = -1, \n",
        "                             verbose = 1)"
      ],
      "execution_count": 0,
      "outputs": []
    },
    {
      "cell_type": "code",
      "metadata": {
        "id": "r_KwrGjm64J-",
        "colab_type": "code",
        "outputId": "a00331aa-ebac-4f6a-b19f-4d32208d3233",
        "colab": {
          "base_uri": "https://localhost:8080/",
          "height": 1000
        }
      },
      "source": [
        "optimized_GBM.fit(train_features, \n",
        "                  train_label,\n",
        "                  eval_set = [(val_features, val_label)],\n",
        "                  eval_metric = \"error\")"
      ],
      "execution_count": 127,
      "outputs": [
        {
          "output_type": "stream",
          "text": [
            "Fitting 5 folds for each of 360 candidates, totalling 1800 fits\n"
          ],
          "name": "stdout"
        },
        {
          "output_type": "stream",
          "text": [
            "[Parallel(n_jobs=-1)]: Using backend LokyBackend with 2 concurrent workers.\n",
            "[Parallel(n_jobs=-1)]: Done  46 tasks      | elapsed:   18.0s\n",
            "[Parallel(n_jobs=-1)]: Done 196 tasks      | elapsed:  1.2min\n",
            "[Parallel(n_jobs=-1)]: Done 446 tasks      | elapsed:  2.6min\n",
            "[Parallel(n_jobs=-1)]: Done 796 tasks      | elapsed:  4.8min\n",
            "[Parallel(n_jobs=-1)]: Done 1246 tasks      | elapsed:  7.8min\n",
            "[Parallel(n_jobs=-1)]: Done 1796 tasks      | elapsed: 11.4min\n"
          ],
          "name": "stderr"
        },
        {
          "output_type": "stream",
          "text": [
            "[0]\tvalidation_0-error:0.188889\n",
            "[1]\tvalidation_0-error:0.177778\n",
            "[2]\tvalidation_0-error:0.188889\n",
            "[3]\tvalidation_0-error:0.177778\n",
            "[4]\tvalidation_0-error:0.177778\n",
            "[5]\tvalidation_0-error:0.177778\n",
            "[6]\tvalidation_0-error:0.188889\n",
            "[7]\tvalidation_0-error:0.2\n",
            "[8]\tvalidation_0-error:0.2\n",
            "[9]\tvalidation_0-error:0.2\n",
            "[10]\tvalidation_0-error:0.188889\n",
            "[11]\tvalidation_0-error:0.188889\n",
            "[12]\tvalidation_0-error:0.166667\n",
            "[13]\tvalidation_0-error:0.155556\n",
            "[14]\tvalidation_0-error:0.166667\n",
            "[15]\tvalidation_0-error:0.166667\n",
            "[16]\tvalidation_0-error:0.166667\n",
            "[17]\tvalidation_0-error:0.177778\n",
            "[18]\tvalidation_0-error:0.166667\n",
            "[19]\tvalidation_0-error:0.166667\n",
            "[20]\tvalidation_0-error:0.177778\n",
            "[21]\tvalidation_0-error:0.177778\n",
            "[22]\tvalidation_0-error:0.166667\n",
            "[23]\tvalidation_0-error:0.166667\n",
            "[24]\tvalidation_0-error:0.177778\n",
            "[25]\tvalidation_0-error:0.188889\n",
            "[26]\tvalidation_0-error:0.188889\n",
            "[27]\tvalidation_0-error:0.177778\n",
            "[28]\tvalidation_0-error:0.188889\n",
            "[29]\tvalidation_0-error:0.166667\n",
            "[30]\tvalidation_0-error:0.177778\n",
            "[31]\tvalidation_0-error:0.188889\n",
            "[32]\tvalidation_0-error:0.177778\n",
            "[33]\tvalidation_0-error:0.177778\n",
            "[34]\tvalidation_0-error:0.177778\n",
            "[35]\tvalidation_0-error:0.188889\n",
            "[36]\tvalidation_0-error:0.177778\n",
            "[37]\tvalidation_0-error:0.177778\n",
            "[38]\tvalidation_0-error:0.177778\n",
            "[39]\tvalidation_0-error:0.177778\n",
            "[40]\tvalidation_0-error:0.177778\n",
            "[41]\tvalidation_0-error:0.177778\n",
            "[42]\tvalidation_0-error:0.177778\n",
            "[43]\tvalidation_0-error:0.177778\n",
            "[44]\tvalidation_0-error:0.177778\n",
            "[45]\tvalidation_0-error:0.177778\n",
            "[46]\tvalidation_0-error:0.177778\n",
            "[47]\tvalidation_0-error:0.177778\n",
            "[48]\tvalidation_0-error:0.177778\n",
            "[49]\tvalidation_0-error:0.177778\n",
            "[50]\tvalidation_0-error:0.177778\n",
            "[51]\tvalidation_0-error:0.188889\n",
            "[52]\tvalidation_0-error:0.188889\n",
            "[53]\tvalidation_0-error:0.177778\n",
            "[54]\tvalidation_0-error:0.188889\n",
            "[55]\tvalidation_0-error:0.166667\n",
            "[56]\tvalidation_0-error:0.166667\n",
            "[57]\tvalidation_0-error:0.166667\n",
            "[58]\tvalidation_0-error:0.166667\n",
            "[59]\tvalidation_0-error:0.166667\n",
            "[60]\tvalidation_0-error:0.166667\n",
            "[61]\tvalidation_0-error:0.166667\n",
            "[62]\tvalidation_0-error:0.166667\n",
            "[63]\tvalidation_0-error:0.166667\n",
            "[64]\tvalidation_0-error:0.166667\n",
            "[65]\tvalidation_0-error:0.166667\n",
            "[66]\tvalidation_0-error:0.166667\n",
            "[67]\tvalidation_0-error:0.166667\n",
            "[68]\tvalidation_0-error:0.166667\n"
          ],
          "name": "stdout"
        },
        {
          "output_type": "stream",
          "text": [
            "[Parallel(n_jobs=-1)]: Done 1800 out of 1800 | elapsed: 11.4min finished\n"
          ],
          "name": "stderr"
        },
        {
          "output_type": "stream",
          "text": [
            "[69]\tvalidation_0-error:0.166667\n",
            "[70]\tvalidation_0-error:0.166667\n",
            "[71]\tvalidation_0-error:0.155556\n",
            "[72]\tvalidation_0-error:0.155556\n",
            "[73]\tvalidation_0-error:0.166667\n",
            "[74]\tvalidation_0-error:0.166667\n",
            "[75]\tvalidation_0-error:0.166667\n",
            "[76]\tvalidation_0-error:0.155556\n",
            "[77]\tvalidation_0-error:0.166667\n",
            "[78]\tvalidation_0-error:0.166667\n",
            "[79]\tvalidation_0-error:0.166667\n",
            "[80]\tvalidation_0-error:0.166667\n",
            "[81]\tvalidation_0-error:0.166667\n",
            "[82]\tvalidation_0-error:0.166667\n",
            "[83]\tvalidation_0-error:0.166667\n",
            "[84]\tvalidation_0-error:0.166667\n",
            "[85]\tvalidation_0-error:0.155556\n",
            "[86]\tvalidation_0-error:0.166667\n",
            "[87]\tvalidation_0-error:0.155556\n",
            "[88]\tvalidation_0-error:0.166667\n",
            "[89]\tvalidation_0-error:0.166667\n",
            "[90]\tvalidation_0-error:0.166667\n",
            "[91]\tvalidation_0-error:0.166667\n",
            "[92]\tvalidation_0-error:0.166667\n",
            "[93]\tvalidation_0-error:0.166667\n",
            "[94]\tvalidation_0-error:0.166667\n",
            "[95]\tvalidation_0-error:0.155556\n",
            "[96]\tvalidation_0-error:0.155556\n",
            "[97]\tvalidation_0-error:0.155556\n",
            "[98]\tvalidation_0-error:0.155556\n",
            "[99]\tvalidation_0-error:0.155556\n",
            "[100]\tvalidation_0-error:0.155556\n",
            "[101]\tvalidation_0-error:0.155556\n",
            "[102]\tvalidation_0-error:0.155556\n",
            "[103]\tvalidation_0-error:0.155556\n",
            "[104]\tvalidation_0-error:0.155556\n",
            "[105]\tvalidation_0-error:0.155556\n",
            "[106]\tvalidation_0-error:0.155556\n",
            "[107]\tvalidation_0-error:0.166667\n",
            "[108]\tvalidation_0-error:0.166667\n",
            "[109]\tvalidation_0-error:0.166667\n",
            "[110]\tvalidation_0-error:0.166667\n",
            "[111]\tvalidation_0-error:0.166667\n",
            "[112]\tvalidation_0-error:0.166667\n",
            "[113]\tvalidation_0-error:0.166667\n",
            "[114]\tvalidation_0-error:0.166667\n",
            "[115]\tvalidation_0-error:0.166667\n",
            "[116]\tvalidation_0-error:0.166667\n",
            "[117]\tvalidation_0-error:0.166667\n",
            "[118]\tvalidation_0-error:0.166667\n",
            "[119]\tvalidation_0-error:0.166667\n",
            "[120]\tvalidation_0-error:0.166667\n",
            "[121]\tvalidation_0-error:0.166667\n",
            "[122]\tvalidation_0-error:0.166667\n",
            "[123]\tvalidation_0-error:0.166667\n",
            "[124]\tvalidation_0-error:0.166667\n",
            "[125]\tvalidation_0-error:0.166667\n",
            "[126]\tvalidation_0-error:0.166667\n",
            "[127]\tvalidation_0-error:0.166667\n",
            "[128]\tvalidation_0-error:0.166667\n",
            "[129]\tvalidation_0-error:0.166667\n",
            "[130]\tvalidation_0-error:0.166667\n",
            "[131]\tvalidation_0-error:0.166667\n",
            "[132]\tvalidation_0-error:0.166667\n",
            "[133]\tvalidation_0-error:0.166667\n",
            "[134]\tvalidation_0-error:0.166667\n",
            "[135]\tvalidation_0-error:0.166667\n",
            "[136]\tvalidation_0-error:0.166667\n",
            "[137]\tvalidation_0-error:0.166667\n",
            "[138]\tvalidation_0-error:0.166667\n",
            "[139]\tvalidation_0-error:0.166667\n",
            "[140]\tvalidation_0-error:0.166667\n",
            "[141]\tvalidation_0-error:0.155556\n",
            "[142]\tvalidation_0-error:0.155556\n",
            "[143]\tvalidation_0-error:0.155556\n",
            "[144]\tvalidation_0-error:0.155556\n",
            "[145]\tvalidation_0-error:0.155556\n",
            "[146]\tvalidation_0-error:0.155556\n",
            "[147]\tvalidation_0-error:0.155556\n",
            "[148]\tvalidation_0-error:0.155556\n",
            "[149]\tvalidation_0-error:0.155556\n",
            "[150]\tvalidation_0-error:0.155556\n",
            "[151]\tvalidation_0-error:0.155556\n",
            "[152]\tvalidation_0-error:0.166667\n",
            "[153]\tvalidation_0-error:0.166667\n",
            "[154]\tvalidation_0-error:0.166667\n",
            "[155]\tvalidation_0-error:0.166667\n",
            "[156]\tvalidation_0-error:0.166667\n",
            "[157]\tvalidation_0-error:0.166667\n",
            "[158]\tvalidation_0-error:0.166667\n",
            "[159]\tvalidation_0-error:0.166667\n",
            "[160]\tvalidation_0-error:0.166667\n",
            "[161]\tvalidation_0-error:0.166667\n",
            "[162]\tvalidation_0-error:0.166667\n",
            "[163]\tvalidation_0-error:0.166667\n",
            "[164]\tvalidation_0-error:0.166667\n",
            "[165]\tvalidation_0-error:0.166667\n",
            "[166]\tvalidation_0-error:0.166667\n",
            "[167]\tvalidation_0-error:0.166667\n",
            "[168]\tvalidation_0-error:0.166667\n",
            "[169]\tvalidation_0-error:0.166667\n",
            "[170]\tvalidation_0-error:0.166667\n",
            "[171]\tvalidation_0-error:0.166667\n",
            "[172]\tvalidation_0-error:0.166667\n",
            "[173]\tvalidation_0-error:0.166667\n",
            "[174]\tvalidation_0-error:0.166667\n",
            "[175]\tvalidation_0-error:0.166667\n",
            "[176]\tvalidation_0-error:0.166667\n",
            "[177]\tvalidation_0-error:0.166667\n",
            "[178]\tvalidation_0-error:0.166667\n",
            "[179]\tvalidation_0-error:0.166667\n",
            "[180]\tvalidation_0-error:0.166667\n",
            "[181]\tvalidation_0-error:0.166667\n",
            "[182]\tvalidation_0-error:0.166667\n",
            "[183]\tvalidation_0-error:0.166667\n",
            "[184]\tvalidation_0-error:0.166667\n",
            "[185]\tvalidation_0-error:0.166667\n",
            "[186]\tvalidation_0-error:0.166667\n",
            "[187]\tvalidation_0-error:0.166667\n",
            "[188]\tvalidation_0-error:0.166667\n",
            "[189]\tvalidation_0-error:0.166667\n",
            "[190]\tvalidation_0-error:0.166667\n",
            "[191]\tvalidation_0-error:0.166667\n",
            "[192]\tvalidation_0-error:0.166667\n",
            "[193]\tvalidation_0-error:0.166667\n",
            "[194]\tvalidation_0-error:0.166667\n",
            "[195]\tvalidation_0-error:0.166667\n",
            "[196]\tvalidation_0-error:0.166667\n",
            "[197]\tvalidation_0-error:0.166667\n",
            "[198]\tvalidation_0-error:0.166667\n",
            "[199]\tvalidation_0-error:0.166667\n"
          ],
          "name": "stdout"
        },
        {
          "output_type": "execute_result",
          "data": {
            "text/plain": [
              "GridSearchCV(cv=5, error_score=nan,\n",
              "             estimator=XGBClassifier(base_score=0.5, booster='gbtree',\n",
              "                                     colsample_bylevel=1, colsample_bynode=1,\n",
              "                                     colsample_bytree=1, gamma=0,\n",
              "                                     learning_rate=0.1, max_delta_step=0,\n",
              "                                     max_depth=3, min_child_weight=1,\n",
              "                                     missing=None, n_estimators=100, n_jobs=1,\n",
              "                                     nthread=None, objective='binary:logistic',\n",
              "                                     random_state=0, reg_alpha=0, reg_lambda=1,\n",
              "                                     scale_pos_weight=1, seed=0, silent=None,\n",
              "                                     subsample=0.8, verbosity=1),\n",
              "             iid='deprecated', n_jobs=-1,\n",
              "             param_grid={'colsample_bytree': array([0.5, 0.6, 0.7, 0.8, 0.9]),\n",
              "                         'learning_rate': [0.1, 0.5],\n",
              "                         'max_depth': [10, 15, 20, 25],\n",
              "                         'min_child_weight': [1, 3, 5],\n",
              "                         'n_estimators': [100, 200, 1000]},\n",
              "             pre_dispatch='2*n_jobs', refit=True, return_train_score=False,\n",
              "             scoring='accuracy', verbose=1)"
            ]
          },
          "metadata": {
            "tags": []
          },
          "execution_count": 127
        }
      ]
    },
    {
      "cell_type": "markdown",
      "metadata": {
        "id": "MBN1JUV89Ga_",
        "colab_type": "text"
      },
      "source": [
        "### Reviewing Grid Scores"
      ]
    },
    {
      "cell_type": "code",
      "metadata": {
        "id": "yIGy9JmHvJ37",
        "colab_type": "code",
        "colab": {
          "base_uri": "https://localhost:8080/",
          "height": 204
        },
        "outputId": "b0828604-adbe-4f4a-f175-958d9082c4b2"
      },
      "source": [
        "pd.DataFrame(optimized_GBM.cv_results_['params']).head()"
      ],
      "execution_count": 128,
      "outputs": [
        {
          "output_type": "execute_result",
          "data": {
            "text/html": [
              "<div>\n",
              "<style scoped>\n",
              "    .dataframe tbody tr th:only-of-type {\n",
              "        vertical-align: middle;\n",
              "    }\n",
              "\n",
              "    .dataframe tbody tr th {\n",
              "        vertical-align: top;\n",
              "    }\n",
              "\n",
              "    .dataframe thead th {\n",
              "        text-align: right;\n",
              "    }\n",
              "</style>\n",
              "<table border=\"1\" class=\"dataframe\">\n",
              "  <thead>\n",
              "    <tr style=\"text-align: right;\">\n",
              "      <th></th>\n",
              "      <th>colsample_bytree</th>\n",
              "      <th>learning_rate</th>\n",
              "      <th>max_depth</th>\n",
              "      <th>min_child_weight</th>\n",
              "      <th>n_estimators</th>\n",
              "    </tr>\n",
              "  </thead>\n",
              "  <tbody>\n",
              "    <tr>\n",
              "      <th>0</th>\n",
              "      <td>0.5</td>\n",
              "      <td>0.1</td>\n",
              "      <td>10</td>\n",
              "      <td>1</td>\n",
              "      <td>100</td>\n",
              "    </tr>\n",
              "    <tr>\n",
              "      <th>1</th>\n",
              "      <td>0.5</td>\n",
              "      <td>0.1</td>\n",
              "      <td>10</td>\n",
              "      <td>1</td>\n",
              "      <td>200</td>\n",
              "    </tr>\n",
              "    <tr>\n",
              "      <th>2</th>\n",
              "      <td>0.5</td>\n",
              "      <td>0.1</td>\n",
              "      <td>10</td>\n",
              "      <td>1</td>\n",
              "      <td>1000</td>\n",
              "    </tr>\n",
              "    <tr>\n",
              "      <th>3</th>\n",
              "      <td>0.5</td>\n",
              "      <td>0.1</td>\n",
              "      <td>10</td>\n",
              "      <td>3</td>\n",
              "      <td>100</td>\n",
              "    </tr>\n",
              "    <tr>\n",
              "      <th>4</th>\n",
              "      <td>0.5</td>\n",
              "      <td>0.1</td>\n",
              "      <td>10</td>\n",
              "      <td>3</td>\n",
              "      <td>200</td>\n",
              "    </tr>\n",
              "  </tbody>\n",
              "</table>\n",
              "</div>"
            ],
            "text/plain": [
              "   colsample_bytree  learning_rate  max_depth  min_child_weight  n_estimators\n",
              "0               0.5            0.1         10                 1           100\n",
              "1               0.5            0.1         10                 1           200\n",
              "2               0.5            0.1         10                 1          1000\n",
              "3               0.5            0.1         10                 3           100\n",
              "4               0.5            0.1         10                 3           200"
            ]
          },
          "metadata": {
            "tags": []
          },
          "execution_count": 128
        }
      ]
    },
    {
      "cell_type": "markdown",
      "metadata": {
        "id": "B49xayFuzikh",
        "colab_type": "text"
      },
      "source": [
        "### Tuning Hyperparameters"
      ]
    },
    {
      "cell_type": "code",
      "metadata": {
        "id": "yrQ_zRt4zq4F",
        "colab_type": "code",
        "colab": {
          "base_uri": "https://localhost:8080/",
          "height": 102
        },
        "outputId": "efc4e19c-6005-4028-a9bd-5c23d56014b5"
      },
      "source": [
        "cv_params"
      ],
      "execution_count": 106,
      "outputs": [
        {
          "output_type": "execute_result",
          "data": {
            "text/plain": [
              "{'colsample_bytree': array([0.5, 0.6, 0.7, 0.8, 0.9]),\n",
              " 'learning_rate': [0.1, 0.5],\n",
              " 'max_depth': [10, 15, 20, 25],\n",
              " 'min_child_weight': [1, 3, 5],\n",
              " 'n_estimators': [100, 200, 1000]}"
            ]
          },
          "metadata": {
            "tags": []
          },
          "execution_count": 106
        }
      ]
    },
    {
      "cell_type": "code",
      "metadata": {
        "id": "GcgGIgi60Vnt",
        "colab_type": "code",
        "colab": {}
      },
      "source": [
        "#adjust all downward\n",
        "cv_params_2 =  {\n",
        "     'colsample_bytree': np.linspace(0.4, 0.5),\n",
        "     'n_estimators':[50, 100],\n",
        "     'max_depth': [5, 10],\n",
        "     'min_child_weight': [0.5, 1],\n",
        "     'learning_rate': [0.05, 0.1]\n",
        "     }"
      ],
      "execution_count": 0,
      "outputs": []
    },
    {
      "cell_type": "code",
      "metadata": {
        "id": "qZUY_CMh0Rfl",
        "colab_type": "code",
        "colab": {}
      },
      "source": [
        "optimized_GBM_2 = GridSearchCV(xgb.XGBClassifier(**ind_params), \n",
        "                             cv_params_2, \n",
        "                             scoring = 'accuracy', \n",
        "                             cv = 5, #adjusted downward\n",
        "                             n_jobs = -1, \n",
        "                             verbose = 1)"
      ],
      "execution_count": 0,
      "outputs": []
    },
    {
      "cell_type": "code",
      "metadata": {
        "id": "sF0TtBpA0qSv",
        "colab_type": "code",
        "colab": {
          "base_uri": "https://localhost:8080/",
          "height": 1000
        },
        "outputId": "0e023207-9569-45c3-b54c-2229ccfd0360"
      },
      "source": [
        "optimized_GBM_2.fit(train_features, \n",
        "                    train_label,\n",
        "                    eval_set = [(val_features, val_label)],\n",
        "                    eval_metric = \"error\")"
      ],
      "execution_count": 131,
      "outputs": [
        {
          "output_type": "stream",
          "text": [
            "Fitting 5 folds for each of 800 candidates, totalling 4000 fits\n"
          ],
          "name": "stdout"
        },
        {
          "output_type": "stream",
          "text": [
            "[Parallel(n_jobs=-1)]: Using backend LokyBackend with 2 concurrent workers.\n",
            "[Parallel(n_jobs=-1)]: Done  88 tasks      | elapsed:    6.4s\n",
            "[Parallel(n_jobs=-1)]: Done 388 tasks      | elapsed:   27.0s\n",
            "[Parallel(n_jobs=-1)]: Done 888 tasks      | elapsed:  1.0min\n",
            "[Parallel(n_jobs=-1)]: Done 1588 tasks      | elapsed:  1.8min\n",
            "[Parallel(n_jobs=-1)]: Done 2488 tasks      | elapsed:  2.9min\n",
            "[Parallel(n_jobs=-1)]: Done 3588 tasks      | elapsed:  4.1min\n"
          ],
          "name": "stderr"
        },
        {
          "output_type": "stream",
          "text": [
            "[0]\tvalidation_0-error:0.2\n",
            "[1]\tvalidation_0-error:0.166667\n",
            "[2]\tvalidation_0-error:0.155556\n",
            "[3]\tvalidation_0-error:0.177778\n",
            "[4]\tvalidation_0-error:0.177778\n",
            "[5]\tvalidation_0-error:0.177778\n",
            "[6]\tvalidation_0-error:0.177778\n",
            "[7]\tvalidation_0-error:0.177778\n",
            "[8]\tvalidation_0-error:0.166667\n",
            "[9]\tvalidation_0-error:0.2\n",
            "[10]\tvalidation_0-error:0.188889\n",
            "[11]\tvalidation_0-error:0.177778\n",
            "[12]\tvalidation_0-error:0.177778\n",
            "[13]\tvalidation_0-error:0.177778\n",
            "[14]\tvalidation_0-error:0.177778\n",
            "[15]\tvalidation_0-error:0.188889\n",
            "[16]\tvalidation_0-error:0.188889\n",
            "[17]\tvalidation_0-error:0.188889\n",
            "[18]\tvalidation_0-error:0.188889\n",
            "[19]\tvalidation_0-error:0.188889\n",
            "[20]\tvalidation_0-error:0.188889\n",
            "[21]\tvalidation_0-error:0.188889\n",
            "[22]\tvalidation_0-error:0.188889\n",
            "[23]\tvalidation_0-error:0.188889\n",
            "[24]\tvalidation_0-error:0.188889\n",
            "[25]\tvalidation_0-error:0.188889\n",
            "[26]\tvalidation_0-error:0.188889\n",
            "[27]\tvalidation_0-error:0.188889\n",
            "[28]\tvalidation_0-error:0.2\n",
            "[29]\tvalidation_0-error:0.2\n",
            "[30]\tvalidation_0-error:0.2\n",
            "[31]\tvalidation_0-error:0.2\n",
            "[32]\tvalidation_0-error:0.211111\n",
            "[33]\tvalidation_0-error:0.188889\n",
            "[34]\tvalidation_0-error:0.2\n",
            "[35]\tvalidation_0-error:0.188889\n",
            "[36]\tvalidation_0-error:0.2\n",
            "[37]\tvalidation_0-error:0.188889\n",
            "[38]\tvalidation_0-error:0.188889\n",
            "[39]\tvalidation_0-error:0.188889\n",
            "[40]\tvalidation_0-error:0.188889\n",
            "[41]\tvalidation_0-error:0.177778\n",
            "[42]\tvalidation_0-error:0.177778\n",
            "[43]\tvalidation_0-error:0.188889\n",
            "[44]\tvalidation_0-error:0.188889\n",
            "[45]\tvalidation_0-error:0.188889\n",
            "[46]\tvalidation_0-error:0.188889\n",
            "[47]\tvalidation_0-error:0.188889\n",
            "[48]\tvalidation_0-error:0.188889\n",
            "[49]\tvalidation_0-error:0.188889\n"
          ],
          "name": "stdout"
        },
        {
          "output_type": "stream",
          "text": [
            "[Parallel(n_jobs=-1)]: Done 4000 out of 4000 | elapsed:  4.6min finished\n"
          ],
          "name": "stderr"
        },
        {
          "output_type": "execute_result",
          "data": {
            "text/plain": [
              "GridSearchCV(cv=5, error_score=nan,\n",
              "             estimator=XGBClassifier(base_score=0.5, booster='gbtree',\n",
              "                                     colsample_bylevel=1, colsample_bynode=1,\n",
              "                                     colsample_bytree=1, gamma=0,\n",
              "                                     learning_rate=0.1, max_delta_step=0,\n",
              "                                     max_depth=3, min_child_weight=1,\n",
              "                                     missing=None, n_estimators=100, n_jobs=1,\n",
              "                                     nthread=None, objective='binary:logistic',\n",
              "                                     random_state=0, reg_alpha=0, reg_lambda=1,\n",
              "                                     scale_po...\n",
              "       0.46122449, 0.46326531, 0.46530612, 0.46734694, 0.46938776,\n",
              "       0.47142857, 0.47346939, 0.4755102 , 0.47755102, 0.47959184,\n",
              "       0.48163265, 0.48367347, 0.48571429, 0.4877551 , 0.48979592,\n",
              "       0.49183673, 0.49387755, 0.49591837, 0.49795918, 0.5       ]),\n",
              "                         'learning_rate': [0.05, 0.1], 'max_depth': [5, 10],\n",
              "                         'min_child_weight': [0.5, 1],\n",
              "                         'n_estimators': [50, 100]},\n",
              "             pre_dispatch='2*n_jobs', refit=True, return_train_score=False,\n",
              "             scoring='accuracy', verbose=1)"
            ]
          },
          "metadata": {
            "tags": []
          },
          "execution_count": 131
        }
      ]
    },
    {
      "cell_type": "code",
      "metadata": {
        "id": "OxelQi1G5LM_",
        "colab_type": "code",
        "colab": {
          "base_uri": "https://localhost:8080/",
          "height": 204
        },
        "outputId": "89af6a1a-dbb6-4beb-8130-034dfe43b25b"
      },
      "source": [
        "pd.DataFrame(optimized_GBM_2.cv_results_['params']).head()"
      ],
      "execution_count": 132,
      "outputs": [
        {
          "output_type": "execute_result",
          "data": {
            "text/html": [
              "<div>\n",
              "<style scoped>\n",
              "    .dataframe tbody tr th:only-of-type {\n",
              "        vertical-align: middle;\n",
              "    }\n",
              "\n",
              "    .dataframe tbody tr th {\n",
              "        vertical-align: top;\n",
              "    }\n",
              "\n",
              "    .dataframe thead th {\n",
              "        text-align: right;\n",
              "    }\n",
              "</style>\n",
              "<table border=\"1\" class=\"dataframe\">\n",
              "  <thead>\n",
              "    <tr style=\"text-align: right;\">\n",
              "      <th></th>\n",
              "      <th>colsample_bytree</th>\n",
              "      <th>learning_rate</th>\n",
              "      <th>max_depth</th>\n",
              "      <th>min_child_weight</th>\n",
              "      <th>n_estimators</th>\n",
              "    </tr>\n",
              "  </thead>\n",
              "  <tbody>\n",
              "    <tr>\n",
              "      <th>0</th>\n",
              "      <td>0.4</td>\n",
              "      <td>0.05</td>\n",
              "      <td>5</td>\n",
              "      <td>0.5</td>\n",
              "      <td>50</td>\n",
              "    </tr>\n",
              "    <tr>\n",
              "      <th>1</th>\n",
              "      <td>0.4</td>\n",
              "      <td>0.05</td>\n",
              "      <td>5</td>\n",
              "      <td>0.5</td>\n",
              "      <td>100</td>\n",
              "    </tr>\n",
              "    <tr>\n",
              "      <th>2</th>\n",
              "      <td>0.4</td>\n",
              "      <td>0.05</td>\n",
              "      <td>5</td>\n",
              "      <td>1.0</td>\n",
              "      <td>50</td>\n",
              "    </tr>\n",
              "    <tr>\n",
              "      <th>3</th>\n",
              "      <td>0.4</td>\n",
              "      <td>0.05</td>\n",
              "      <td>5</td>\n",
              "      <td>1.0</td>\n",
              "      <td>100</td>\n",
              "    </tr>\n",
              "    <tr>\n",
              "      <th>4</th>\n",
              "      <td>0.4</td>\n",
              "      <td>0.05</td>\n",
              "      <td>10</td>\n",
              "      <td>0.5</td>\n",
              "      <td>50</td>\n",
              "    </tr>\n",
              "  </tbody>\n",
              "</table>\n",
              "</div>"
            ],
            "text/plain": [
              "   colsample_bytree  learning_rate  max_depth  min_child_weight  n_estimators\n",
              "0               0.4           0.05          5               0.5            50\n",
              "1               0.4           0.05          5               0.5           100\n",
              "2               0.4           0.05          5               1.0            50\n",
              "3               0.4           0.05          5               1.0           100\n",
              "4               0.4           0.05         10               0.5            50"
            ]
          },
          "metadata": {
            "tags": []
          },
          "execution_count": 132
        }
      ]
    },
    {
      "cell_type": "markdown",
      "metadata": {
        "id": "OW5PMzu911xP",
        "colab_type": "text"
      },
      "source": [
        "### Picking Best Parameters"
      ]
    },
    {
      "cell_type": "code",
      "metadata": {
        "colab_type": "code",
        "id": "DdLIFTMr-zrD",
        "colab": {}
      },
      "source": [
        "params = optimized_GBM_2.best_params_"
      ],
      "execution_count": 0,
      "outputs": []
    },
    {
      "cell_type": "code",
      "metadata": {
        "id": "R1cUuMe4R0SS",
        "colab_type": "code",
        "colab": {}
      },
      "source": [
        "params['seed'] = 0\n",
        "params['subsample'] = 0.8\n",
        "params['objective'] = 'binary:logistic'  "
      ],
      "execution_count": 0,
      "outputs": []
    },
    {
      "cell_type": "markdown",
      "metadata": {
        "id": "ZkNOEtvk_66y",
        "colab_type": "text"
      },
      "source": [
        "## Early Stopping CV"
      ]
    },
    {
      "cell_type": "code",
      "metadata": {
        "id": "EWanbZXr_9Ih",
        "colab_type": "code",
        "colab": {}
      },
      "source": [
        "cv_xgb = xgb.cv(params = params, \n",
        "                dtrain = dtrain, \n",
        "                num_boost_round = 3000, #number of trees to build\n",
        "                nfold = 5,\n",
        "                metrics = ['error'], \n",
        "                early_stopping_rounds = 100) # Look for early stopping that minimizes error"
      ],
      "execution_count": 0,
      "outputs": []
    },
    {
      "cell_type": "code",
      "metadata": {
        "id": "igHkHbAcAc5E",
        "colab_type": "code",
        "outputId": "209fecf1-ddcf-48ac-c7d0-490a004f0965",
        "colab": {
          "base_uri": "https://localhost:8080/",
          "height": 204
        }
      },
      "source": [
        "cv_xgb.tail()"
      ],
      "execution_count": 161,
      "outputs": [
        {
          "output_type": "execute_result",
          "data": {
            "text/html": [
              "<div>\n",
              "<style scoped>\n",
              "    .dataframe tbody tr th:only-of-type {\n",
              "        vertical-align: middle;\n",
              "    }\n",
              "\n",
              "    .dataframe tbody tr th {\n",
              "        vertical-align: top;\n",
              "    }\n",
              "\n",
              "    .dataframe thead th {\n",
              "        text-align: right;\n",
              "    }\n",
              "</style>\n",
              "<table border=\"1\" class=\"dataframe\">\n",
              "  <thead>\n",
              "    <tr style=\"text-align: right;\">\n",
              "      <th></th>\n",
              "      <th>train-error-mean</th>\n",
              "      <th>train-error-std</th>\n",
              "      <th>test-error-mean</th>\n",
              "      <th>test-error-std</th>\n",
              "    </tr>\n",
              "  </thead>\n",
              "  <tbody>\n",
              "    <tr>\n",
              "      <th>89</th>\n",
              "      <td>0.058361</td>\n",
              "      <td>0.007722</td>\n",
              "      <td>0.169752</td>\n",
              "      <td>0.021088</td>\n",
              "    </tr>\n",
              "    <tr>\n",
              "      <th>90</th>\n",
              "      <td>0.058049</td>\n",
              "      <td>0.007187</td>\n",
              "      <td>0.169752</td>\n",
              "      <td>0.021088</td>\n",
              "    </tr>\n",
              "    <tr>\n",
              "      <th>91</th>\n",
              "      <td>0.056800</td>\n",
              "      <td>0.007133</td>\n",
              "      <td>0.169752</td>\n",
              "      <td>0.021088</td>\n",
              "    </tr>\n",
              "    <tr>\n",
              "      <th>92</th>\n",
              "      <td>0.056800</td>\n",
              "      <td>0.007723</td>\n",
              "      <td>0.170994</td>\n",
              "      <td>0.022868</td>\n",
              "    </tr>\n",
              "    <tr>\n",
              "      <th>93</th>\n",
              "      <td>0.056800</td>\n",
              "      <td>0.007133</td>\n",
              "      <td>0.168494</td>\n",
              "      <td>0.023647</td>\n",
              "    </tr>\n",
              "  </tbody>\n",
              "</table>\n",
              "</div>"
            ],
            "text/plain": [
              "    train-error-mean  train-error-std  test-error-mean  test-error-std\n",
              "89          0.058361         0.007722         0.169752        0.021088\n",
              "90          0.058049         0.007187         0.169752        0.021088\n",
              "91          0.056800         0.007133         0.169752        0.021088\n",
              "92          0.056800         0.007723         0.170994        0.022868\n",
              "93          0.056800         0.007133         0.168494        0.023647"
            ]
          },
          "metadata": {
            "tags": []
          },
          "execution_count": 161
        }
      ]
    },
    {
      "cell_type": "markdown",
      "metadata": {
        "id": "mFsfEs3JCM1v",
        "colab_type": "text"
      },
      "source": [
        "90.5% accuracy, set # rounds to 198"
      ]
    },
    {
      "cell_type": "markdown",
      "metadata": {
        "id": "Rmp2pjTh7lw6",
        "colab_type": "text"
      },
      "source": [
        "### Training Model"
      ]
    },
    {
      "cell_type": "code",
      "metadata": {
        "id": "8z3xp0H4IozR",
        "colab_type": "code",
        "outputId": "8de90a97-a801-4609-d21c-dc1efe90bbe3",
        "colab": {
          "base_uri": "https://localhost:8080/",
          "height": 306
        }
      },
      "source": [
        "bst = xgb.train(params, \n",
        "                dtrain, \n",
        "                evals = [(dval, \"Validation\")],\n",
        "                early_stopping_rounds = 10, #this has an effect\n",
        "                num_boost_round = 93)"
      ],
      "execution_count": 163,
      "outputs": [
        {
          "output_type": "stream",
          "text": [
            "[0]\tValidation-error:0.2\n",
            "Will train until Validation-error hasn't improved in 10 rounds.\n",
            "[1]\tValidation-error:0.166667\n",
            "[2]\tValidation-error:0.155556\n",
            "[3]\tValidation-error:0.177778\n",
            "[4]\tValidation-error:0.177778\n",
            "[5]\tValidation-error:0.177778\n",
            "[6]\tValidation-error:0.177778\n",
            "[7]\tValidation-error:0.177778\n",
            "[8]\tValidation-error:0.166667\n",
            "[9]\tValidation-error:0.2\n",
            "[10]\tValidation-error:0.188889\n",
            "[11]\tValidation-error:0.177778\n",
            "[12]\tValidation-error:0.177778\n",
            "Stopping. Best iteration:\n",
            "[2]\tValidation-error:0.155556\n",
            "\n"
          ],
          "name": "stdout"
        }
      ]
    },
    {
      "cell_type": "markdown",
      "metadata": {
        "id": "FXOmW8Hpwprp",
        "colab_type": "text"
      },
      "source": [
        "### Analyze Model"
      ]
    },
    {
      "cell_type": "code",
      "metadata": {
        "id": "Mks0Wx5VQNf3",
        "colab_type": "code",
        "colab": {}
      },
      "source": [
        "#xgb.plot_importance(bst)"
      ],
      "execution_count": 0,
      "outputs": []
    },
    {
      "cell_type": "code",
      "metadata": {
        "id": "K9ruNoexws4B",
        "colab_type": "code",
        "colab": {}
      },
      "source": [
        "#xgb.to_graphviz(bst, num_trees=2)"
      ],
      "execution_count": 0,
      "outputs": []
    },
    {
      "cell_type": "markdown",
      "metadata": {
        "id": "m3xipGEdw8kG",
        "colab_type": "text"
      },
      "source": [
        "## Analyze Performance on Final Test Data"
      ]
    },
    {
      "cell_type": "markdown",
      "metadata": {
        "id": "-S9N3r8Dw_ra",
        "colab_type": "text"
      },
      "source": [
        "Not necessary here because this is a public contest with unlimited submissions."
      ]
    },
    {
      "cell_type": "markdown",
      "metadata": {
        "id": "4zWZsJnmQRQY",
        "colab_type": "text"
      },
      "source": [
        "## Making Predictions"
      ]
    },
    {
      "cell_type": "code",
      "metadata": {
        "id": "4ht9FuB9CxYj",
        "colab_type": "code",
        "colab": {}
      },
      "source": [
        "y_pred = bst.predict(dtest)"
      ],
      "execution_count": 0,
      "outputs": []
    },
    {
      "cell_type": "code",
      "metadata": {
        "id": "44ceE6EHCzRd",
        "colab_type": "code",
        "outputId": "e131c4f9-a537-43b9-d25c-e2d7d115215b",
        "colab": {
          "base_uri": "https://localhost:8080/",
          "height": 34
        }
      },
      "source": [
        "y_pred.shape"
      ],
      "execution_count": 165,
      "outputs": [
        {
          "output_type": "execute_result",
          "data": {
            "text/plain": [
              "(418,)"
            ]
          },
          "metadata": {
            "tags": []
          },
          "execution_count": 165
        }
      ]
    },
    {
      "cell_type": "code",
      "metadata": {
        "id": "QUVbONJBGz-2",
        "colab_type": "code",
        "colab": {}
      },
      "source": [
        "y_pred = np.where(y_pred > 0.5, 1, 0)\n",
        "y_pred = np.asarray(y_pred)"
      ],
      "execution_count": 0,
      "outputs": []
    },
    {
      "cell_type": "code",
      "metadata": {
        "id": "ofL3MXuTHDFQ",
        "colab_type": "code",
        "colab": {}
      },
      "source": [
        "test = pd.read_csv('test.csv')"
      ],
      "execution_count": 0,
      "outputs": []
    },
    {
      "cell_type": "code",
      "metadata": {
        "id": "Xv50f-hYI8dh",
        "colab_type": "code",
        "colab": {}
      },
      "source": [
        "submission = pd.DataFrame(\n",
        "    {\"PassengerID\": test.iloc[:,0],\n",
        "     \"Survived\": y_pred}\n",
        ")"
      ],
      "execution_count": 0,
      "outputs": []
    },
    {
      "cell_type": "code",
      "metadata": {
        "id": "2RX-I71cHhym",
        "colab_type": "code",
        "outputId": "bcdaca75-9e9a-4426-e123-7f6483bca192",
        "colab": {
          "base_uri": "https://localhost:8080/",
          "height": 204
        }
      },
      "source": [
        "submission.head()"
      ],
      "execution_count": 169,
      "outputs": [
        {
          "output_type": "execute_result",
          "data": {
            "text/html": [
              "<div>\n",
              "<style scoped>\n",
              "    .dataframe tbody tr th:only-of-type {\n",
              "        vertical-align: middle;\n",
              "    }\n",
              "\n",
              "    .dataframe tbody tr th {\n",
              "        vertical-align: top;\n",
              "    }\n",
              "\n",
              "    .dataframe thead th {\n",
              "        text-align: right;\n",
              "    }\n",
              "</style>\n",
              "<table border=\"1\" class=\"dataframe\">\n",
              "  <thead>\n",
              "    <tr style=\"text-align: right;\">\n",
              "      <th></th>\n",
              "      <th>PassengerID</th>\n",
              "      <th>Survived</th>\n",
              "    </tr>\n",
              "  </thead>\n",
              "  <tbody>\n",
              "    <tr>\n",
              "      <th>0</th>\n",
              "      <td>892</td>\n",
              "      <td>0</td>\n",
              "    </tr>\n",
              "    <tr>\n",
              "      <th>1</th>\n",
              "      <td>893</td>\n",
              "      <td>1</td>\n",
              "    </tr>\n",
              "    <tr>\n",
              "      <th>2</th>\n",
              "      <td>894</td>\n",
              "      <td>0</td>\n",
              "    </tr>\n",
              "    <tr>\n",
              "      <th>3</th>\n",
              "      <td>895</td>\n",
              "      <td>0</td>\n",
              "    </tr>\n",
              "    <tr>\n",
              "      <th>4</th>\n",
              "      <td>896</td>\n",
              "      <td>1</td>\n",
              "    </tr>\n",
              "  </tbody>\n",
              "</table>\n",
              "</div>"
            ],
            "text/plain": [
              "   PassengerID  Survived\n",
              "0          892         0\n",
              "1          893         1\n",
              "2          894         0\n",
              "3          895         0\n",
              "4          896         1"
            ]
          },
          "metadata": {
            "tags": []
          },
          "execution_count": 169
        }
      ]
    },
    {
      "cell_type": "code",
      "metadata": {
        "id": "fhysHfe-D-O1",
        "colab_type": "code",
        "colab": {}
      },
      "source": [
        "from numpy import asarray\n",
        "from numpy import savetxt\n",
        "savetxt('submission_11.csv', submission, delimiter=',') # save to csv file\n",
        "submission.to_csv(\"submission_11.csv\", index = False)"
      ],
      "execution_count": 0,
      "outputs": []
    },
    {
      "cell_type": "markdown",
      "metadata": {
        "id": "FHVzfeZCDu4m",
        "colab_type": "text"
      },
      "source": [
        "## Submitting via Kaggle API"
      ]
    },
    {
      "cell_type": "code",
      "metadata": {
        "id": "iF-UA4UeDfD7",
        "colab_type": "code",
        "outputId": "2104a70b-90e0-452f-9675-04dec84faf88",
        "colab": {
          "base_uri": "https://localhost:8080/",
          "height": 68
        }
      },
      "source": [
        "!kaggle competitions submit -c titanic -f submission_11.csv -m 'added parameter tuning'"
      ],
      "execution_count": 171,
      "outputs": [
        {
          "output_type": "stream",
          "text": [
            "Warning: Looks like you're using an outdated API Version, please consider updating (server 1.5.6 / client 1.5.4)\n",
            "100% 2.77k/2.77k [00:03<00:00, 868B/s]\n",
            "Successfully submitted to Titanic: Machine Learning from Disaster"
          ],
          "name": "stdout"
        }
      ]
    },
    {
      "cell_type": "code",
      "metadata": {
        "id": "zvCYbCxEFNll",
        "colab_type": "code",
        "outputId": "412bbd93-fdd8-4890-8853-66e97553ae1e",
        "colab": {
          "base_uri": "https://localhost:8080/",
          "height": 408
        }
      },
      "source": [
        "!kaggle competitions submissions -c titanic"
      ],
      "execution_count": 172,
      "outputs": [
        {
          "output_type": "stream",
          "text": [
            "Warning: Looks like you're using an outdated API Version, please consider updating (server 1.5.6 / client 1.5.4)\n",
            "fileName           date                 description                                      status    publicScore  privateScore  \n",
            "-----------------  -------------------  -----------------------------------------------  --------  -----------  ------------  \n",
            "submission_11.csv  2020-03-11 23:30:08  added parameter tuning                           complete  0.79425      None          \n",
            "submission_11.csv  2020-03-11 23:26:22  added parameter tuning                           complete  0.78947      None          \n",
            "submission_11.csv  2020-03-11 23:24:49  added parameter tuning                           complete  0.78947      None          \n",
            "submission_10.csv  2020-03-11 22:27:29  Changed y_pred                                   complete  0.00000      None          \n",
            "submission_09.csv  2020-03-11 22:26:04  Added cross-validation, changed boosting rounds  complete  0.78947      None          \n",
            "submission_08.csv  2020-03-11 19:23:58  Added cross-validation, changed boosting rounds  complete  0.78947      None          \n",
            "submission_08.csv  2020-03-11 19:21:20  Added cross-validation, changed boosting rounds  complete  0.00000      None          \n",
            "submission_07.csv  2020-03-09 22:12:46  7 try with xgb                                   complete  0.78947      None          \n",
            "submission_06.csv  2020-03-09 21:52:21  sixth try with xgb                               complete  0.72248      None          \n",
            "submission_05.csv  2020-03-09 21:13:59  fifth try with xgb                               complete  0.72727      None          \n",
            "submission_04.csv  2020-03-09 20:41:28  forth try with xgb                               complete  0.77990      None          \n",
            "submission_03.csv  2020-03-09 19:53:40  third try with xgb                               complete  0.73205      None          \n",
            "submission_03.csv  2020-03-09 19:53:24  first try with xgb                               complete  0.73205      None          \n",
            "submission_02.csv  2020-03-07 01:35:24  first try with xgb                               complete  0.75119      None          \n",
            "submission_02.csv  2020-03-06 23:37:11  first try with xgb                               complete  0.75119      None          \n",
            "submission_02.csv  2020-03-04 22:02:03  first try with xgb                               complete  0.75119      None          \n",
            "submission_02.csv  2020-03-04 21:57:39  first try with xgb                               complete  0.75119      None          \n",
            "submission_01.csv  2020-03-04 00:12:44  first try with xgb                               complete  0.75598      None          \n",
            "submission_01.csv  2020-03-03 23:35:53  first try with xgb                               complete  0.75598      None          \n",
            "submission_01.csv  2020-03-02 21:32:16  first try with xgb                               complete  0.75598      None          \n"
          ],
          "name": "stdout"
        }
      ]
    },
    {
      "cell_type": "code",
      "metadata": {
        "id": "M4_9C25SDwF8",
        "colab_type": "code",
        "colab": {}
      },
      "source": [
        ""
      ],
      "execution_count": 0,
      "outputs": []
    }
  ]
}