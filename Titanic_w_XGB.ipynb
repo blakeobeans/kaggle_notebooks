{
  "nbformat": 4,
  "nbformat_minor": 0,
  "metadata": {
    "colab": {
      "name": "Titanic w XGB.ipynb",
      "provenance": [],
      "collapsed_sections": [],
      "authorship_tag": "ABX9TyMm5wiP7WRWPjMoC7nvpirj",
      "include_colab_link": true
    },
    "kernelspec": {
      "name": "python3",
      "display_name": "Python 3"
    },
    "accelerator": "GPU"
  },
  "cells": [
    {
      "cell_type": "markdown",
      "metadata": {
        "id": "view-in-github",
        "colab_type": "text"
      },
      "source": [
        "<a href=\"https://colab.research.google.com/github/blakeobeans/kaggle_notebooks/blob/master/Titanic_w_XGB.ipynb\" target=\"_parent\"><img src=\"https://colab.research.google.com/assets/colab-badge.svg\" alt=\"Open In Colab\"/></a>"
      ]
    },
    {
      "cell_type": "code",
      "metadata": {
        "id": "VbFecG4lG6fc",
        "colab_type": "code",
        "colab": {}
      },
      "source": [
        "import matplotlib.pyplot as plt"
      ],
      "execution_count": 0,
      "outputs": []
    },
    {
      "cell_type": "markdown",
      "metadata": {
        "id": "adGG4UD7QRuo",
        "colab_type": "text"
      },
      "source": [
        "### Mount Google Drive"
      ]
    },
    {
      "cell_type": "code",
      "metadata": {
        "id": "k9wF7WXQLqer",
        "colab_type": "code",
        "outputId": "1d15b335-181b-45b5-9d76-73c9449792e3",
        "colab": {
          "base_uri": "https://localhost:8080/",
          "height": 34
        }
      },
      "source": [
        "from google.colab import drive\n",
        "import os\n",
        "drive.mount('/content/drive')"
      ],
      "execution_count": 432,
      "outputs": [
        {
          "output_type": "stream",
          "text": [
            "Drive already mounted at /content/drive; to attempt to forcibly remount, call drive.mount(\"/content/drive\", force_remount=True).\n"
          ],
          "name": "stdout"
        }
      ]
    },
    {
      "cell_type": "code",
      "metadata": {
        "id": "n8GDt876LyTa",
        "colab_type": "code",
        "outputId": "fd3599f4-6bb4-4987-a028-d6fb188a0ec7",
        "colab": {
          "base_uri": "https://localhost:8080/",
          "height": 34
        }
      },
      "source": [
        "#set wd\n",
        "path = '/content/drive/My Drive/Colab Notebooks/Kaggle/Titanic'\n",
        "os.chdir(path)\n",
        "path"
      ],
      "execution_count": 433,
      "outputs": [
        {
          "output_type": "execute_result",
          "data": {
            "text/plain": [
              "'/content/drive/My Drive/Colab Notebooks/Kaggle/Titanic'"
            ]
          },
          "metadata": {
            "tags": []
          },
          "execution_count": 433
        }
      ]
    },
    {
      "cell_type": "code",
      "metadata": {
        "id": "jOk809CjOeIl",
        "colab_type": "code",
        "colab": {}
      },
      "source": [
        "from google.colab import files"
      ],
      "execution_count": 0,
      "outputs": []
    },
    {
      "cell_type": "markdown",
      "metadata": {
        "id": "PjdIja4QQWYy",
        "colab_type": "text"
      },
      "source": [
        "### Set API Creds"
      ]
    },
    {
      "cell_type": "code",
      "metadata": {
        "id": "0QS8DEHfOZxH",
        "colab_type": "code",
        "colab": {}
      },
      "source": [
        "import os\n",
        "os.environ['KAGGLE_USERNAME'] = \"blakeobeans\""
      ],
      "execution_count": 0,
      "outputs": []
    },
    {
      "cell_type": "code",
      "metadata": {
        "id": "l3fmpdGVOjh2",
        "colab_type": "code",
        "colab": {}
      },
      "source": [
        "os.environ['KAGGLE_KEY'] = \"60017706bdc00c3f8b75bdd75f4331b0\""
      ],
      "execution_count": 0,
      "outputs": []
    },
    {
      "cell_type": "markdown",
      "metadata": {
        "id": "1KQesDeaQclL",
        "colab_type": "text"
      },
      "source": [
        "### Download Data"
      ]
    },
    {
      "cell_type": "code",
      "metadata": {
        "id": "0ikzVesFOsiD",
        "colab_type": "code",
        "outputId": "2205b3eb-667c-4176-f1ac-030d12e5a787",
        "colab": {
          "base_uri": "https://localhost:8080/",
          "height": 85
        }
      },
      "source": [
        "!kaggle competitions download -c titanic"
      ],
      "execution_count": 437,
      "outputs": [
        {
          "output_type": "stream",
          "text": [
            "Warning: Looks like you're using an outdated API Version, please consider updating (server 1.5.6 / client 1.5.4)\n",
            "test.csv: Skipping, found more recently modified local copy (use --force to force download)\n",
            "gender_submission.csv: Skipping, found more recently modified local copy (use --force to force download)\n",
            "train.csv: Skipping, found more recently modified local copy (use --force to force download)\n"
          ],
          "name": "stdout"
        }
      ]
    },
    {
      "cell_type": "markdown",
      "metadata": {
        "id": "4NDGszR9QKwq",
        "colab_type": "text"
      },
      "source": [
        "### Import"
      ]
    },
    {
      "cell_type": "code",
      "metadata": {
        "id": "Pg_aSJI1QOFJ",
        "colab_type": "code",
        "colab": {}
      },
      "source": [
        "import pandas as pd"
      ],
      "execution_count": 0,
      "outputs": []
    },
    {
      "cell_type": "code",
      "metadata": {
        "id": "YcSsZpzAK6my",
        "colab_type": "code",
        "colab": {}
      },
      "source": [
        "train = pd.read_csv('train.csv')\n",
        "test = pd.read_csv('test.csv')"
      ],
      "execution_count": 0,
      "outputs": []
    },
    {
      "cell_type": "code",
      "metadata": {
        "id": "osRdIojFQPVq",
        "colab_type": "code",
        "outputId": "d69945f1-0dd1-4a51-9956-0bce2d81b183",
        "colab": {
          "base_uri": "https://localhost:8080/",
          "height": 204
        }
      },
      "source": [
        "train.head()"
      ],
      "execution_count": 440,
      "outputs": [
        {
          "output_type": "execute_result",
          "data": {
            "text/html": [
              "<div>\n",
              "<style scoped>\n",
              "    .dataframe tbody tr th:only-of-type {\n",
              "        vertical-align: middle;\n",
              "    }\n",
              "\n",
              "    .dataframe tbody tr th {\n",
              "        vertical-align: top;\n",
              "    }\n",
              "\n",
              "    .dataframe thead th {\n",
              "        text-align: right;\n",
              "    }\n",
              "</style>\n",
              "<table border=\"1\" class=\"dataframe\">\n",
              "  <thead>\n",
              "    <tr style=\"text-align: right;\">\n",
              "      <th></th>\n",
              "      <th>PassengerId</th>\n",
              "      <th>Survived</th>\n",
              "      <th>Pclass</th>\n",
              "      <th>Name</th>\n",
              "      <th>Sex</th>\n",
              "      <th>Age</th>\n",
              "      <th>SibSp</th>\n",
              "      <th>Parch</th>\n",
              "      <th>Ticket</th>\n",
              "      <th>Fare</th>\n",
              "      <th>Cabin</th>\n",
              "      <th>Embarked</th>\n",
              "    </tr>\n",
              "  </thead>\n",
              "  <tbody>\n",
              "    <tr>\n",
              "      <th>0</th>\n",
              "      <td>1</td>\n",
              "      <td>0</td>\n",
              "      <td>3</td>\n",
              "      <td>Braund, Mr. Owen Harris</td>\n",
              "      <td>male</td>\n",
              "      <td>22.0</td>\n",
              "      <td>1</td>\n",
              "      <td>0</td>\n",
              "      <td>A/5 21171</td>\n",
              "      <td>7.2500</td>\n",
              "      <td>NaN</td>\n",
              "      <td>S</td>\n",
              "    </tr>\n",
              "    <tr>\n",
              "      <th>1</th>\n",
              "      <td>2</td>\n",
              "      <td>1</td>\n",
              "      <td>1</td>\n",
              "      <td>Cumings, Mrs. John Bradley (Florence Briggs Th...</td>\n",
              "      <td>female</td>\n",
              "      <td>38.0</td>\n",
              "      <td>1</td>\n",
              "      <td>0</td>\n",
              "      <td>PC 17599</td>\n",
              "      <td>71.2833</td>\n",
              "      <td>C85</td>\n",
              "      <td>C</td>\n",
              "    </tr>\n",
              "    <tr>\n",
              "      <th>2</th>\n",
              "      <td>3</td>\n",
              "      <td>1</td>\n",
              "      <td>3</td>\n",
              "      <td>Heikkinen, Miss. Laina</td>\n",
              "      <td>female</td>\n",
              "      <td>26.0</td>\n",
              "      <td>0</td>\n",
              "      <td>0</td>\n",
              "      <td>STON/O2. 3101282</td>\n",
              "      <td>7.9250</td>\n",
              "      <td>NaN</td>\n",
              "      <td>S</td>\n",
              "    </tr>\n",
              "    <tr>\n",
              "      <th>3</th>\n",
              "      <td>4</td>\n",
              "      <td>1</td>\n",
              "      <td>1</td>\n",
              "      <td>Futrelle, Mrs. Jacques Heath (Lily May Peel)</td>\n",
              "      <td>female</td>\n",
              "      <td>35.0</td>\n",
              "      <td>1</td>\n",
              "      <td>0</td>\n",
              "      <td>113803</td>\n",
              "      <td>53.1000</td>\n",
              "      <td>C123</td>\n",
              "      <td>S</td>\n",
              "    </tr>\n",
              "    <tr>\n",
              "      <th>4</th>\n",
              "      <td>5</td>\n",
              "      <td>0</td>\n",
              "      <td>3</td>\n",
              "      <td>Allen, Mr. William Henry</td>\n",
              "      <td>male</td>\n",
              "      <td>35.0</td>\n",
              "      <td>0</td>\n",
              "      <td>0</td>\n",
              "      <td>373450</td>\n",
              "      <td>8.0500</td>\n",
              "      <td>NaN</td>\n",
              "      <td>S</td>\n",
              "    </tr>\n",
              "  </tbody>\n",
              "</table>\n",
              "</div>"
            ],
            "text/plain": [
              "   PassengerId  Survived  Pclass  ...     Fare Cabin  Embarked\n",
              "0            1         0       3  ...   7.2500   NaN         S\n",
              "1            2         1       1  ...  71.2833   C85         C\n",
              "2            3         1       3  ...   7.9250   NaN         S\n",
              "3            4         1       1  ...  53.1000  C123         S\n",
              "4            5         0       3  ...   8.0500   NaN         S\n",
              "\n",
              "[5 rows x 12 columns]"
            ]
          },
          "metadata": {
            "tags": []
          },
          "execution_count": 440
        }
      ]
    },
    {
      "cell_type": "code",
      "metadata": {
        "id": "JBF0HnW0HbxU",
        "colab_type": "code",
        "outputId": "cbc74982-e7ec-4721-b0c3-b3f372dfdcb2",
        "colab": {
          "base_uri": "https://localhost:8080/",
          "height": 34
        }
      },
      "source": [
        "train.shape"
      ],
      "execution_count": 441,
      "outputs": [
        {
          "output_type": "execute_result",
          "data": {
            "text/plain": [
              "(891, 12)"
            ]
          },
          "metadata": {
            "tags": []
          },
          "execution_count": 441
        }
      ]
    },
    {
      "cell_type": "code",
      "metadata": {
        "id": "zGXq7cFdAxBv",
        "colab_type": "code",
        "outputId": "099b91ab-bbca-4fb0-ac63-df9326d43e7c",
        "colab": {
          "base_uri": "https://localhost:8080/",
          "height": 34
        }
      },
      "source": [
        "test.shape"
      ],
      "execution_count": 442,
      "outputs": [
        {
          "output_type": "execute_result",
          "data": {
            "text/plain": [
              "(418, 11)"
            ]
          },
          "metadata": {
            "tags": []
          },
          "execution_count": 442
        }
      ]
    },
    {
      "cell_type": "markdown",
      "metadata": {
        "id": "R2WOQhsEVbNT",
        "colab_type": "text"
      },
      "source": [
        "### Missing Data"
      ]
    },
    {
      "cell_type": "markdown",
      "metadata": {
        "id": "R31GHJUPIoxh",
        "colab_type": "text"
      },
      "source": [
        "### Feature Selection"
      ]
    },
    {
      "cell_type": "markdown",
      "metadata": {
        "id": "EksdrSSJKO53",
        "colab_type": "text"
      },
      "source": [
        "#### Remove irrelevant variables"
      ]
    },
    {
      "cell_type": "code",
      "metadata": {
        "colab_type": "code",
        "id": "GFwxtQLp0IaN",
        "colab": {}
      },
      "source": [
        "train = train[['Survived', 'Pclass', 'Sex', 'Age', 'SibSp', 'Parch', 'Fare', 'Embarked']]\n",
        "test = test[['Pclass', 'Sex', 'Age', 'SibSp', 'Parch', 'Fare', 'Embarked']]"
      ],
      "execution_count": 0,
      "outputs": []
    },
    {
      "cell_type": "markdown",
      "metadata": {
        "id": "17KLwwL8xpM-",
        "colab_type": "text"
      },
      "source": [
        "### Missing Data Imputation"
      ]
    },
    {
      "cell_type": "code",
      "metadata": {
        "id": "mU67GxIwGw-V",
        "colab_type": "code",
        "colab": {}
      },
      "source": [
        "import missingno as msno"
      ],
      "execution_count": 0,
      "outputs": []
    },
    {
      "cell_type": "code",
      "metadata": {
        "id": "msg5oytrHBfF",
        "colab_type": "code",
        "outputId": "eb017cbd-d10a-4c65-93f1-3c386803f914",
        "colab": {
          "base_uri": "https://localhost:8080/",
          "height": 678
        }
      },
      "source": [
        "msno.matrix(train)"
      ],
      "execution_count": 445,
      "outputs": [
        {
          "output_type": "execute_result",
          "data": {
            "text/plain": [
              "<matplotlib.axes._subplots.AxesSubplot at 0x7f1d6320b4a8>"
            ]
          },
          "metadata": {
            "tags": []
          },
          "execution_count": 445
        },
        {
          "output_type": "display_data",
          "data": {
            "image/png": "[encoded data removed]",
            "text/plain": [
              "<Figure size 1800x720 with 2 Axes>"
            ]
          },
          "metadata": {
            "tags": []
          }
        }
      ]
    },
    {
      "cell_type": "markdown",
      "metadata": {
        "id": "4y4S_W7kNtsS",
        "colab_type": "text"
      },
      "source": [
        "We're missing data for the \"age\" variable- one quantitative variable. We'll impute based on the most frequent value. This can be improved by looking at correlations between age and other variables in the dataset."
      ]
    },
    {
      "cell_type": "code",
      "metadata": {
        "id": "Ad5ia5rGJo8t",
        "colab_type": "code",
        "colab": {}
      },
      "source": [
        "from sklearn import preprocessing\n",
        "import numpy as np"
      ],
      "execution_count": 0,
      "outputs": []
    },
    {
      "cell_type": "code",
      "metadata": {
        "id": "LXI8z8SiL4TG",
        "colab_type": "code",
        "colab": {}
      },
      "source": [
        "#impute missing data for \"Embarked\"\n",
        "from sklearn.impute import SimpleImputer\n",
        "my_imputer = SimpleImputer(missing_values=np.NaN, strategy='most_frequent')"
      ],
      "execution_count": 0,
      "outputs": []
    },
    {
      "cell_type": "code",
      "metadata": {
        "id": "Ddapi26oBDPt",
        "colab_type": "code",
        "colab": {}
      },
      "source": [
        "train_imputed = my_imputer.fit_transform(train)\n",
        "test_imputed = my_imputer.fit_transform(test)"
      ],
      "execution_count": 0,
      "outputs": []
    },
    {
      "cell_type": "code",
      "metadata": {
        "id": "pOtlZBPEzc11",
        "colab_type": "code",
        "colab": {}
      },
      "source": [
        "#convert imputed array into pandas df with column names\n",
        "train_imputed = pd.DataFrame(train_imputed, columns = train.columns)\n",
        "test_imputed = pd.DataFrame(test_imputed, columns = test.columns)"
      ],
      "execution_count": 0,
      "outputs": []
    },
    {
      "cell_type": "markdown",
      "metadata": {
        "id": "lJ3mENxfKTjg",
        "colab_type": "text"
      },
      "source": [
        "#### Categorical Encoding"
      ]
    },
    {
      "cell_type": "markdown",
      "metadata": {
        "id": "i2kDHkIjN-Qa",
        "colab_type": "text"
      },
      "source": [
        "Because the XGBoost algorithm requires numeric value, we have to main options for dealing with categorical variables: **label encoding** and **one-hot encoding**.  \n",
        "I'll opt for label encoding where there is an inherent rank and one-hot encoding otherwise."
      ]
    },
    {
      "cell_type": "code",
      "metadata": {
        "id": "6rDx28f0NgTk",
        "colab_type": "code",
        "colab": {
          "base_uri": "https://localhost:8080/",
          "height": 238
        },
        "outputId": "b52519a3-8e67-4910-cddb-6c6bc56564da"
      },
      "source": [
        "train_imputed.info()"
      ],
      "execution_count": 450,
      "outputs": [
        {
          "output_type": "stream",
          "text": [
            "<class 'pandas.core.frame.DataFrame'>\n",
            "RangeIndex: 891 entries, 0 to 890\n",
            "Data columns (total 8 columns):\n",
            "Survived    891 non-null object\n",
            "Pclass      891 non-null object\n",
            "Sex         891 non-null object\n",
            "Age         891 non-null object\n",
            "SibSp       891 non-null object\n",
            "Parch       891 non-null object\n",
            "Fare        891 non-null object\n",
            "Embarked    891 non-null object\n",
            "dtypes: object(8)\n",
            "memory usage: 55.8+ KB\n"
          ],
          "name": "stdout"
        }
      ]
    },
    {
      "cell_type": "markdown",
      "metadata": {
        "id": "KWFRUnM1Nj2N",
        "colab_type": "text"
      },
      "source": [
        "**Label encoding**: Pclass  \n",
        "**One-hot encoding**: Sex, Embarked"
      ]
    },
    {
      "cell_type": "code",
      "metadata": {
        "id": "gpFK_zaYKjhI",
        "colab_type": "code",
        "colab": {}
      },
      "source": [
        "train_imputed_cat_ohe = train_imputed[['Sex', 'Embarked']]\n",
        "train_imputed_cat_le = train_imputed[['Pclass']]\n",
        "train_imputed_quant = train_imputed[['Survived', 'Age', 'SibSp', 'Parch', 'Fare']]"
      ],
      "execution_count": 0,
      "outputs": []
    },
    {
      "cell_type": "code",
      "metadata": {
        "id": "boNoMrcxA6S-",
        "colab_type": "code",
        "colab": {}
      },
      "source": [
        "test_imputed_cat_ohe = test_imputed[['Sex', 'Embarked']]\n",
        "test_imputed_cat_le = test_imputed[['Pclass']]\n",
        "test_imputed_quant = test_imputed[['Age', 'SibSp', 'Parch', 'Fare']]"
      ],
      "execution_count": 0,
      "outputs": []
    },
    {
      "cell_type": "markdown",
      "metadata": {
        "id": "aI4WZvasMvXT",
        "colab_type": "text"
      },
      "source": [
        "#### Label Encoding"
      ]
    },
    {
      "cell_type": "markdown",
      "metadata": {
        "id": "fKX7ttISMxRt",
        "colab_type": "text"
      },
      "source": [
        "Label encoding can be done with pandas"
      ]
    },
    {
      "cell_type": "code",
      "metadata": {
        "id": "lvZRv9qcM07z",
        "colab_type": "code",
        "colab": {
          "base_uri": "https://localhost:8080/",
          "height": 119
        },
        "outputId": "301a50f8-7303-46d3-f17f-527ece6010a1"
      },
      "source": [
        "train_imputed_cat_le.info()"
      ],
      "execution_count": 453,
      "outputs": [
        {
          "output_type": "stream",
          "text": [
            "<class 'pandas.core.frame.DataFrame'>\n",
            "RangeIndex: 891 entries, 0 to 890\n",
            "Data columns (total 1 columns):\n",
            "Pclass    891 non-null object\n",
            "dtypes: object(1)\n",
            "memory usage: 7.1+ KB\n"
          ],
          "name": "stdout"
        }
      ]
    },
    {
      "cell_type": "code",
      "metadata": {
        "id": "1ILDgKm_NL70",
        "colab_type": "code",
        "colab": {
          "base_uri": "https://localhost:8080/",
          "height": 204
        },
        "outputId": "fb676221-e5d6-4b97-af94-bdb1eed37a4b"
      },
      "source": [
        "train_imputed_cat_le.head()"
      ],
      "execution_count": 454,
      "outputs": [
        {
          "output_type": "execute_result",
          "data": {
            "text/html": [
              "<div>\n",
              "<style scoped>\n",
              "    .dataframe tbody tr th:only-of-type {\n",
              "        vertical-align: middle;\n",
              "    }\n",
              "\n",
              "    .dataframe tbody tr th {\n",
              "        vertical-align: top;\n",
              "    }\n",
              "\n",
              "    .dataframe thead th {\n",
              "        text-align: right;\n",
              "    }\n",
              "</style>\n",
              "<table border=\"1\" class=\"dataframe\">\n",
              "  <thead>\n",
              "    <tr style=\"text-align: right;\">\n",
              "      <th></th>\n",
              "      <th>Pclass</th>\n",
              "    </tr>\n",
              "  </thead>\n",
              "  <tbody>\n",
              "    <tr>\n",
              "      <th>0</th>\n",
              "      <td>3</td>\n",
              "    </tr>\n",
              "    <tr>\n",
              "      <th>1</th>\n",
              "      <td>1</td>\n",
              "    </tr>\n",
              "    <tr>\n",
              "      <th>2</th>\n",
              "      <td>3</td>\n",
              "    </tr>\n",
              "    <tr>\n",
              "      <th>3</th>\n",
              "      <td>1</td>\n",
              "    </tr>\n",
              "    <tr>\n",
              "      <th>4</th>\n",
              "      <td>3</td>\n",
              "    </tr>\n",
              "  </tbody>\n",
              "</table>\n",
              "</div>"
            ],
            "text/plain": [
              "  Pclass\n",
              "0      3\n",
              "1      1\n",
              "2      3\n",
              "3      1\n",
              "4      3"
            ]
          },
          "metadata": {
            "tags": []
          },
          "execution_count": 454
        }
      ]
    },
    {
      "cell_type": "code",
      "metadata": {
        "id": "ZWoKyZRFM_IW",
        "colab_type": "code",
        "colab": {
          "base_uri": "https://localhost:8080/",
          "height": 221
        },
        "outputId": "ab0b362f-0ee1-48b9-96b7-6deb08103a97"
      },
      "source": [
        "train_imputed_cat_le['Pclass'] = pd.to_numeric(train_imputed_cat_le['Pclass']) # Replace strings with an integer\n",
        "test_imputed_cat_le['Pclass'] = pd.to_numeric(test_imputed_cat_le['Pclass']) # Replace strings with an integer"
      ],
      "execution_count": 455,
      "outputs": [
        {
          "output_type": "stream",
          "text": [
            "/usr/local/lib/python3.6/dist-packages/ipykernel_launcher.py:1: SettingWithCopyWarning: \n",
            "A value is trying to be set on a copy of a slice from a DataFrame.\n",
            "Try using .loc[row_indexer,col_indexer] = value instead\n",
            "\n",
            "See the caveats in the documentation: http://pandas.pydata.org/pandas-docs/stable/user_guide/indexing.html#returning-a-view-versus-a-copy\n",
            "  \"\"\"Entry point for launching an IPython kernel.\n",
            "/usr/local/lib/python3.6/dist-packages/ipykernel_launcher.py:2: SettingWithCopyWarning: \n",
            "A value is trying to be set on a copy of a slice from a DataFrame.\n",
            "Try using .loc[row_indexer,col_indexer] = value instead\n",
            "\n",
            "See the caveats in the documentation: http://pandas.pydata.org/pandas-docs/stable/user_guide/indexing.html#returning-a-view-versus-a-copy\n",
            "  \n"
          ],
          "name": "stderr"
        }
      ]
    },
    {
      "cell_type": "markdown",
      "metadata": {
        "id": "VJFHZz-Wxw85",
        "colab_type": "text"
      },
      "source": [
        "#### One-hot encoding"
      ]
    },
    {
      "cell_type": "code",
      "metadata": {
        "id": "PaybgyWpxcF2",
        "colab_type": "code",
        "outputId": "9f304034-e1c2-47f1-f9a4-1ff6ffd3f77d",
        "colab": {
          "base_uri": "https://localhost:8080/",
          "height": 34
        }
      },
      "source": [
        "train_imputed_cat_ohe.Sex.unique()"
      ],
      "execution_count": 456,
      "outputs": [
        {
          "output_type": "execute_result",
          "data": {
            "text/plain": [
              "array(['male', 'female'], dtype=object)"
            ]
          },
          "metadata": {
            "tags": []
          },
          "execution_count": 456
        }
      ]
    },
    {
      "cell_type": "code",
      "metadata": {
        "id": "k1W3tWA6xgKe",
        "colab_type": "code",
        "outputId": "0c8d5101-cc04-43c5-89b1-4707e4c3fe26",
        "colab": {
          "base_uri": "https://localhost:8080/",
          "height": 34
        }
      },
      "source": [
        "train_imputed_cat_ohe.Embarked.unique()"
      ],
      "execution_count": 457,
      "outputs": [
        {
          "output_type": "execute_result",
          "data": {
            "text/plain": [
              "array(['S', 'C', 'Q'], dtype=object)"
            ]
          },
          "metadata": {
            "tags": []
          },
          "execution_count": 457
        }
      ]
    },
    {
      "cell_type": "code",
      "metadata": {
        "id": "gq1Tzt6uKWV8",
        "colab_type": "code",
        "colab": {}
      },
      "source": [
        "enc = preprocessing.OneHotEncoder()"
      ],
      "execution_count": 0,
      "outputs": []
    },
    {
      "cell_type": "code",
      "metadata": {
        "id": "OJNpsXpLKaU1",
        "colab_type": "code",
        "colab": {}
      },
      "source": [
        "enc.fit(train_imputed_cat_ohe)\n",
        "onehotlabels = enc.transform(train_imputed_cat_ohe).toarray()\n",
        "df = pd.DataFrame(onehotlabels)\n",
        "train = pd.concat([train_imputed_quant, train_imputed_cat_le, df], axis=1, sort=False)"
      ],
      "execution_count": 0,
      "outputs": []
    },
    {
      "cell_type": "code",
      "metadata": {
        "id": "ebUpM1MlPNmf",
        "colab_type": "code",
        "colab": {
          "base_uri": "https://localhost:8080/",
          "height": 204
        },
        "outputId": "315bc010-0ed6-4bb8-b889-79c6698157a6"
      },
      "source": [
        "train.head()"
      ],
      "execution_count": 460,
      "outputs": [
        {
          "output_type": "execute_result",
          "data": {
            "text/html": [
              "<div>\n",
              "<style scoped>\n",
              "    .dataframe tbody tr th:only-of-type {\n",
              "        vertical-align: middle;\n",
              "    }\n",
              "\n",
              "    .dataframe tbody tr th {\n",
              "        vertical-align: top;\n",
              "    }\n",
              "\n",
              "    .dataframe thead th {\n",
              "        text-align: right;\n",
              "    }\n",
              "</style>\n",
              "<table border=\"1\" class=\"dataframe\">\n",
              "  <thead>\n",
              "    <tr style=\"text-align: right;\">\n",
              "      <th></th>\n",
              "      <th>Survived</th>\n",
              "      <th>Age</th>\n",
              "      <th>SibSp</th>\n",
              "      <th>Parch</th>\n",
              "      <th>Fare</th>\n",
              "      <th>Pclass</th>\n",
              "      <th>0</th>\n",
              "      <th>1</th>\n",
              "      <th>2</th>\n",
              "      <th>3</th>\n",
              "      <th>4</th>\n",
              "    </tr>\n",
              "  </thead>\n",
              "  <tbody>\n",
              "    <tr>\n",
              "      <th>0</th>\n",
              "      <td>0</td>\n",
              "      <td>22</td>\n",
              "      <td>1</td>\n",
              "      <td>0</td>\n",
              "      <td>7.25</td>\n",
              "      <td>3</td>\n",
              "      <td>0.0</td>\n",
              "      <td>1.0</td>\n",
              "      <td>0.0</td>\n",
              "      <td>0.0</td>\n",
              "      <td>1.0</td>\n",
              "    </tr>\n",
              "    <tr>\n",
              "      <th>1</th>\n",
              "      <td>1</td>\n",
              "      <td>38</td>\n",
              "      <td>1</td>\n",
              "      <td>0</td>\n",
              "      <td>71.2833</td>\n",
              "      <td>1</td>\n",
              "      <td>1.0</td>\n",
              "      <td>0.0</td>\n",
              "      <td>1.0</td>\n",
              "      <td>0.0</td>\n",
              "      <td>0.0</td>\n",
              "    </tr>\n",
              "    <tr>\n",
              "      <th>2</th>\n",
              "      <td>1</td>\n",
              "      <td>26</td>\n",
              "      <td>0</td>\n",
              "      <td>0</td>\n",
              "      <td>7.925</td>\n",
              "      <td>3</td>\n",
              "      <td>1.0</td>\n",
              "      <td>0.0</td>\n",
              "      <td>0.0</td>\n",
              "      <td>0.0</td>\n",
              "      <td>1.0</td>\n",
              "    </tr>\n",
              "    <tr>\n",
              "      <th>3</th>\n",
              "      <td>1</td>\n",
              "      <td>35</td>\n",
              "      <td>1</td>\n",
              "      <td>0</td>\n",
              "      <td>53.1</td>\n",
              "      <td>1</td>\n",
              "      <td>1.0</td>\n",
              "      <td>0.0</td>\n",
              "      <td>0.0</td>\n",
              "      <td>0.0</td>\n",
              "      <td>1.0</td>\n",
              "    </tr>\n",
              "    <tr>\n",
              "      <th>4</th>\n",
              "      <td>0</td>\n",
              "      <td>35</td>\n",
              "      <td>0</td>\n",
              "      <td>0</td>\n",
              "      <td>8.05</td>\n",
              "      <td>3</td>\n",
              "      <td>0.0</td>\n",
              "      <td>1.0</td>\n",
              "      <td>0.0</td>\n",
              "      <td>0.0</td>\n",
              "      <td>1.0</td>\n",
              "    </tr>\n",
              "  </tbody>\n",
              "</table>\n",
              "</div>"
            ],
            "text/plain": [
              "  Survived Age SibSp Parch     Fare  Pclass    0    1    2    3    4\n",
              "0        0  22     1     0     7.25       3  0.0  1.0  0.0  0.0  1.0\n",
              "1        1  38     1     0  71.2833       1  1.0  0.0  1.0  0.0  0.0\n",
              "2        1  26     0     0    7.925       3  1.0  0.0  0.0  0.0  1.0\n",
              "3        1  35     1     0     53.1       1  1.0  0.0  0.0  0.0  1.0\n",
              "4        0  35     0     0     8.05       3  0.0  1.0  0.0  0.0  1.0"
            ]
          },
          "metadata": {
            "tags": []
          },
          "execution_count": 460
        }
      ]
    },
    {
      "cell_type": "code",
      "metadata": {
        "id": "IwGcjRBT0_iL",
        "colab_type": "code",
        "colab": {}
      },
      "source": [
        "train.columns = ['Survived', 'Age', 'SibSp', 'Parch', 'Fare', 'Pclass', 'M', 'F', 'S', 'C', 'Q']"
      ],
      "execution_count": 0,
      "outputs": []
    },
    {
      "cell_type": "code",
      "metadata": {
        "id": "XflLhAr3NCYy",
        "colab_type": "code",
        "colab": {}
      },
      "source": [
        "enc.fit(test_imputed_cat_ohe)\n",
        "onehotlabels = enc.transform(test_imputed_cat_ohe).toarray()\n",
        "df = pd.DataFrame(onehotlabels)\n",
        "test = pd.concat([test_imputed_quant, test_imputed_cat_le, df], axis=1, sort=False)"
      ],
      "execution_count": 0,
      "outputs": []
    },
    {
      "cell_type": "code",
      "metadata": {
        "id": "UQlhLwRr1i4-",
        "colab_type": "code",
        "colab": {}
      },
      "source": [
        "test.columns = ['Age', 'SibSp', 'Parch', 'Fare', 'Pclass', 'M', 'F', 'S', 'C', 'Q']"
      ],
      "execution_count": 0,
      "outputs": []
    },
    {
      "cell_type": "markdown",
      "metadata": {
        "id": "6JCK_97efgiN",
        "colab_type": "text"
      },
      "source": [
        "### Create Validation Dataset"
      ]
    },
    {
      "cell_type": "markdown",
      "metadata": {
        "id": "v3cwJXf7FO2U",
        "colab_type": "text"
      },
      "source": [
        "Because this is a public dataset, the test data can be submitted multiple times. Therefore, a validation dataset is not necessary."
      ]
    },
    {
      "cell_type": "code",
      "metadata": {
        "id": "vuKxoQRbfmur",
        "colab_type": "code",
        "colab": {}
      },
      "source": [
        "from sklearn.model_selection import train_test_split\n",
        "train, val = train_test_split(train, test_size=0.1, random_state=42)"
      ],
      "execution_count": 0,
      "outputs": []
    },
    {
      "cell_type": "code",
      "metadata": {
        "id": "BzJjXO_cO_m9",
        "colab_type": "code",
        "colab": {}
      },
      "source": [
        "train_label = train['Survived']\n",
        "val_label = val['Survived']"
      ],
      "execution_count": 0,
      "outputs": []
    },
    {
      "cell_type": "code",
      "metadata": {
        "id": "TdfisTmfPUnx",
        "colab_type": "code",
        "colab": {}
      },
      "source": [
        "train_features = train.drop('Survived', axis = 1)\n",
        "val_features = val.drop('Survived', axis = 1)"
      ],
      "execution_count": 0,
      "outputs": []
    },
    {
      "cell_type": "code",
      "metadata": {
        "id": "HSiEqOzV2am2",
        "colab_type": "code",
        "colab": {}
      },
      "source": [
        "train[['Survived', 'Age', 'SibSp', 'Parch', 'Fare']] = train[['Survived', 'Age', 'SibSp', 'Parch', 'Fare']].astype(float)\n",
        "val[['Survived', 'Age', 'SibSp', 'Parch', 'Fare']] = val[['Survived', 'Age', 'SibSp', 'Parch', 'Fare']].astype(float)"
      ],
      "execution_count": 0,
      "outputs": []
    },
    {
      "cell_type": "code",
      "metadata": {
        "id": "8IXOP3UT36Z0",
        "colab_type": "code",
        "colab": {}
      },
      "source": [
        "test[['Age', 'SibSp', 'Parch', 'Fare']] = test[['Age', 'SibSp', 'Parch', 'Fare']].astype(float)"
      ],
      "execution_count": 0,
      "outputs": []
    },
    {
      "cell_type": "code",
      "metadata": {
        "id": "AUGFF_8T4PHs",
        "colab_type": "code",
        "colab": {}
      },
      "source": [
        "train_features[['Age', 'SibSp', 'Parch', 'Fare']] = train_features[['Age', 'SibSp', 'Parch', 'Fare']].astype(float)\n",
        "val_features[['Age', 'SibSp', 'Parch', 'Fare']] = val_features[['Age', 'SibSp', 'Parch', 'Fare']].astype(float)\n",
        "#val_features.dtypes"
      ],
      "execution_count": 0,
      "outputs": []
    },
    {
      "cell_type": "code",
      "metadata": {
        "id": "FDLoH7Ha4UOt",
        "colab_type": "code",
        "colab": {}
      },
      "source": [
        "train_label = train_label.astype(float)\n",
        "val_label = val_label.astype(float)"
      ],
      "execution_count": 0,
      "outputs": []
    },
    {
      "cell_type": "markdown",
      "metadata": {
        "id": "inn8OPgySmqt",
        "colab_type": "text"
      },
      "source": [
        "#### Create XGBoost DMatrix"
      ]
    },
    {
      "cell_type": "code",
      "metadata": {
        "id": "w7rWeiUNH21G",
        "colab_type": "code",
        "colab": {}
      },
      "source": [
        "import xgboost as xgb"
      ],
      "execution_count": 0,
      "outputs": []
    },
    {
      "cell_type": "code",
      "metadata": {
        "id": "gNzd6TY6OcKp",
        "colab_type": "code",
        "outputId": "4395dce4-5a8c-47da-f4d8-53ebfcc7ea61",
        "colab": {
          "base_uri": "https://localhost:8080/",
          "height": 85
        }
      },
      "source": [
        "dtrain = xgb.DMatrix(train_features, label=train_label)\n",
        "dval = xgb.DMatrix(val_features, label=val_label)\n",
        "dtest = xgb.DMatrix(test)"
      ],
      "execution_count": 472,
      "outputs": [
        {
          "output_type": "stream",
          "text": [
            "/usr/local/lib/python3.6/dist-packages/xgboost/core.py:587: FutureWarning: Series.base is deprecated and will be removed in a future version\n",
            "  if getattr(data, 'base', None) is not None and \\\n",
            "/usr/local/lib/python3.6/dist-packages/xgboost/core.py:588: FutureWarning: Series.base is deprecated and will be removed in a future version\n",
            "  data.base is not None and isinstance(data, np.ndarray) \\\n"
          ],
          "name": "stderr"
        }
      ]
    },
    {
      "cell_type": "markdown",
      "metadata": {
        "id": "tWF8F8cZ5qg1",
        "colab_type": "text"
      },
      "source": [
        "#### Grid Search CV"
      ]
    },
    {
      "cell_type": "code",
      "metadata": {
        "id": "ydV_gceY8tAa",
        "colab_type": "code",
        "colab": {}
      },
      "source": [
        "cv_params = {\n",
        "     'colsample_bytree': np.linspace(0.5, 0.9, 5),\n",
        "     'n_estimators':[100, 200, 1000],\n",
        "     'max_depth': [10, 15, 20, 25],\n",
        "     'min_child_weight': [1,3,5],\n",
        "     'learning_rate': [0.1, 0.5]\n",
        "}"
      ],
      "execution_count": 0,
      "outputs": []
    },
    {
      "cell_type": "code",
      "metadata": {
        "id": "q4CsqoeH6kOQ",
        "colab_type": "code",
        "colab": {}
      },
      "source": [
        "ind_params = {'seed':0, \n",
        "              'subsample': 0.8, \n",
        "              'objective': 'binary:logistic'}"
      ],
      "execution_count": 0,
      "outputs": []
    },
    {
      "cell_type": "code",
      "metadata": {
        "id": "Fd8gZQmz0tyb",
        "colab_type": "code",
        "colab": {}
      },
      "source": [
        "from sklearn.model_selection import GridSearchCV"
      ],
      "execution_count": 0,
      "outputs": []
    },
    {
      "cell_type": "code",
      "metadata": {
        "id": "AkwYRwes65oB",
        "colab_type": "code",
        "colab": {}
      },
      "source": [
        "optimized_GBM = GridSearchCV(xgb.XGBClassifier(**ind_params), \n",
        "                             cv_params, \n",
        "                             scoring = 'accuracy', \n",
        "                             cv = 5, \n",
        "                             n_jobs = -1, \n",
        "                             verbose = 10)"
      ],
      "execution_count": 0,
      "outputs": []
    },
    {
      "cell_type": "code",
      "metadata": {
        "id": "r_KwrGjm64J-",
        "colab_type": "code",
        "colab": {
          "base_uri": "https://localhost:8080/",
          "height": 1000
        },
        "outputId": "268ba85c-d8c7-4d5c-d715-af57e2fe31e7"
      },
      "source": [
        "optimized_GBM.fit(train_features, train_label)"
      ],
      "execution_count": 477,
      "outputs": [
        {
          "output_type": "stream",
          "text": [
            "Fitting 5 folds for each of 360 candidates, totalling 1800 fits\n"
          ],
          "name": "stdout"
        },
        {
          "output_type": "stream",
          "text": [
            "[Parallel(n_jobs=-1)]: Using backend LokyBackend with 2 concurrent workers.\n",
            "[Parallel(n_jobs=-1)]: Done   1 tasks      | elapsed:    1.7s\n",
            "[Parallel(n_jobs=-1)]: Done   4 tasks      | elapsed:    1.9s\n",
            "[Parallel(n_jobs=-1)]: Done   9 tasks      | elapsed:    2.5s\n",
            "[Parallel(n_jobs=-1)]: Done  14 tasks      | elapsed:    4.8s\n",
            "[Parallel(n_jobs=-1)]: Done  21 tasks      | elapsed:    5.7s\n",
            "[Parallel(n_jobs=-1)]: Done  28 tasks      | elapsed:    7.9s\n",
            "[Parallel(n_jobs=-1)]: Done  37 tasks      | elapsed:    8.8s\n",
            "[Parallel(n_jobs=-1)]: Done  46 tasks      | elapsed:   11.1s\n",
            "[Parallel(n_jobs=-1)]: Done  57 tasks      | elapsed:   13.1s\n",
            "[Parallel(n_jobs=-1)]: Done  68 tasks      | elapsed:   15.3s\n",
            "[Parallel(n_jobs=-1)]: Done  81 tasks      | elapsed:   18.2s\n",
            "[Parallel(n_jobs=-1)]: Done  94 tasks      | elapsed:   20.8s\n",
            "[Parallel(n_jobs=-1)]: Done 109 tasks      | elapsed:   24.2s\n",
            "[Parallel(n_jobs=-1)]: Done 124 tasks      | elapsed:   27.3s\n",
            "[Parallel(n_jobs=-1)]: Done 141 tasks      | elapsed:   30.6s\n",
            "[Parallel(n_jobs=-1)]: Done 158 tasks      | elapsed:   34.2s\n",
            "[Parallel(n_jobs=-1)]: Done 177 tasks      | elapsed:   38.3s\n",
            "[Parallel(n_jobs=-1)]: Done 196 tasks      | elapsed:   42.1s\n",
            "[Parallel(n_jobs=-1)]: Done 217 tasks      | elapsed:   45.3s\n",
            "[Parallel(n_jobs=-1)]: Done 238 tasks      | elapsed:   49.7s\n",
            "[Parallel(n_jobs=-1)]: Done 261 tasks      | elapsed:   53.2s\n",
            "[Parallel(n_jobs=-1)]: Done 284 tasks      | elapsed:   57.8s\n",
            "[Parallel(n_jobs=-1)]: Done 309 tasks      | elapsed:  1.0min\n",
            "[Parallel(n_jobs=-1)]: Done 334 tasks      | elapsed:  1.1min\n",
            "[Parallel(n_jobs=-1)]: Done 361 tasks      | elapsed:  1.2min\n",
            "[Parallel(n_jobs=-1)]: Done 388 tasks      | elapsed:  1.3min\n",
            "[Parallel(n_jobs=-1)]: Done 417 tasks      | elapsed:  1.4min\n",
            "[Parallel(n_jobs=-1)]: Done 446 tasks      | elapsed:  1.5min\n",
            "[Parallel(n_jobs=-1)]: Done 477 tasks      | elapsed:  1.6min\n",
            "[Parallel(n_jobs=-1)]: Done 508 tasks      | elapsed:  1.8min\n",
            "[Parallel(n_jobs=-1)]: Done 541 tasks      | elapsed:  1.9min\n",
            "[Parallel(n_jobs=-1)]: Done 574 tasks      | elapsed:  2.0min\n",
            "[Parallel(n_jobs=-1)]: Done 609 tasks      | elapsed:  2.1min\n",
            "[Parallel(n_jobs=-1)]: Done 644 tasks      | elapsed:  2.2min\n",
            "[Parallel(n_jobs=-1)]: Done 681 tasks      | elapsed:  2.3min\n",
            "[Parallel(n_jobs=-1)]: Done 718 tasks      | elapsed:  2.4min\n",
            "[Parallel(n_jobs=-1)]: Done 757 tasks      | elapsed:  2.6min\n",
            "[Parallel(n_jobs=-1)]: Done 796 tasks      | elapsed:  2.7min\n",
            "[Parallel(n_jobs=-1)]: Done 837 tasks      | elapsed:  2.9min\n",
            "[Parallel(n_jobs=-1)]: Done 878 tasks      | elapsed:  3.1min\n",
            "[Parallel(n_jobs=-1)]: Done 921 tasks      | elapsed:  3.2min\n",
            "[Parallel(n_jobs=-1)]: Done 964 tasks      | elapsed:  3.4min\n",
            "[Parallel(n_jobs=-1)]: Done 1009 tasks      | elapsed:  3.5min\n",
            "[Parallel(n_jobs=-1)]: Done 1054 tasks      | elapsed:  3.7min\n",
            "[Parallel(n_jobs=-1)]: Done 1101 tasks      | elapsed:  3.8min\n",
            "[Parallel(n_jobs=-1)]: Done 1148 tasks      | elapsed:  4.0min\n",
            "[Parallel(n_jobs=-1)]: Done 1197 tasks      | elapsed:  4.3min\n",
            "[Parallel(n_jobs=-1)]: Done 1246 tasks      | elapsed:  4.5min\n",
            "[Parallel(n_jobs=-1)]: Done 1297 tasks      | elapsed:  4.6min\n",
            "[Parallel(n_jobs=-1)]: Done 1348 tasks      | elapsed:  4.8min\n",
            "[Parallel(n_jobs=-1)]: Done 1401 tasks      | elapsed:  5.0min\n",
            "[Parallel(n_jobs=-1)]: Done 1454 tasks      | elapsed:  5.2min\n",
            "[Parallel(n_jobs=-1)]: Done 1509 tasks      | elapsed:  5.4min\n",
            "[Parallel(n_jobs=-1)]: Done 1564 tasks      | elapsed:  5.7min\n",
            "[Parallel(n_jobs=-1)]: Done 1621 tasks      | elapsed:  6.0min\n",
            "[Parallel(n_jobs=-1)]: Done 1678 tasks      | elapsed:  6.2min\n",
            "[Parallel(n_jobs=-1)]: Done 1737 tasks      | elapsed:  6.4min\n",
            "[Parallel(n_jobs=-1)]: Done 1796 tasks      | elapsed:  6.6min\n",
            "[Parallel(n_jobs=-1)]: Done 1800 out of 1800 | elapsed:  6.6min finished\n"
          ],
          "name": "stderr"
        },
        {
          "output_type": "execute_result",
          "data": {
            "text/plain": [
              "GridSearchCV(cv=5, error_score=nan,\n",
              "             estimator=XGBClassifier(base_score=0.5, booster='gbtree',\n",
              "                                     colsample_bylevel=1, colsample_bynode=1,\n",
              "                                     colsample_bytree=1, gamma=0,\n",
              "                                     learning_rate=0.1, max_delta_step=0,\n",
              "                                     max_depth=3, min_child_weight=1,\n",
              "                                     missing=None, n_estimators=100, n_jobs=1,\n",
              "                                     nthread=None, objective='binary:logistic',\n",
              "                                     random_state=0, reg_alpha=0, reg_lambda=1,\n",
              "                                     scale_pos_weight=1, seed=0, silent=None,\n",
              "                                     subsample=0.8, verbosity=1),\n",
              "             iid='deprecated', n_jobs=-1,\n",
              "             param_grid={'colsample_bytree': array([0.5, 0.6, 0.7, 0.8, 0.9]),\n",
              "                         'learning_rate': [0.1, 0.5],\n",
              "                         'max_depth': [10, 15, 20, 25],\n",
              "                         'min_child_weight': [1, 3, 5],\n",
              "                         'n_estimators': [100, 200, 1000]},\n",
              "             pre_dispatch='2*n_jobs', refit=True, return_train_score=False,\n",
              "             scoring='accuracy', verbose=10)"
            ]
          },
          "metadata": {
            "tags": []
          },
          "execution_count": 477
        }
      ]
    },
    {
      "cell_type": "markdown",
      "metadata": {
        "id": "OW5PMzu911xP",
        "colab_type": "text"
      },
      "source": [
        "#### Picking Best Parameters"
      ]
    },
    {
      "cell_type": "code",
      "metadata": {
        "id": "hjI5zSgmRoDC",
        "colab_type": "code",
        "colab": {}
      },
      "source": [
        "params = optimized_GBM.best_params_"
      ],
      "execution_count": 0,
      "outputs": []
    },
    {
      "cell_type": "code",
      "metadata": {
        "id": "R1cUuMe4R0SS",
        "colab_type": "code",
        "colab": {}
      },
      "source": [
        "params['seed'] = 0\n",
        "params['subsample'] = 0.8\n",
        "params['objective'] = 'binary:logistic'  "
      ],
      "execution_count": 0,
      "outputs": []
    },
    {
      "cell_type": "code",
      "metadata": {
        "id": "8z3xp0H4IozR",
        "colab_type": "code",
        "colab": {
          "base_uri": "https://localhost:8080/",
          "height": 289
        },
        "outputId": "bc27b102-a0e5-475c-fbd1-a2f2c80bba9c"
      },
      "source": [
        "bst = xgb.train(params, \n",
        "                dtrain, \n",
        "                evals = [(dval, \"Validation\")],\n",
        "                early_stopping_rounds = 10,\n",
        "                num_boost_round = 999)"
      ],
      "execution_count": 480,
      "outputs": [
        {
          "output_type": "stream",
          "text": [
            "[0]\tValidation-error:0.188889\n",
            "Will train until Validation-error hasn't improved in 10 rounds.\n",
            "[1]\tValidation-error:0.177778\n",
            "[2]\tValidation-error:0.188889\n",
            "[3]\tValidation-error:0.177778\n",
            "[4]\tValidation-error:0.177778\n",
            "[5]\tValidation-error:0.177778\n",
            "[6]\tValidation-error:0.188889\n",
            "[7]\tValidation-error:0.2\n",
            "[8]\tValidation-error:0.2\n",
            "[9]\tValidation-error:0.2\n",
            "[10]\tValidation-error:0.188889\n",
            "[11]\tValidation-error:0.188889\n",
            "Stopping. Best iteration:\n",
            "[1]\tValidation-error:0.177778\n",
            "\n"
          ],
          "name": "stdout"
        }
      ]
    },
    {
      "cell_type": "markdown",
      "metadata": {
        "id": "FXOmW8Hpwprp",
        "colab_type": "text"
      },
      "source": [
        "### Analyze Model"
      ]
    },
    {
      "cell_type": "code",
      "metadata": {
        "id": "Mks0Wx5VQNf3",
        "colab_type": "code",
        "outputId": "60ed5df9-f9da-47fc-f6b2-4350071fd7e6",
        "colab": {
          "base_uri": "https://localhost:8080/",
          "height": 312
        }
      },
      "source": [
        "#xgb.plot_importance(bst)"
      ],
      "execution_count": 481,
      "outputs": [
        {
          "output_type": "execute_result",
          "data": {
            "text/plain": [
              "<matplotlib.axes._subplots.AxesSubplot at 0x7f1d6357b780>"
            ]
          },
          "metadata": {
            "tags": []
          },
          "execution_count": 481
        },
        {
          "output_type": "display_data",
          "data": {
            "image/png": "[encoded data removed]",
            "text/plain": [
              "<Figure size 432x288 with 1 Axes>"
            ]
          },
          "metadata": {
            "tags": []
          }
        }
      ]
    },
    {
      "cell_type": "code",
      "metadata": {
        "id": "K9ruNoexws4B",
        "colab_type": "code",
        "colab": {}
      },
      "source": [
        "#xgb.to_graphviz(bst, num_trees=2)"
      ],
      "execution_count": 0,
      "outputs": []
    },
    {
      "cell_type": "markdown",
      "metadata": {
        "id": "4zWZsJnmQRQY",
        "colab_type": "text"
      },
      "source": [
        "#### Predictions"
      ]
    },
    {
      "cell_type": "code",
      "metadata": {
        "id": "4ht9FuB9CxYj",
        "colab_type": "code",
        "colab": {}
      },
      "source": [
        "ypred = bst.predict(dtest)"
      ],
      "execution_count": 0,
      "outputs": []
    },
    {
      "cell_type": "code",
      "metadata": {
        "id": "44ceE6EHCzRd",
        "colab_type": "code",
        "outputId": "261487e2-529d-49c5-f85f-e044661a890a",
        "colab": {
          "base_uri": "https://localhost:8080/",
          "height": 34
        }
      },
      "source": [
        "ypred.shape"
      ],
      "execution_count": 484,
      "outputs": [
        {
          "output_type": "execute_result",
          "data": {
            "text/plain": [
              "(418,)"
            ]
          },
          "metadata": {
            "tags": []
          },
          "execution_count": 484
        }
      ]
    },
    {
      "cell_type": "code",
      "metadata": {
        "id": "QUVbONJBGz-2",
        "colab_type": "code",
        "colab": {}
      },
      "source": [
        "ypred_binary = np.where(ypred > 0.5, 1, 0)\n",
        "ypred_binary = np.asarray(ypred_binary)"
      ],
      "execution_count": 0,
      "outputs": []
    },
    {
      "cell_type": "code",
      "metadata": {
        "id": "ofL3MXuTHDFQ",
        "colab_type": "code",
        "colab": {}
      },
      "source": [
        "test = pd.read_csv('test.csv')"
      ],
      "execution_count": 0,
      "outputs": []
    },
    {
      "cell_type": "code",
      "metadata": {
        "id": "Xv50f-hYI8dh",
        "colab_type": "code",
        "colab": {}
      },
      "source": [
        "submission = pd.DataFrame(\n",
        "    {\"PassengerID\": test.iloc[:,0],\n",
        "     \"Survived\": ypred_binary}\n",
        ")"
      ],
      "execution_count": 0,
      "outputs": []
    },
    {
      "cell_type": "code",
      "metadata": {
        "id": "2RX-I71cHhym",
        "colab_type": "code",
        "outputId": "997bf837-a3e9-4def-fc72-6727d49947a4",
        "colab": {
          "base_uri": "https://localhost:8080/",
          "height": 204
        }
      },
      "source": [
        "submission.head()"
      ],
      "execution_count": 488,
      "outputs": [
        {
          "output_type": "execute_result",
          "data": {
            "text/html": [
              "<div>\n",
              "<style scoped>\n",
              "    .dataframe tbody tr th:only-of-type {\n",
              "        vertical-align: middle;\n",
              "    }\n",
              "\n",
              "    .dataframe tbody tr th {\n",
              "        vertical-align: top;\n",
              "    }\n",
              "\n",
              "    .dataframe thead th {\n",
              "        text-align: right;\n",
              "    }\n",
              "</style>\n",
              "<table border=\"1\" class=\"dataframe\">\n",
              "  <thead>\n",
              "    <tr style=\"text-align: right;\">\n",
              "      <th></th>\n",
              "      <th>PassengerID</th>\n",
              "      <th>Survived</th>\n",
              "    </tr>\n",
              "  </thead>\n",
              "  <tbody>\n",
              "    <tr>\n",
              "      <th>0</th>\n",
              "      <td>892</td>\n",
              "      <td>0</td>\n",
              "    </tr>\n",
              "    <tr>\n",
              "      <th>1</th>\n",
              "      <td>893</td>\n",
              "      <td>1</td>\n",
              "    </tr>\n",
              "    <tr>\n",
              "      <th>2</th>\n",
              "      <td>894</td>\n",
              "      <td>0</td>\n",
              "    </tr>\n",
              "    <tr>\n",
              "      <th>3</th>\n",
              "      <td>895</td>\n",
              "      <td>0</td>\n",
              "    </tr>\n",
              "    <tr>\n",
              "      <th>4</th>\n",
              "      <td>896</td>\n",
              "      <td>0</td>\n",
              "    </tr>\n",
              "  </tbody>\n",
              "</table>\n",
              "</div>"
            ],
            "text/plain": [
              "   PassengerID  Survived\n",
              "0          892         0\n",
              "1          893         1\n",
              "2          894         0\n",
              "3          895         0\n",
              "4          896         0"
            ]
          },
          "metadata": {
            "tags": []
          },
          "execution_count": 488
        }
      ]
    },
    {
      "cell_type": "code",
      "metadata": {
        "id": "fhysHfe-D-O1",
        "colab_type": "code",
        "colab": {}
      },
      "source": [
        "from numpy import asarray\n",
        "from numpy import savetxt\n",
        "# save to csv file\n",
        "savetxt('submission_07.csv', submission, delimiter=',')"
      ],
      "execution_count": 0,
      "outputs": []
    },
    {
      "cell_type": "code",
      "metadata": {
        "id": "h-7EIXSKKQZv",
        "colab_type": "code",
        "colab": {}
      },
      "source": [
        "submission.to_csv(\"submission_07.csv\", index = False)"
      ],
      "execution_count": 0,
      "outputs": []
    },
    {
      "cell_type": "markdown",
      "metadata": {
        "id": "FHVzfeZCDu4m",
        "colab_type": "text"
      },
      "source": [
        "### Submit"
      ]
    },
    {
      "cell_type": "code",
      "metadata": {
        "id": "iF-UA4UeDfD7",
        "colab_type": "code",
        "outputId": "20e2abbf-90c3-4743-bebd-491129d443da",
        "colab": {
          "base_uri": "https://localhost:8080/",
          "height": 68
        }
      },
      "source": [
        "!kaggle competitions submit -c titanic -f submission_07.csv -m '7 try with xgb'"
      ],
      "execution_count": 491,
      "outputs": [
        {
          "output_type": "stream",
          "text": [
            "Warning: Looks like you're using an outdated API Version, please consider updating (server 1.5.6 / client 1.5.4)\n",
            "\r  0% 0.00/2.77k [00:00<?, ?B/s]\r100% 2.77k/2.77k [00:04<00:00, 706B/s]\n",
            "Successfully submitted to Titanic: Machine Learning from Disaster"
          ],
          "name": "stdout"
        }
      ]
    },
    {
      "cell_type": "code",
      "metadata": {
        "id": "zvCYbCxEFNll",
        "colab_type": "code",
        "outputId": "85ce2d09-cea0-4b8d-a150-26b3cda73131",
        "colab": {
          "base_uri": "https://localhost:8080/",
          "height": 340
        }
      },
      "source": [
        "!kaggle competitions submissions -c titanic"
      ],
      "execution_count": 492,
      "outputs": [
        {
          "output_type": "stream",
          "text": [
            "Warning: Looks like you're using an outdated API Version, please consider updating (server 1.5.6 / client 1.5.4)\n",
            "fileName           date                 description         status    publicScore  privateScore  \n",
            "-----------------  -------------------  ------------------  --------  -----------  ------------  \n",
            "submission_07.csv  2020-03-09 22:12:46  7 try with xgb      complete  0.78947      None          \n",
            "submission_06.csv  2020-03-09 21:52:21  sixth try with xgb  complete  0.72248      None          \n",
            "submission_05.csv  2020-03-09 21:13:59  fifth try with xgb  complete  0.72727      None          \n",
            "submission_04.csv  2020-03-09 20:41:28  forth try with xgb  complete  0.77990      None          \n",
            "submission_03.csv  2020-03-09 19:53:40  third try with xgb  complete  0.73205      None          \n",
            "submission_03.csv  2020-03-09 19:53:24  first try with xgb  complete  0.73205      None          \n",
            "submission_02.csv  2020-03-07 01:35:24  first try with xgb  complete  0.75119      None          \n",
            "submission_02.csv  2020-03-06 23:37:11  first try with xgb  complete  0.75119      None          \n",
            "submission_02.csv  2020-03-04 22:02:03  first try with xgb  complete  0.75119      None          \n",
            "submission_02.csv  2020-03-04 21:57:39  first try with xgb  complete  0.75119      None          \n",
            "submission_01.csv  2020-03-04 00:12:44  first try with xgb  complete  0.75598      None          \n",
            "submission_01.csv  2020-03-03 23:35:53  first try with xgb  complete  0.75598      None          \n",
            "submission_01.csv  2020-03-02 21:32:16  first try with xgb  complete  0.75598      None          \n",
            "submission_01.csv  2020-03-02 21:28:53  first try with xgb  error     None         None          \n",
            "submission_01.csv  2020-03-02 21:14:24  first try with xgb  error     None         None          \n",
            "submission_01.csv  2020-03-02 21:10:39  first try with xgb  error     None         None          \n"
          ],
          "name": "stdout"
        }
      ]
    }
  ]
}