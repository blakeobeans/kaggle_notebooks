{
  "nbformat": 4,
  "nbformat_minor": 0,
  "metadata": {
    "colab": {
      "name": "Titanic w XGB.ipynb",
      "provenance": [],
      "collapsed_sections": [],
      "toc_visible": true,
      "authorship_tag": "ABX9TyO8H/pj1YQ0t5qPFFbj1tHG",
      "include_colab_link": true
    },
    "kernelspec": {
      "name": "python3",
      "display_name": "Python 3"
    },
    "accelerator": "GPU"
  },
  "cells": [
    {
      "cell_type": "markdown",
      "metadata": {
        "id": "view-in-github",
        "colab_type": "text"
      },
      "source": [
        "<a href=\"https://colab.research.google.com/github/blakeobeans/kaggle_notebooks/blob/master/Titanic_w_XGB_before_xgbmods.ipynb\" target=\"_parent\"><img src=\"https://colab.research.google.com/assets/colab-badge.svg\" alt=\"Open In Colab\"/></a>"
      ]
    },
    {
      "cell_type": "code",
      "metadata": {
        "id": "VbFecG4lG6fc",
        "colab_type": "code",
        "colab": {}
      },
      "source": [
        "import matplotlib.pyplot as plt"
      ],
      "execution_count": 0,
      "outputs": []
    },
    {
      "cell_type": "markdown",
      "metadata": {
        "id": "adGG4UD7QRuo",
        "colab_type": "text"
      },
      "source": [
        "### Mount Google Drive"
      ]
    },
    {
      "cell_type": "code",
      "metadata": {
        "id": "k9wF7WXQLqer",
        "colab_type": "code",
        "outputId": "d141ad55-b7c1-49b7-e24b-e46832d54d66",
        "colab": {
          "base_uri": "https://localhost:8080/",
          "height": 122
        }
      },
      "source": [
        "from google.colab import drive\n",
        "import os\n",
        "drive.mount('/content/drive')"
      ],
      "execution_count": 2,
      "outputs": [
        {
          "output_type": "stream",
          "text": [
            "Go to this URL in a browser: https://accounts.google.com/o/oauth2/auth?client_id=947318989803-6bn6qk8qdgf4n4g3pfee6491hc0brc4i.apps.googleusercontent.com&redirect_uri=urn%3aietf%3awg%3aoauth%3a2.0%3aoob&response_type=code&scope=email%20https%3a%2f%2fwww.googleapis.com%2fauth%2fdocs.test%20https%3a%2f%2fwww.googleapis.com%2fauth%2fdrive%20https%3a%2f%2fwww.googleapis.com%2fauth%2fdrive.photos.readonly%20https%3a%2f%2fwww.googleapis.com%2fauth%2fpeopleapi.readonly\n",
            "\n",
            "Enter your authorization code:\n",
            "··········\n",
            "Mounted at /content/drive\n"
          ],
          "name": "stdout"
        }
      ]
    },
    {
      "cell_type": "code",
      "metadata": {
        "id": "n8GDt876LyTa",
        "colab_type": "code",
        "outputId": "ddf1594e-c0c5-4f1a-a491-95e924174aa9",
        "colab": {
          "base_uri": "https://localhost:8080/",
          "height": 34
        }
      },
      "source": [
        "#set wd\n",
        "path = '/content/drive/My Drive/Colab Notebooks/Kaggle/Titanic'\n",
        "os.chdir(path)\n",
        "path"
      ],
      "execution_count": 3,
      "outputs": [
        {
          "output_type": "execute_result",
          "data": {
            "text/plain": [
              "'/content/drive/My Drive/Colab Notebooks/Kaggle/Titanic'"
            ]
          },
          "metadata": {
            "tags": []
          },
          "execution_count": 3
        }
      ]
    },
    {
      "cell_type": "code",
      "metadata": {
        "id": "jOk809CjOeIl",
        "colab_type": "code",
        "colab": {}
      },
      "source": [
        "from google.colab import files"
      ],
      "execution_count": 0,
      "outputs": []
    },
    {
      "cell_type": "markdown",
      "metadata": {
        "id": "PjdIja4QQWYy",
        "colab_type": "text"
      },
      "source": [
        "### Set API Creds"
      ]
    },
    {
      "cell_type": "code",
      "metadata": {
        "id": "0QS8DEHfOZxH",
        "colab_type": "code",
        "colab": {}
      },
      "source": [
        "import os\n",
        "os.environ['KAGGLE_USERNAME'] = \"blakeobeans\""
      ],
      "execution_count": 0,
      "outputs": []
    },
    {
      "cell_type": "code",
      "metadata": {
        "id": "l3fmpdGVOjh2",
        "colab_type": "code",
        "colab": {}
      },
      "source": [
        "os.environ['KAGGLE_KEY'] = \"60017706bdc00c3f8b75bdd75f4331b0\""
      ],
      "execution_count": 0,
      "outputs": []
    },
    {
      "cell_type": "markdown",
      "metadata": {
        "id": "1KQesDeaQclL",
        "colab_type": "text"
      },
      "source": [
        "### Download Data"
      ]
    },
    {
      "cell_type": "code",
      "metadata": {
        "id": "0ikzVesFOsiD",
        "colab_type": "code",
        "outputId": "b24c6088-c8a1-4ff5-d3d3-7d1b0c0b70bf",
        "colab": {
          "base_uri": "https://localhost:8080/",
          "height": 85
        }
      },
      "source": [
        "!kaggle competitions download -c titanic"
      ],
      "execution_count": 7,
      "outputs": [
        {
          "output_type": "stream",
          "text": [
            "Warning: Looks like you're using an outdated API Version, please consider updating (server 1.5.6 / client 1.5.4)\n",
            "test.csv: Skipping, found more recently modified local copy (use --force to force download)\n",
            "train.csv: Skipping, found more recently modified local copy (use --force to force download)\n",
            "gender_submission.csv: Skipping, found more recently modified local copy (use --force to force download)\n"
          ],
          "name": "stdout"
        }
      ]
    },
    {
      "cell_type": "markdown",
      "metadata": {
        "id": "4NDGszR9QKwq",
        "colab_type": "text"
      },
      "source": [
        "### Import Data"
      ]
    },
    {
      "cell_type": "code",
      "metadata": {
        "id": "Pg_aSJI1QOFJ",
        "colab_type": "code",
        "colab": {}
      },
      "source": [
        "import pandas as pd"
      ],
      "execution_count": 0,
      "outputs": []
    },
    {
      "cell_type": "code",
      "metadata": {
        "id": "YcSsZpzAK6my",
        "colab_type": "code",
        "colab": {}
      },
      "source": [
        "train = pd.read_csv('train.csv')\n",
        "test = pd.read_csv('test.csv')"
      ],
      "execution_count": 0,
      "outputs": []
    },
    {
      "cell_type": "markdown",
      "metadata": {
        "id": "8N2u7DLe6f8Y",
        "colab_type": "text"
      },
      "source": [
        "## Exploratory Analysis"
      ]
    },
    {
      "cell_type": "code",
      "metadata": {
        "id": "osRdIojFQPVq",
        "colab_type": "code",
        "outputId": "cf040301-0285-446e-c8dd-b2af54b3773b",
        "colab": {
          "base_uri": "https://localhost:8080/",
          "height": 204
        }
      },
      "source": [
        "train.head()"
      ],
      "execution_count": 10,
      "outputs": [
        {
          "output_type": "execute_result",
          "data": {
            "text/html": [
              "<div>\n",
              "<style scoped>\n",
              "    .dataframe tbody tr th:only-of-type {\n",
              "        vertical-align: middle;\n",
              "    }\n",
              "\n",
              "    .dataframe tbody tr th {\n",
              "        vertical-align: top;\n",
              "    }\n",
              "\n",
              "    .dataframe thead th {\n",
              "        text-align: right;\n",
              "    }\n",
              "</style>\n",
              "<table border=\"1\" class=\"dataframe\">\n",
              "  <thead>\n",
              "    <tr style=\"text-align: right;\">\n",
              "      <th></th>\n",
              "      <th>PassengerId</th>\n",
              "      <th>Survived</th>\n",
              "      <th>Pclass</th>\n",
              "      <th>Name</th>\n",
              "      <th>Sex</th>\n",
              "      <th>Age</th>\n",
              "      <th>SibSp</th>\n",
              "      <th>Parch</th>\n",
              "      <th>Ticket</th>\n",
              "      <th>Fare</th>\n",
              "      <th>Cabin</th>\n",
              "      <th>Embarked</th>\n",
              "    </tr>\n",
              "  </thead>\n",
              "  <tbody>\n",
              "    <tr>\n",
              "      <th>0</th>\n",
              "      <td>1</td>\n",
              "      <td>0</td>\n",
              "      <td>3</td>\n",
              "      <td>Braund, Mr. Owen Harris</td>\n",
              "      <td>male</td>\n",
              "      <td>22.0</td>\n",
              "      <td>1</td>\n",
              "      <td>0</td>\n",
              "      <td>A/5 21171</td>\n",
              "      <td>7.2500</td>\n",
              "      <td>NaN</td>\n",
              "      <td>S</td>\n",
              "    </tr>\n",
              "    <tr>\n",
              "      <th>1</th>\n",
              "      <td>2</td>\n",
              "      <td>1</td>\n",
              "      <td>1</td>\n",
              "      <td>Cumings, Mrs. John Bradley (Florence Briggs Th...</td>\n",
              "      <td>female</td>\n",
              "      <td>38.0</td>\n",
              "      <td>1</td>\n",
              "      <td>0</td>\n",
              "      <td>PC 17599</td>\n",
              "      <td>71.2833</td>\n",
              "      <td>C85</td>\n",
              "      <td>C</td>\n",
              "    </tr>\n",
              "    <tr>\n",
              "      <th>2</th>\n",
              "      <td>3</td>\n",
              "      <td>1</td>\n",
              "      <td>3</td>\n",
              "      <td>Heikkinen, Miss. Laina</td>\n",
              "      <td>female</td>\n",
              "      <td>26.0</td>\n",
              "      <td>0</td>\n",
              "      <td>0</td>\n",
              "      <td>STON/O2. 3101282</td>\n",
              "      <td>7.9250</td>\n",
              "      <td>NaN</td>\n",
              "      <td>S</td>\n",
              "    </tr>\n",
              "    <tr>\n",
              "      <th>3</th>\n",
              "      <td>4</td>\n",
              "      <td>1</td>\n",
              "      <td>1</td>\n",
              "      <td>Futrelle, Mrs. Jacques Heath (Lily May Peel)</td>\n",
              "      <td>female</td>\n",
              "      <td>35.0</td>\n",
              "      <td>1</td>\n",
              "      <td>0</td>\n",
              "      <td>113803</td>\n",
              "      <td>53.1000</td>\n",
              "      <td>C123</td>\n",
              "      <td>S</td>\n",
              "    </tr>\n",
              "    <tr>\n",
              "      <th>4</th>\n",
              "      <td>5</td>\n",
              "      <td>0</td>\n",
              "      <td>3</td>\n",
              "      <td>Allen, Mr. William Henry</td>\n",
              "      <td>male</td>\n",
              "      <td>35.0</td>\n",
              "      <td>0</td>\n",
              "      <td>0</td>\n",
              "      <td>373450</td>\n",
              "      <td>8.0500</td>\n",
              "      <td>NaN</td>\n",
              "      <td>S</td>\n",
              "    </tr>\n",
              "  </tbody>\n",
              "</table>\n",
              "</div>"
            ],
            "text/plain": [
              "   PassengerId  Survived  Pclass  ...     Fare Cabin  Embarked\n",
              "0            1         0       3  ...   7.2500   NaN         S\n",
              "1            2         1       1  ...  71.2833   C85         C\n",
              "2            3         1       3  ...   7.9250   NaN         S\n",
              "3            4         1       1  ...  53.1000  C123         S\n",
              "4            5         0       3  ...   8.0500   NaN         S\n",
              "\n",
              "[5 rows x 12 columns]"
            ]
          },
          "metadata": {
            "tags": []
          },
          "execution_count": 10
        }
      ]
    },
    {
      "cell_type": "code",
      "metadata": {
        "id": "JBF0HnW0HbxU",
        "colab_type": "code",
        "outputId": "1283f2b1-e08d-4a20-c0d3-70adbb9971e0",
        "colab": {
          "base_uri": "https://localhost:8080/",
          "height": 34
        }
      },
      "source": [
        "train.shape"
      ],
      "execution_count": 11,
      "outputs": [
        {
          "output_type": "execute_result",
          "data": {
            "text/plain": [
              "(891, 12)"
            ]
          },
          "metadata": {
            "tags": []
          },
          "execution_count": 11
        }
      ]
    },
    {
      "cell_type": "code",
      "metadata": {
        "id": "zGXq7cFdAxBv",
        "colab_type": "code",
        "outputId": "f0d24afb-afca-489e-f2c1-84f2bbee2184",
        "colab": {
          "base_uri": "https://localhost:8080/",
          "height": 34
        }
      },
      "source": [
        "test.shape"
      ],
      "execution_count": 12,
      "outputs": [
        {
          "output_type": "execute_result",
          "data": {
            "text/plain": [
              "(418, 11)"
            ]
          },
          "metadata": {
            "tags": []
          },
          "execution_count": 12
        }
      ]
    },
    {
      "cell_type": "markdown",
      "metadata": {
        "id": "R31GHJUPIoxh",
        "colab_type": "text"
      },
      "source": [
        "## Feature Engineering"
      ]
    },
    {
      "cell_type": "markdown",
      "metadata": {
        "id": "YPA0xmz4nEgr",
        "colab_type": "text"
      },
      "source": [
        "### Data Concatenation"
      ]
    },
    {
      "cell_type": "code",
      "metadata": {
        "id": "-z5V3fdbnI9T",
        "colab_type": "code",
        "colab": {}
      },
      "source": [
        "train_labels = train['Survived'] #resume working with labels in section  \"Splitting Data\""
      ],
      "execution_count": 0,
      "outputs": []
    },
    {
      "cell_type": "code",
      "metadata": {
        "id": "53metstJnQ3t",
        "colab_type": "code",
        "colab": {}
      },
      "source": [
        "train = train.drop(['Survived'], axis = 1)"
      ],
      "execution_count": 0,
      "outputs": []
    },
    {
      "cell_type": "code",
      "metadata": {
        "id": "HXd0xDltntrz",
        "colab_type": "code",
        "colab": {}
      },
      "source": [
        "df = pd.concat([train, test], axis = 0)"
      ],
      "execution_count": 0,
      "outputs": []
    },
    {
      "cell_type": "code",
      "metadata": {
        "id": "wFg9qWtrog9C",
        "colab_type": "code",
        "outputId": "cb33b06b-2e38-488c-95e8-0bc1683a6720",
        "colab": {
          "base_uri": "https://localhost:8080/",
          "height": 204
        }
      },
      "source": [
        "df.head()"
      ],
      "execution_count": 16,
      "outputs": [
        {
          "output_type": "execute_result",
          "data": {
            "text/html": [
              "<div>\n",
              "<style scoped>\n",
              "    .dataframe tbody tr th:only-of-type {\n",
              "        vertical-align: middle;\n",
              "    }\n",
              "\n",
              "    .dataframe tbody tr th {\n",
              "        vertical-align: top;\n",
              "    }\n",
              "\n",
              "    .dataframe thead th {\n",
              "        text-align: right;\n",
              "    }\n",
              "</style>\n",
              "<table border=\"1\" class=\"dataframe\">\n",
              "  <thead>\n",
              "    <tr style=\"text-align: right;\">\n",
              "      <th></th>\n",
              "      <th>PassengerId</th>\n",
              "      <th>Pclass</th>\n",
              "      <th>Name</th>\n",
              "      <th>Sex</th>\n",
              "      <th>Age</th>\n",
              "      <th>SibSp</th>\n",
              "      <th>Parch</th>\n",
              "      <th>Ticket</th>\n",
              "      <th>Fare</th>\n",
              "      <th>Cabin</th>\n",
              "      <th>Embarked</th>\n",
              "    </tr>\n",
              "  </thead>\n",
              "  <tbody>\n",
              "    <tr>\n",
              "      <th>0</th>\n",
              "      <td>1</td>\n",
              "      <td>3</td>\n",
              "      <td>Braund, Mr. Owen Harris</td>\n",
              "      <td>male</td>\n",
              "      <td>22.0</td>\n",
              "      <td>1</td>\n",
              "      <td>0</td>\n",
              "      <td>A/5 21171</td>\n",
              "      <td>7.2500</td>\n",
              "      <td>NaN</td>\n",
              "      <td>S</td>\n",
              "    </tr>\n",
              "    <tr>\n",
              "      <th>1</th>\n",
              "      <td>2</td>\n",
              "      <td>1</td>\n",
              "      <td>Cumings, Mrs. John Bradley (Florence Briggs Th...</td>\n",
              "      <td>female</td>\n",
              "      <td>38.0</td>\n",
              "      <td>1</td>\n",
              "      <td>0</td>\n",
              "      <td>PC 17599</td>\n",
              "      <td>71.2833</td>\n",
              "      <td>C85</td>\n",
              "      <td>C</td>\n",
              "    </tr>\n",
              "    <tr>\n",
              "      <th>2</th>\n",
              "      <td>3</td>\n",
              "      <td>3</td>\n",
              "      <td>Heikkinen, Miss. Laina</td>\n",
              "      <td>female</td>\n",
              "      <td>26.0</td>\n",
              "      <td>0</td>\n",
              "      <td>0</td>\n",
              "      <td>STON/O2. 3101282</td>\n",
              "      <td>7.9250</td>\n",
              "      <td>NaN</td>\n",
              "      <td>S</td>\n",
              "    </tr>\n",
              "    <tr>\n",
              "      <th>3</th>\n",
              "      <td>4</td>\n",
              "      <td>1</td>\n",
              "      <td>Futrelle, Mrs. Jacques Heath (Lily May Peel)</td>\n",
              "      <td>female</td>\n",
              "      <td>35.0</td>\n",
              "      <td>1</td>\n",
              "      <td>0</td>\n",
              "      <td>113803</td>\n",
              "      <td>53.1000</td>\n",
              "      <td>C123</td>\n",
              "      <td>S</td>\n",
              "    </tr>\n",
              "    <tr>\n",
              "      <th>4</th>\n",
              "      <td>5</td>\n",
              "      <td>3</td>\n",
              "      <td>Allen, Mr. William Henry</td>\n",
              "      <td>male</td>\n",
              "      <td>35.0</td>\n",
              "      <td>0</td>\n",
              "      <td>0</td>\n",
              "      <td>373450</td>\n",
              "      <td>8.0500</td>\n",
              "      <td>NaN</td>\n",
              "      <td>S</td>\n",
              "    </tr>\n",
              "  </tbody>\n",
              "</table>\n",
              "</div>"
            ],
            "text/plain": [
              "   PassengerId  Pclass  ... Cabin Embarked\n",
              "0            1       3  ...   NaN        S\n",
              "1            2       1  ...   C85        C\n",
              "2            3       3  ...   NaN        S\n",
              "3            4       1  ...  C123        S\n",
              "4            5       3  ...   NaN        S\n",
              "\n",
              "[5 rows x 11 columns]"
            ]
          },
          "metadata": {
            "tags": []
          },
          "execution_count": 16
        }
      ]
    },
    {
      "cell_type": "markdown",
      "metadata": {
        "colab_type": "text",
        "id": "BumeyBd3oUsu"
      },
      "source": [
        "### Remove irrelevant variables"
      ]
    },
    {
      "cell_type": "code",
      "metadata": {
        "colab_type": "code",
        "id": "GFwxtQLp0IaN",
        "colab": {}
      },
      "source": [
        "#Removing 'PassengerID'\n",
        "df = df.drop(['PassengerId'], axis = 1)"
      ],
      "execution_count": 0,
      "outputs": []
    },
    {
      "cell_type": "markdown",
      "metadata": {
        "id": "17KLwwL8xpM-",
        "colab_type": "text"
      },
      "source": [
        "### Missing Data Imputation"
      ]
    },
    {
      "cell_type": "code",
      "metadata": {
        "id": "v-LVuYV3pCXj",
        "colab_type": "code",
        "outputId": "d9324221-4b85-464e-ecaa-1ead72ef8f27",
        "colab": {
          "base_uri": "https://localhost:8080/",
          "height": 204
        }
      },
      "source": [
        "df.isna().sum()"
      ],
      "execution_count": 18,
      "outputs": [
        {
          "output_type": "execute_result",
          "data": {
            "text/plain": [
              "Pclass         0\n",
              "Name           0\n",
              "Sex            0\n",
              "Age          263\n",
              "SibSp          0\n",
              "Parch          0\n",
              "Ticket         0\n",
              "Fare           1\n",
              "Cabin       1014\n",
              "Embarked       2\n",
              "dtype: int64"
            ]
          },
          "metadata": {
            "tags": []
          },
          "execution_count": 18
        }
      ]
    },
    {
      "cell_type": "markdown",
      "metadata": {
        "id": "4y4S_W7kNtsS",
        "colab_type": "text"
      },
      "source": [
        "Missing data for age, fare, cabin and embarked."
      ]
    },
    {
      "cell_type": "code",
      "metadata": {
        "id": "Yak5ZUXgp0LF",
        "colab_type": "code",
        "outputId": "0cd940c9-8e78-478b-d928-2a2c1ebca3a4",
        "colab": {
          "base_uri": "https://localhost:8080/",
          "height": 204
        }
      },
      "source": [
        "df.corr()"
      ],
      "execution_count": 19,
      "outputs": [
        {
          "output_type": "execute_result",
          "data": {
            "text/html": [
              "<div>\n",
              "<style scoped>\n",
              "    .dataframe tbody tr th:only-of-type {\n",
              "        vertical-align: middle;\n",
              "    }\n",
              "\n",
              "    .dataframe tbody tr th {\n",
              "        vertical-align: top;\n",
              "    }\n",
              "\n",
              "    .dataframe thead th {\n",
              "        text-align: right;\n",
              "    }\n",
              "</style>\n",
              "<table border=\"1\" class=\"dataframe\">\n",
              "  <thead>\n",
              "    <tr style=\"text-align: right;\">\n",
              "      <th></th>\n",
              "      <th>Pclass</th>\n",
              "      <th>Age</th>\n",
              "      <th>SibSp</th>\n",
              "      <th>Parch</th>\n",
              "      <th>Fare</th>\n",
              "    </tr>\n",
              "  </thead>\n",
              "  <tbody>\n",
              "    <tr>\n",
              "      <th>Pclass</th>\n",
              "      <td>1.000000</td>\n",
              "      <td>-0.408106</td>\n",
              "      <td>0.060832</td>\n",
              "      <td>0.018322</td>\n",
              "      <td>-0.558629</td>\n",
              "    </tr>\n",
              "    <tr>\n",
              "      <th>Age</th>\n",
              "      <td>-0.408106</td>\n",
              "      <td>1.000000</td>\n",
              "      <td>-0.243699</td>\n",
              "      <td>-0.150917</td>\n",
              "      <td>0.178740</td>\n",
              "    </tr>\n",
              "    <tr>\n",
              "      <th>SibSp</th>\n",
              "      <td>0.060832</td>\n",
              "      <td>-0.243699</td>\n",
              "      <td>1.000000</td>\n",
              "      <td>0.373587</td>\n",
              "      <td>0.160238</td>\n",
              "    </tr>\n",
              "    <tr>\n",
              "      <th>Parch</th>\n",
              "      <td>0.018322</td>\n",
              "      <td>-0.150917</td>\n",
              "      <td>0.373587</td>\n",
              "      <td>1.000000</td>\n",
              "      <td>0.221539</td>\n",
              "    </tr>\n",
              "    <tr>\n",
              "      <th>Fare</th>\n",
              "      <td>-0.558629</td>\n",
              "      <td>0.178740</td>\n",
              "      <td>0.160238</td>\n",
              "      <td>0.221539</td>\n",
              "      <td>1.000000</td>\n",
              "    </tr>\n",
              "  </tbody>\n",
              "</table>\n",
              "</div>"
            ],
            "text/plain": [
              "          Pclass       Age     SibSp     Parch      Fare\n",
              "Pclass  1.000000 -0.408106  0.060832  0.018322 -0.558629\n",
              "Age    -0.408106  1.000000 -0.243699 -0.150917  0.178740\n",
              "SibSp   0.060832 -0.243699  1.000000  0.373587  0.160238\n",
              "Parch   0.018322 -0.150917  0.373587  1.000000  0.221539\n",
              "Fare   -0.558629  0.178740  0.160238  0.221539  1.000000"
            ]
          },
          "metadata": {
            "tags": []
          },
          "execution_count": 19
        }
      ]
    },
    {
      "cell_type": "markdown",
      "metadata": {
        "id": "J8wweeViprax",
        "colab_type": "text"
      },
      "source": [
        "#### 'Age'"
      ]
    },
    {
      "cell_type": "markdown",
      "metadata": {
        "id": "wWMRJt6UqCoQ",
        "colab_type": "text"
      },
      "source": [
        "Age is most closely correlated with Pclass and SibSp, so we'll impute after grouping by these two variables."
      ]
    },
    {
      "cell_type": "code",
      "metadata": {
        "id": "k9RMMr9wqNIw",
        "colab_type": "code",
        "colab": {}
      },
      "source": [
        "#df.groupby(['Pclass', 'SibSp']).median()['Age']\n",
        "df['Age'] = df.groupby(['Pclass', 'SibSp'])['Age'].transform(lambda x: x.fillna(x.median()))"
      ],
      "execution_count": 0,
      "outputs": []
    },
    {
      "cell_type": "markdown",
      "metadata": {
        "id": "EsE7Xh4Ssww8",
        "colab_type": "text"
      },
      "source": [
        "#### 'Embarked'"
      ]
    },
    {
      "cell_type": "code",
      "metadata": {
        "id": "t0lMVzpQs1r3",
        "colab_type": "code",
        "colab": {}
      },
      "source": [
        "#Googling identifies passenger by name- departed from Southampton\n",
        "df['Embarked'] = df['Embarked'].fillna('S')"
      ],
      "execution_count": 0,
      "outputs": []
    },
    {
      "cell_type": "markdown",
      "metadata": {
        "id": "xkpaMmibtUMR",
        "colab_type": "text"
      },
      "source": [
        "#### 'Fare'"
      ]
    },
    {
      "cell_type": "code",
      "metadata": {
        "id": "Znf6iR_tuQ6p",
        "colab_type": "code",
        "outputId": "764e00ed-21f7-40ed-8af3-69b186768e7f",
        "colab": {
          "base_uri": "https://localhost:8080/",
          "height": 80
        }
      },
      "source": [
        "df[df['Fare'].isnull()]"
      ],
      "execution_count": 22,
      "outputs": [
        {
          "output_type": "execute_result",
          "data": {
            "text/html": [
              "<div>\n",
              "<style scoped>\n",
              "    .dataframe tbody tr th:only-of-type {\n",
              "        vertical-align: middle;\n",
              "    }\n",
              "\n",
              "    .dataframe tbody tr th {\n",
              "        vertical-align: top;\n",
              "    }\n",
              "\n",
              "    .dataframe thead th {\n",
              "        text-align: right;\n",
              "    }\n",
              "</style>\n",
              "<table border=\"1\" class=\"dataframe\">\n",
              "  <thead>\n",
              "    <tr style=\"text-align: right;\">\n",
              "      <th></th>\n",
              "      <th>Pclass</th>\n",
              "      <th>Name</th>\n",
              "      <th>Sex</th>\n",
              "      <th>Age</th>\n",
              "      <th>SibSp</th>\n",
              "      <th>Parch</th>\n",
              "      <th>Ticket</th>\n",
              "      <th>Fare</th>\n",
              "      <th>Cabin</th>\n",
              "      <th>Embarked</th>\n",
              "    </tr>\n",
              "  </thead>\n",
              "  <tbody>\n",
              "    <tr>\n",
              "      <th>152</th>\n",
              "      <td>3</td>\n",
              "      <td>Storey, Mr. Thomas</td>\n",
              "      <td>male</td>\n",
              "      <td>60.5</td>\n",
              "      <td>0</td>\n",
              "      <td>0</td>\n",
              "      <td>3701</td>\n",
              "      <td>NaN</td>\n",
              "      <td>NaN</td>\n",
              "      <td>S</td>\n",
              "    </tr>\n",
              "  </tbody>\n",
              "</table>\n",
              "</div>"
            ],
            "text/plain": [
              "     Pclass                Name   Sex   Age  ...  Ticket  Fare Cabin  Embarked\n",
              "152       3  Storey, Mr. Thomas  male  60.5  ...    3701   NaN   NaN         S\n",
              "\n",
              "[1 rows x 10 columns]"
            ]
          },
          "metadata": {
            "tags": []
          },
          "execution_count": 22
        }
      ]
    },
    {
      "cell_type": "code",
      "metadata": {
        "id": "BUi7JA04tfIJ",
        "colab_type": "code",
        "colab": {}
      },
      "source": [
        "#most closely correlated with Pclass, Parch and Age\n",
        "#group by Pclass only because no match for Parch and Age\n",
        "df.groupby(['Pclass', 'Parch', 'Age']).median()['Fare']\n",
        "df['Fare'] = df.groupby(['Pclass'])['Fare'].transform(lambda x: x.fillna(x.median()))"
      ],
      "execution_count": 0,
      "outputs": []
    },
    {
      "cell_type": "markdown",
      "metadata": {
        "id": "nL2YdYBAu2BU",
        "colab_type": "text"
      },
      "source": [
        "#### 'Cabin'"
      ]
    },
    {
      "cell_type": "code",
      "metadata": {
        "id": "DOxt-p7BvAZu",
        "colab_type": "code",
        "colab": {}
      },
      "source": [
        "#create a deck column from the first letter of the cabin column\n",
        "df['Deck'] = df['Cabin'].apply(lambda s: s[0] if pd.notnull(s) else 'M')"
      ],
      "execution_count": 0,
      "outputs": []
    },
    {
      "cell_type": "code",
      "metadata": {
        "id": "_xn7gl47vdd0",
        "colab_type": "code",
        "colab": {}
      },
      "source": [
        "df['Deck'] = df['Deck'].replace(['A', 'B', 'C', 'T'], 'ABC')\n",
        "df['Deck'] = df['Deck'].replace(['D', 'E'], 'DE')\n",
        "df['Deck'] = df['Deck'].replace(['F', 'G'], 'FG')"
      ],
      "execution_count": 0,
      "outputs": []
    },
    {
      "cell_type": "code",
      "metadata": {
        "id": "BV1ra-1WwI6Y",
        "colab_type": "code",
        "colab": {}
      },
      "source": [
        "df = df.drop(['Cabin'], axis = 1)"
      ],
      "execution_count": 0,
      "outputs": []
    },
    {
      "cell_type": "markdown",
      "metadata": {
        "id": "f68Fw70FeZOQ",
        "colab_type": "text"
      },
      "source": [
        "### Frequency Encoding"
      ]
    },
    {
      "cell_type": "markdown",
      "metadata": {
        "id": "jxJ-KwZDfTxV",
        "colab_type": "text"
      },
      "source": [
        "#### 'Family Size'"
      ]
    },
    {
      "cell_type": "code",
      "metadata": {
        "id": "fR6FGGdfecDR",
        "colab_type": "code",
        "colab": {}
      },
      "source": [
        "df['Family_Size'] = df['SibSp'] + df['Parch'] + 1"
      ],
      "execution_count": 0,
      "outputs": []
    },
    {
      "cell_type": "markdown",
      "metadata": {
        "id": "pvqdq2T1fX-P",
        "colab_type": "text"
      },
      "source": [
        "#### 'Ticket Frequency'"
      ]
    },
    {
      "cell_type": "code",
      "metadata": {
        "id": "rXIuBbTHe2Xk",
        "colab_type": "code",
        "colab": {}
      },
      "source": [
        "df['Ticket_Frequency'] = df.groupby('Ticket')['Ticket'].transform('count')"
      ],
      "execution_count": 0,
      "outputs": []
    },
    {
      "cell_type": "markdown",
      "metadata": {
        "id": "bnM6n3RbfaAI",
        "colab_type": "text"
      },
      "source": [
        "#### 'Is_Married' (woman only)"
      ]
    },
    {
      "cell_type": "code",
      "metadata": {
        "id": "NTg89aJKfcav",
        "colab_type": "code",
        "colab": {
          "base_uri": "https://localhost:8080/",
          "height": 105
        },
        "outputId": "e2aefe7b-6264-44bf-e59a-20409f470b0f"
      },
      "source": [
        "df['Title'] = df['Name'].str.split(', ', expand=True)[1].str.split('.', expand=True)[0]\n",
        "df['Is_Married'] = 0\n",
        "df['Is_Married'].loc[df['Title'] == 'Mrs'] = 1"
      ],
      "execution_count": 31,
      "outputs": [
        {
          "output_type": "stream",
          "text": [
            "/usr/local/lib/python3.6/dist-packages/pandas/core/indexing.py:205: SettingWithCopyWarning: \n",
            "A value is trying to be set on a copy of a slice from a DataFrame\n",
            "\n",
            "See the caveats in the documentation: http://pandas.pydata.org/pandas-docs/stable/user_guide/indexing.html#returning-a-view-versus-a-copy\n",
            "  self._setitem_with_indexer(indexer, value)\n"
          ],
          "name": "stderr"
        }
      ]
    },
    {
      "cell_type": "markdown",
      "metadata": {
        "id": "QIkItqRHf775",
        "colab_type": "text"
      },
      "source": [
        "#### 'Title'"
      ]
    },
    {
      "cell_type": "code",
      "metadata": {
        "id": "Lk4338nXf7jG",
        "colab_type": "code",
        "colab": {}
      },
      "source": [
        "df['Title'] = df['Title'].replace(['Miss', 'Mrs','Ms', 'Mlle', 'Lady', 'Mme', 'the Countess', 'Dona'], 'Miss/Mrs/Ms')\n",
        "df['Title'] = df['Title'].replace(['Dr', 'Col', 'Major', 'Jonkheer', 'Capt', 'Sir', 'Don', 'Rev'], 'Dr/Military/Noble/Clergy')"
      ],
      "execution_count": 0,
      "outputs": []
    },
    {
      "cell_type": "markdown",
      "metadata": {
        "id": "lJ3mENxfKTjg",
        "colab_type": "text"
      },
      "source": [
        "### Categorical Encoding"
      ]
    },
    {
      "cell_type": "markdown",
      "metadata": {
        "id": "i2kDHkIjN-Qa",
        "colab_type": "text"
      },
      "source": [
        "Because the XGBoost algorithm requires numeric value, we have to main options for dealing with categorical variables: **label encoding** and **one-hot encoding**.  \n",
        "I'll opt for label encoding where there is an inherent rank and one-hot encoding otherwise."
      ]
    },
    {
      "cell_type": "code",
      "metadata": {
        "id": "6rDx28f0NgTk",
        "colab_type": "code",
        "outputId": "86f71083-0db3-40e9-8fe7-6107758d925b",
        "colab": {
          "base_uri": "https://localhost:8080/",
          "height": 351
        }
      },
      "source": [
        "df.info()"
      ],
      "execution_count": 32,
      "outputs": [
        {
          "output_type": "stream",
          "text": [
            "<class 'pandas.core.frame.DataFrame'>\n",
            "Int64Index: 1309 entries, 0 to 417\n",
            "Data columns (total 14 columns):\n",
            "Pclass              1309 non-null int64\n",
            "Name                1309 non-null object\n",
            "Sex                 1309 non-null object\n",
            "Age                 1309 non-null float64\n",
            "SibSp               1309 non-null int64\n",
            "Parch               1309 non-null int64\n",
            "Ticket              1309 non-null object\n",
            "Fare                1309 non-null float64\n",
            "Embarked            1309 non-null object\n",
            "Deck                1309 non-null object\n",
            "Family_Size         1309 non-null int64\n",
            "Ticket_Frequency    1309 non-null int64\n",
            "Title               1309 non-null object\n",
            "Is_Married          1309 non-null int64\n",
            "dtypes: float64(2), int64(6), object(6)\n",
            "memory usage: 153.4+ KB\n"
          ],
          "name": "stdout"
        }
      ]
    },
    {
      "cell_type": "markdown",
      "metadata": {
        "id": "KWFRUnM1Nj2N",
        "colab_type": "text"
      },
      "source": [
        "**Label encoding**: Pclass  \n",
        "**One-hot encoding**: Sex, Embarked"
      ]
    },
    {
      "cell_type": "code",
      "metadata": {
        "id": "gpFK_zaYKjhI",
        "colab_type": "code",
        "colab": {}
      },
      "source": [
        "df_cat_ohe = df[['Sex', 'Embarked', 'Deck']]\n",
        "df_cat_le = df[['Pclass']]\n",
        "df_quant = df[['Age', 'SibSp', 'Parch', 'Fare']]"
      ],
      "execution_count": 0,
      "outputs": []
    },
    {
      "cell_type": "markdown",
      "metadata": {
        "id": "aI4WZvasMvXT",
        "colab_type": "text"
      },
      "source": [
        "#### Label Encoding"
      ]
    },
    {
      "cell_type": "markdown",
      "metadata": {
        "id": "fKX7ttISMxRt",
        "colab_type": "text"
      },
      "source": [
        "Label encoding can be done with pandas"
      ]
    },
    {
      "cell_type": "code",
      "metadata": {
        "id": "ZWoKyZRFM_IW",
        "colab_type": "code",
        "outputId": "cbf2bb4d-ab1f-43e0-a9c5-60d58c69e48a",
        "colab": {
          "base_uri": "https://localhost:8080/",
          "height": 122
        }
      },
      "source": [
        "df_cat_le['Pclass'] = pd.to_numeric(df_cat_le['Pclass']) # Replace strings with an integer"
      ],
      "execution_count": 0,
      "outputs": [
        {
          "output_type": "stream",
          "text": [
            "/usr/local/lib/python3.6/dist-packages/ipykernel_launcher.py:1: SettingWithCopyWarning: \n",
            "A value is trying to be set on a copy of a slice from a DataFrame.\n",
            "Try using .loc[row_indexer,col_indexer] = value instead\n",
            "\n",
            "See the caveats in the documentation: http://pandas.pydata.org/pandas-docs/stable/user_guide/indexing.html#returning-a-view-versus-a-copy\n",
            "  \"\"\"Entry point for launching an IPython kernel.\n"
          ],
          "name": "stderr"
        }
      ]
    },
    {
      "cell_type": "markdown",
      "metadata": {
        "id": "VJFHZz-Wxw85",
        "colab_type": "text"
      },
      "source": [
        "#### One-hot encoding"
      ]
    },
    {
      "cell_type": "code",
      "metadata": {
        "id": "PaybgyWpxcF2",
        "colab_type": "code",
        "outputId": "0dc99a4b-cafc-4ca2-81c6-a5fe336111e8",
        "colab": {
          "base_uri": "https://localhost:8080/",
          "height": 34
        }
      },
      "source": [
        "df_cat_ohe.Sex.unique()"
      ],
      "execution_count": 0,
      "outputs": [
        {
          "output_type": "execute_result",
          "data": {
            "text/plain": [
              "array(['male', 'female'], dtype=object)"
            ]
          },
          "metadata": {
            "tags": []
          },
          "execution_count": 30
        }
      ]
    },
    {
      "cell_type": "code",
      "metadata": {
        "id": "k1W3tWA6xgKe",
        "colab_type": "code",
        "outputId": "5a805617-fbe3-4f0c-8a6f-5975f6f040ea",
        "colab": {
          "base_uri": "https://localhost:8080/",
          "height": 34
        }
      },
      "source": [
        "df_cat_ohe.Embarked.unique()"
      ],
      "execution_count": 0,
      "outputs": [
        {
          "output_type": "execute_result",
          "data": {
            "text/plain": [
              "array(['S', 'C', 'Q'], dtype=object)"
            ]
          },
          "metadata": {
            "tags": []
          },
          "execution_count": 31
        }
      ]
    },
    {
      "cell_type": "code",
      "metadata": {
        "id": "9yetBVxg3TH8",
        "colab_type": "code",
        "outputId": "d821a9e7-aa4b-4f90-a320-c730c3e9eed9",
        "colab": {
          "base_uri": "https://localhost:8080/",
          "height": 34
        }
      },
      "source": [
        "df_cat_ohe.Deck.unique()"
      ],
      "execution_count": 0,
      "outputs": [
        {
          "output_type": "execute_result",
          "data": {
            "text/plain": [
              "array(['M', 'ABC', 'DE', 'FG'], dtype=object)"
            ]
          },
          "metadata": {
            "tags": []
          },
          "execution_count": 32
        }
      ]
    },
    {
      "cell_type": "code",
      "metadata": {
        "id": "Ozd0-ArExW30",
        "colab_type": "code",
        "colab": {}
      },
      "source": [
        "from sklearn import preprocessing"
      ],
      "execution_count": 0,
      "outputs": []
    },
    {
      "cell_type": "code",
      "metadata": {
        "id": "OJNpsXpLKaU1",
        "colab_type": "code",
        "colab": {}
      },
      "source": [
        "enc = preprocessing.OneHotEncoder()\n",
        "enc.fit(df_cat_ohe)\n",
        "onehotlabels = enc.transform(df_cat_ohe).toarray()\n",
        "df_ohe = pd.DataFrame(onehotlabels)\n",
        "df_ohe.columns = ['M', 'F', 'S', 'C', 'Q', 'D_M', 'D_ABC', 'D_E', 'D_FG']"
      ],
      "execution_count": 0,
      "outputs": []
    },
    {
      "cell_type": "markdown",
      "metadata": {
        "id": "BiTQoQy33nSd",
        "colab_type": "text"
      },
      "source": [
        "### Ticket and Name- To Be Continued"
      ]
    },
    {
      "cell_type": "markdown",
      "metadata": {
        "id": "4-veTAWK2DmE",
        "colab_type": "text"
      },
      "source": [
        "### Joining Data Frame"
      ]
    },
    {
      "cell_type": "code",
      "metadata": {
        "id": "_pKp80Tp5UVu",
        "colab_type": "code",
        "colab": {}
      },
      "source": [
        "df = pd.concat([df_quant, df_cat_le], axis=1, sort=False)"
      ],
      "execution_count": 0,
      "outputs": []
    },
    {
      "cell_type": "code",
      "metadata": {
        "id": "TuI9is3q6vTG",
        "colab_type": "code",
        "colab": {}
      },
      "source": [
        "df = df.reset_index(drop = False)"
      ],
      "execution_count": 0,
      "outputs": []
    },
    {
      "cell_type": "code",
      "metadata": {
        "id": "Wct4-hi65d6r",
        "colab_type": "code",
        "colab": {}
      },
      "source": [
        "df_ohe = df_ohe.reset_index(drop = False)"
      ],
      "execution_count": 0,
      "outputs": []
    },
    {
      "cell_type": "code",
      "metadata": {
        "id": "0gl10lP713jo",
        "colab_type": "code",
        "colab": {}
      },
      "source": [
        "df = df.join(df_ohe.set_index('index'), on = 'index')"
      ],
      "execution_count": 0,
      "outputs": []
    },
    {
      "cell_type": "code",
      "metadata": {
        "id": "9y4nmAs--C9F",
        "colab_type": "code",
        "colab": {}
      },
      "source": [
        "df = df.drop(['index'], axis = 1)"
      ],
      "execution_count": 0,
      "outputs": []
    },
    {
      "cell_type": "markdown",
      "metadata": {
        "id": "iYTfnx8b36uW",
        "colab_type": "text"
      },
      "source": [
        "## Splitting Data"
      ]
    },
    {
      "cell_type": "markdown",
      "metadata": {
        "id": "4-KelXBr4DHA",
        "colab_type": "text"
      },
      "source": [
        "### Train and Test Set"
      ]
    },
    {
      "cell_type": "code",
      "metadata": {
        "id": "bs0QrTV54FHA",
        "colab_type": "code",
        "colab": {}
      },
      "source": [
        "train_features = df.iloc[0:890,:]\n",
        "test_features = df.iloc[891:1310,:]"
      ],
      "execution_count": 0,
      "outputs": []
    },
    {
      "cell_type": "code",
      "metadata": {
        "id": "tzxjDZb_-3Kx",
        "colab_type": "code",
        "outputId": "78a52f03-8277-4a3a-caab-7692dd742f81",
        "colab": {
          "base_uri": "https://localhost:8080/",
          "height": 34
        }
      },
      "source": [
        "train_features.shape"
      ],
      "execution_count": 0,
      "outputs": [
        {
          "output_type": "execute_result",
          "data": {
            "text/plain": [
              "(890, 14)"
            ]
          },
          "metadata": {
            "tags": []
          },
          "execution_count": 41
        }
      ]
    },
    {
      "cell_type": "code",
      "metadata": {
        "id": "IymWksQH-wSe",
        "colab_type": "code",
        "outputId": "4bd36dba-60f6-4690-cb1c-9fa3ae0dc2a3",
        "colab": {
          "base_uri": "https://localhost:8080/",
          "height": 34
        }
      },
      "source": [
        "test_features.shape"
      ],
      "execution_count": 0,
      "outputs": [
        {
          "output_type": "execute_result",
          "data": {
            "text/plain": [
              "(418, 14)"
            ]
          },
          "metadata": {
            "tags": []
          },
          "execution_count": 42
        }
      ]
    },
    {
      "cell_type": "code",
      "metadata": {
        "id": "JcV-pLuo_XB6",
        "colab_type": "code",
        "colab": {}
      },
      "source": [
        "train = pd.concat([train_features, train_labels], axis=1, sort=False)"
      ],
      "execution_count": 0,
      "outputs": []
    },
    {
      "cell_type": "markdown",
      "metadata": {
        "id": "6JCK_97efgiN",
        "colab_type": "text"
      },
      "source": [
        "### Validation Data for Cross-Validation"
      ]
    },
    {
      "cell_type": "code",
      "metadata": {
        "id": "vuKxoQRbfmur",
        "colab_type": "code",
        "colab": {}
      },
      "source": [
        "from sklearn.model_selection import train_test_split"
      ],
      "execution_count": 0,
      "outputs": []
    },
    {
      "cell_type": "code",
      "metadata": {
        "id": "GLYA1nXy_vT_",
        "colab_type": "code",
        "colab": {}
      },
      "source": [
        "split_percent = 0.3\n",
        "train, val = train_test_split(train, test_size=split_percent, stratify = train['Survived'], random_state=42) "
      ],
      "execution_count": 0,
      "outputs": []
    },
    {
      "cell_type": "code",
      "metadata": {
        "id": "BzJjXO_cO_m9",
        "colab_type": "code",
        "colab": {}
      },
      "source": [
        "train_labels = train['Survived']\n",
        "val_labels = val['Survived']"
      ],
      "execution_count": 0,
      "outputs": []
    },
    {
      "cell_type": "code",
      "metadata": {
        "id": "TdfisTmfPUnx",
        "colab_type": "code",
        "colab": {}
      },
      "source": [
        "train_features = train.drop('Survived', axis = 1)\n",
        "val_features = val.drop('Survived', axis = 1)"
      ],
      "execution_count": 0,
      "outputs": []
    },
    {
      "cell_type": "markdown",
      "metadata": {
        "id": "inn8OPgySmqt",
        "colab_type": "text"
      },
      "source": [
        "## XGBoost with Scikit-Learn API"
      ]
    },
    {
      "cell_type": "code",
      "metadata": {
        "id": "w7rWeiUNH21G",
        "colab_type": "code",
        "colab": {}
      },
      "source": [
        "import xgboost as xgb"
      ],
      "execution_count": 0,
      "outputs": []
    },
    {
      "cell_type": "markdown",
      "metadata": {
        "id": "tWF8F8cZ5qg1",
        "colab_type": "text"
      },
      "source": [
        "### Grid Search w/ Cross Validation"
      ]
    },
    {
      "cell_type": "markdown",
      "metadata": {
        "id": "wiTfXEJygb1q",
        "colab_type": "text"
      },
      "source": [
        "The XGBoost library does not have a grid search function, so we will use the scikit-learn API for XGBoost instead. "
      ]
    },
    {
      "cell_type": "code",
      "metadata": {
        "id": "Fd8gZQmz0tyb",
        "colab_type": "code",
        "colab": {}
      },
      "source": [
        "from sklearn.model_selection import GridSearchCV"
      ],
      "execution_count": 0,
      "outputs": []
    },
    {
      "cell_type": "code",
      "metadata": {
        "id": "ydV_gceY8tAa",
        "colab_type": "code",
        "colab": {}
      },
      "source": [
        "cv_params = {\n",
        "     'min_child_weight': [1, 3, 5], #weight required for new node\n",
        "     'gamma': [0.5, 1, 1.5, 2, 5],\n",
        "     'subsample': [0.6, 0.8, 1.0], #fraction of rows to subsample\n",
        "     'colsample_bytree': [0.6, 0.8, 1.0], #fraction of features to use\n",
        "     'max_depth': [3, 4, 5], #number of allowable nodes\n",
        "}\n",
        "\n",
        "#     'n_estimators':[50, 75, 100],\n",
        "#     'learning_rate': [0.01, 0.05, 0.1],"
      ],
      "execution_count": 0,
      "outputs": []
    },
    {
      "cell_type": "code",
      "metadata": {
        "id": "q4CsqoeH6kOQ",
        "colab_type": "code",
        "colab": {}
      },
      "source": [
        "ind_params = {'seed':0, \n",
        "              'objective': 'binary:logistic'}"
      ],
      "execution_count": 0,
      "outputs": []
    },
    {
      "cell_type": "code",
      "metadata": {
        "id": "AkwYRwes65oB",
        "colab_type": "code",
        "colab": {}
      },
      "source": [
        "folds = 5\n",
        "param_comb = 5\n",
        "skf = StratifiedKFold(n_splits = folds, \n",
        "                      shuffle = True, \n",
        "                      random_state = 1001)"
      ],
      "execution_count": 0,
      "outputs": []
    },
    {
      "cell_type": "code",
      "metadata": {
        "id": "HTr_wGDYh2N1",
        "colab_type": "code",
        "colab": {}
      },
      "source": [
        "random_search = RandomizedSearchCV"
      ],
      "execution_count": 0,
      "outputs": []
    },
    {
      "cell_type": "code",
      "metadata": {
        "id": "xrAA0aTQh09M",
        "colab_type": "code",
        "colab": {}
      },
      "source": [
        "#XGBclassifier within grid search function\n",
        "optimized_GBM = GridSearchCV(estimator = xgb.XGBClassifier(**ind_params), \n",
        "                             param_grid= cv_params, \n",
        "                             scoring = 'accuracy', \n",
        "                             cv = 5, #5 folds\n",
        "                             n_jobs = -1,  #use all processors\n",
        "                             verbose = 1)"
      ],
      "execution_count": 0,
      "outputs": []
    },
    {
      "cell_type": "code",
      "metadata": {
        "id": "r_KwrGjm64J-",
        "colab_type": "code",
        "outputId": "0e29603c-3065-4eb6-e063-1bf29950441d",
        "colab": {
          "base_uri": "https://localhost:8080/",
          "height": 1000
        }
      },
      "source": [
        "#trained with the evaluation set to prevent overfitting\n",
        "optimized_GBM.fit(X = train_features, \n",
        "                  y = train_labels,\n",
        "                  eval_set = [(val_features, val_labels)],\n",
        "                  eval_metric = \"error\",\n",
        "                  early_stopping_rounds = 25)"
      ],
      "execution_count": 0,
      "outputs": [
        {
          "output_type": "stream",
          "text": [
            "Fitting 5 folds for each of 729 candidates, totalling 3645 fits\n"
          ],
          "name": "stdout"
        },
        {
          "output_type": "stream",
          "text": [
            "[Parallel(n_jobs=-1)]: Using backend LokyBackend with 2 concurrent workers.\n",
            "[Parallel(n_jobs=-1)]: Done 164 tasks      | elapsed:    4.3s\n",
            "[Parallel(n_jobs=-1)]: Done 764 tasks      | elapsed:   23.6s\n",
            "[Parallel(n_jobs=-1)]: Done 1764 tasks      | elapsed:   54.5s\n",
            "[Parallel(n_jobs=-1)]: Done 3164 tasks      | elapsed:  1.6min\n"
          ],
          "name": "stderr"
        },
        {
          "output_type": "stream",
          "text": [
            "[0]\tvalidation_0-error:0.205224\n",
            "Will train until validation_0-error hasn't improved in 25 rounds.\n",
            "[1]\tvalidation_0-error:0.235075\n",
            "[2]\tvalidation_0-error:0.242537\n",
            "[3]\tvalidation_0-error:0.227612\n",
            "[4]\tvalidation_0-error:0.253731\n",
            "[5]\tvalidation_0-error:0.216418\n",
            "[6]\tvalidation_0-error:0.201493\n",
            "[7]\tvalidation_0-error:0.208955\n",
            "[8]\tvalidation_0-error:0.223881\n",
            "[9]\tvalidation_0-error:0.205224\n",
            "[10]\tvalidation_0-error:0.197761\n",
            "[11]\tvalidation_0-error:0.190299\n",
            "[12]\tvalidation_0-error:0.19403\n",
            "[13]\tvalidation_0-error:0.182836\n",
            "[14]\tvalidation_0-error:0.186567\n",
            "[15]\tvalidation_0-error:0.182836\n",
            "[16]\tvalidation_0-error:0.182836\n",
            "[17]\tvalidation_0-error:0.186567\n",
            "[18]\tvalidation_0-error:0.179104\n",
            "[19]\tvalidation_0-error:0.175373\n",
            "[20]\tvalidation_0-error:0.171642\n",
            "[21]\tvalidation_0-error:0.171642\n",
            "[22]\tvalidation_0-error:0.182836\n",
            "[23]\tvalidation_0-error:0.179104\n",
            "[24]\tvalidation_0-error:0.182836\n",
            "[25]\tvalidation_0-error:0.175373\n",
            "[26]\tvalidation_0-error:0.175373\n",
            "[27]\tvalidation_0-error:0.186567\n",
            "[28]\tvalidation_0-error:0.179104\n",
            "[29]\tvalidation_0-error:0.179104\n",
            "[30]\tvalidation_0-error:0.175373\n",
            "[31]\tvalidation_0-error:0.190299\n",
            "[32]\tvalidation_0-error:0.19403\n",
            "[33]\tvalidation_0-error:0.186567\n",
            "[34]\tvalidation_0-error:0.175373\n",
            "[35]\tvalidation_0-error:0.179104\n",
            "[36]\tvalidation_0-error:0.175373\n",
            "[37]\tvalidation_0-error:0.186567\n",
            "[38]\tvalidation_0-error:0.190299\n",
            "[39]\tvalidation_0-error:0.182836\n",
            "[40]\tvalidation_0-error:0.186567\n",
            "[41]\tvalidation_0-error:0.182836\n",
            "[42]\tvalidation_0-error:0.186567\n",
            "[43]\tvalidation_0-error:0.186567\n",
            "[44]\tvalidation_0-error:0.190299\n",
            "[45]\tvalidation_0-error:0.182836\n",
            "Stopping. Best iteration:\n",
            "[20]\tvalidation_0-error:0.171642\n",
            "\n"
          ],
          "name": "stdout"
        },
        {
          "output_type": "stream",
          "text": [
            "[Parallel(n_jobs=-1)]: Done 3645 out of 3645 | elapsed:  1.9min finished\n"
          ],
          "name": "stderr"
        },
        {
          "output_type": "execute_result",
          "data": {
            "text/plain": [
              "GridSearchCV(cv=5, error_score=nan,\n",
              "             estimator=XGBClassifier(base_score=0.5, booster='gbtree',\n",
              "                                     colsample_bylevel=1, colsample_bynode=1,\n",
              "                                     colsample_bytree=1, gamma=0,\n",
              "                                     learning_rate=0.1, max_delta_step=0,\n",
              "                                     max_depth=3, min_child_weight=1,\n",
              "                                     missing=None, n_estimators=100, n_jobs=1,\n",
              "                                     nthread=None, objective='binary:logistic',\n",
              "                                     random_state=0, reg_alpha=0, reg_lambda=1,\n",
              "                                     scale_pos_weight=1, seed=0, silent=None,\n",
              "                                     subsample=1, verbosity=1),\n",
              "             iid='deprecated', n_jobs=-1,\n",
              "             param_grid={'colsample_bytree': [0.2, 0.3, 0.4],\n",
              "                         'learning_rate': [0.01, 0.05, 0.1],\n",
              "                         'max_depth': [2, 3, 4], 'min_child_weight': [1, 2, 3],\n",
              "                         'n_estimators': [50, 75, 100],\n",
              "                         'subsample': [0.3, 0.4, 0.5]},\n",
              "             pre_dispatch='2*n_jobs', refit=True, return_train_score=False,\n",
              "             scoring='accuracy', verbose=1)"
            ]
          },
          "metadata": {
            "tags": []
          },
          "execution_count": 60
        }
      ]
    },
    {
      "cell_type": "markdown",
      "metadata": {
        "id": "MBN1JUV89Ga_",
        "colab_type": "text"
      },
      "source": [
        "### Reviewing Grid Scores"
      ]
    },
    {
      "cell_type": "markdown",
      "metadata": {
        "id": "CBzHAvz31Wwo",
        "colab_type": "text"
      },
      "source": [
        "All of the hyperparameters are at their minimum. We're surely overfitting."
      ]
    },
    {
      "cell_type": "code",
      "metadata": {
        "id": "yIGy9JmHvJ37",
        "colab_type": "code",
        "outputId": "2f4564d5-a213-4c15-ef2a-dccfe4357366",
        "colab": {
          "base_uri": "https://localhost:8080/",
          "height": 195
        }
      },
      "source": [
        "pd.DataFrame(optimized_GBM.cv_results_['params']).head()"
      ],
      "execution_count": 0,
      "outputs": [
        {
          "output_type": "execute_result",
          "data": {
            "text/html": [
              "<div>\n",
              "<style scoped>\n",
              "    .dataframe tbody tr th:only-of-type {\n",
              "        vertical-align: middle;\n",
              "    }\n",
              "\n",
              "    .dataframe tbody tr th {\n",
              "        vertical-align: top;\n",
              "    }\n",
              "\n",
              "    .dataframe thead th {\n",
              "        text-align: right;\n",
              "    }\n",
              "</style>\n",
              "<table border=\"1\" class=\"dataframe\">\n",
              "  <thead>\n",
              "    <tr style=\"text-align: right;\">\n",
              "      <th></th>\n",
              "      <th>colsample_bytree</th>\n",
              "      <th>learning_rate</th>\n",
              "      <th>max_depth</th>\n",
              "      <th>min_child_weight</th>\n",
              "      <th>n_estimators</th>\n",
              "      <th>subsample</th>\n",
              "    </tr>\n",
              "  </thead>\n",
              "  <tbody>\n",
              "    <tr>\n",
              "      <th>0</th>\n",
              "      <td>0.2</td>\n",
              "      <td>0.01</td>\n",
              "      <td>2</td>\n",
              "      <td>1</td>\n",
              "      <td>50</td>\n",
              "      <td>0.3</td>\n",
              "    </tr>\n",
              "    <tr>\n",
              "      <th>1</th>\n",
              "      <td>0.2</td>\n",
              "      <td>0.01</td>\n",
              "      <td>2</td>\n",
              "      <td>1</td>\n",
              "      <td>50</td>\n",
              "      <td>0.4</td>\n",
              "    </tr>\n",
              "    <tr>\n",
              "      <th>2</th>\n",
              "      <td>0.2</td>\n",
              "      <td>0.01</td>\n",
              "      <td>2</td>\n",
              "      <td>1</td>\n",
              "      <td>50</td>\n",
              "      <td>0.5</td>\n",
              "    </tr>\n",
              "    <tr>\n",
              "      <th>3</th>\n",
              "      <td>0.2</td>\n",
              "      <td>0.01</td>\n",
              "      <td>2</td>\n",
              "      <td>1</td>\n",
              "      <td>75</td>\n",
              "      <td>0.3</td>\n",
              "    </tr>\n",
              "    <tr>\n",
              "      <th>4</th>\n",
              "      <td>0.2</td>\n",
              "      <td>0.01</td>\n",
              "      <td>2</td>\n",
              "      <td>1</td>\n",
              "      <td>75</td>\n",
              "      <td>0.4</td>\n",
              "    </tr>\n",
              "  </tbody>\n",
              "</table>\n",
              "</div>"
            ],
            "text/plain": [
              "   colsample_bytree  learning_rate  ...  n_estimators  subsample\n",
              "0               0.2           0.01  ...            50        0.3\n",
              "1               0.2           0.01  ...            50        0.4\n",
              "2               0.2           0.01  ...            50        0.5\n",
              "3               0.2           0.01  ...            75        0.3\n",
              "4               0.2           0.01  ...            75        0.4\n",
              "\n",
              "[5 rows x 6 columns]"
            ]
          },
          "metadata": {
            "tags": []
          },
          "execution_count": 61
        }
      ]
    },
    {
      "cell_type": "markdown",
      "metadata": {
        "id": "B49xayFuzikh",
        "colab_type": "text"
      },
      "source": [
        "### Tuning Hyperparameters"
      ]
    },
    {
      "cell_type": "markdown",
      "metadata": {
        "id": "i-3X9_P0jxqK",
        "colab_type": "text"
      },
      "source": [
        "If the optimum hyperparameter is on a lower or upper bound, include smaller/larger parameters and search again. (Just adjust the grid search parameters in the previous section.)"
      ]
    },
    {
      "cell_type": "markdown",
      "metadata": {
        "id": "OW5PMzu911xP",
        "colab_type": "text"
      },
      "source": [
        "### Picking Best Parameters"
      ]
    },
    {
      "cell_type": "code",
      "metadata": {
        "colab_type": "code",
        "id": "DdLIFTMr-zrD",
        "colab": {}
      },
      "source": [
        "params = optimized_GBM.best_params_"
      ],
      "execution_count": 0,
      "outputs": []
    },
    {
      "cell_type": "code",
      "metadata": {
        "id": "R1cUuMe4R0SS",
        "colab_type": "code",
        "colab": {}
      },
      "source": [
        "params['seed'] = 0\n",
        "params['objective'] = 'binary:logistic'  "
      ],
      "execution_count": 0,
      "outputs": []
    },
    {
      "cell_type": "markdown",
      "metadata": {
        "id": "ZkNOEtvk_66y",
        "colab_type": "text"
      },
      "source": [
        "## XGBoost with XGBoost API"
      ]
    },
    {
      "cell_type": "markdown",
      "metadata": {
        "id": "B35B7TbaqFlg",
        "colab_type": "text"
      },
      "source": [
        "### Create Dataset"
      ]
    },
    {
      "cell_type": "code",
      "metadata": {
        "id": "gNzd6TY6OcKp",
        "colab_type": "code",
        "outputId": "b1cf5454-db36-4465-d0bf-55a422efe6d7",
        "colab": {
          "base_uri": "https://localhost:8080/",
          "height": 87
        }
      },
      "source": [
        "dtrain = xgb.DMatrix(train_features, label=train_labels)\n",
        "dval = xgb.DMatrix(val_features, label=val_labels)\n",
        "dtest = xgb.DMatrix(test_features)"
      ],
      "execution_count": 0,
      "outputs": [
        {
          "output_type": "stream",
          "text": [
            "/usr/local/lib/python3.6/dist-packages/xgboost/core.py:587: FutureWarning: Series.base is deprecated and will be removed in a future version\n",
            "  if getattr(data, 'base', None) is not None and \\\n",
            "/usr/local/lib/python3.6/dist-packages/xgboost/core.py:588: FutureWarning: Series.base is deprecated and will be removed in a future version\n",
            "  data.base is not None and isinstance(data, np.ndarray) \\\n"
          ],
          "name": "stderr"
        }
      ]
    },
    {
      "cell_type": "markdown",
      "metadata": {
        "id": "WG2woWyrsiNw",
        "colab_type": "text"
      },
      "source": [
        "### Set number of trees"
      ]
    },
    {
      "cell_type": "code",
      "metadata": {
        "id": "EWanbZXr_9Ih",
        "colab_type": "code",
        "colab": {}
      },
      "source": [
        "cv_xgb = xgb.cv(params = params, \n",
        "                dtrain = dtrain, \n",
        "                num_boost_round = 3000, #number of trees to build\n",
        "                nfold = 5,\n",
        "                metrics = ['error'], \n",
        "                early_stopping_rounds = 100) # Look for early stopping that minimizes error"
      ],
      "execution_count": 0,
      "outputs": []
    },
    {
      "cell_type": "code",
      "metadata": {
        "id": "igHkHbAcAc5E",
        "colab_type": "code",
        "outputId": "bc896763-08a0-4146-d25e-12351a72a46d",
        "colab": {
          "base_uri": "https://localhost:8080/",
          "height": 195
        }
      },
      "source": [
        "cv_xgb.tail()"
      ],
      "execution_count": 0,
      "outputs": [
        {
          "output_type": "execute_result",
          "data": {
            "text/html": [
              "<div>\n",
              "<style scoped>\n",
              "    .dataframe tbody tr th:only-of-type {\n",
              "        vertical-align: middle;\n",
              "    }\n",
              "\n",
              "    .dataframe tbody tr th {\n",
              "        vertical-align: top;\n",
              "    }\n",
              "\n",
              "    .dataframe thead th {\n",
              "        text-align: right;\n",
              "    }\n",
              "</style>\n",
              "<table border=\"1\" class=\"dataframe\">\n",
              "  <thead>\n",
              "    <tr style=\"text-align: right;\">\n",
              "      <th></th>\n",
              "      <th>train-error-mean</th>\n",
              "      <th>train-error-std</th>\n",
              "      <th>test-error-mean</th>\n",
              "      <th>test-error-std</th>\n",
              "    </tr>\n",
              "  </thead>\n",
              "  <tbody>\n",
              "    <tr>\n",
              "      <th>100</th>\n",
              "      <td>0.120785</td>\n",
              "      <td>0.008228</td>\n",
              "      <td>0.179794</td>\n",
              "      <td>0.025721</td>\n",
              "    </tr>\n",
              "    <tr>\n",
              "      <th>101</th>\n",
              "      <td>0.120382</td>\n",
              "      <td>0.008837</td>\n",
              "      <td>0.182981</td>\n",
              "      <td>0.023359</td>\n",
              "    </tr>\n",
              "    <tr>\n",
              "      <th>102</th>\n",
              "      <td>0.120784</td>\n",
              "      <td>0.009407</td>\n",
              "      <td>0.179781</td>\n",
              "      <td>0.026125</td>\n",
              "    </tr>\n",
              "    <tr>\n",
              "      <th>103</th>\n",
              "      <td>0.119981</td>\n",
              "      <td>0.009814</td>\n",
              "      <td>0.178155</td>\n",
              "      <td>0.030024</td>\n",
              "    </tr>\n",
              "    <tr>\n",
              "      <th>104</th>\n",
              "      <td>0.119177</td>\n",
              "      <td>0.008786</td>\n",
              "      <td>0.173355</td>\n",
              "      <td>0.025105</td>\n",
              "    </tr>\n",
              "  </tbody>\n",
              "</table>\n",
              "</div>"
            ],
            "text/plain": [
              "     train-error-mean  train-error-std  test-error-mean  test-error-std\n",
              "100          0.120785         0.008228         0.179794        0.025721\n",
              "101          0.120382         0.008837         0.182981        0.023359\n",
              "102          0.120784         0.009407         0.179781        0.026125\n",
              "103          0.119981         0.009814         0.178155        0.030024\n",
              "104          0.119177         0.008786         0.173355        0.025105"
            ]
          },
          "metadata": {
            "tags": []
          },
          "execution_count": 66
        }
      ]
    },
    {
      "cell_type": "markdown",
      "metadata": {
        "id": "Rmp2pjTh7lw6",
        "colab_type": "text"
      },
      "source": [
        "### Training Model"
      ]
    },
    {
      "cell_type": "code",
      "metadata": {
        "id": "8z3xp0H4IozR",
        "colab_type": "code",
        "outputId": "7ca10497-9d07-4b2d-be71-3d0c8efb3686",
        "colab": {
          "base_uri": "https://localhost:8080/",
          "height": 633
        }
      },
      "source": [
        "bst = xgb.train(params, \n",
        "                dtrain, \n",
        "                evals = [(dval, \"Validation\")],\n",
        "                early_stopping_rounds = 10, #this has an effect\n",
        "                num_boost_round = 104)"
      ],
      "execution_count": 0,
      "outputs": [
        {
          "output_type": "stream",
          "text": [
            "[0]\tValidation-error:0.205224\n",
            "Will train until Validation-error hasn't improved in 10 rounds.\n",
            "[1]\tValidation-error:0.235075\n",
            "[2]\tValidation-error:0.242537\n",
            "[3]\tValidation-error:0.227612\n",
            "[4]\tValidation-error:0.253731\n",
            "[5]\tValidation-error:0.216418\n",
            "[6]\tValidation-error:0.201493\n",
            "[7]\tValidation-error:0.208955\n",
            "[8]\tValidation-error:0.223881\n",
            "[9]\tValidation-error:0.205224\n",
            "[10]\tValidation-error:0.197761\n",
            "[11]\tValidation-error:0.190299\n",
            "[12]\tValidation-error:0.19403\n",
            "[13]\tValidation-error:0.182836\n",
            "[14]\tValidation-error:0.186567\n",
            "[15]\tValidation-error:0.182836\n",
            "[16]\tValidation-error:0.182836\n",
            "[17]\tValidation-error:0.186567\n",
            "[18]\tValidation-error:0.179104\n",
            "[19]\tValidation-error:0.175373\n",
            "[20]\tValidation-error:0.171642\n",
            "[21]\tValidation-error:0.171642\n",
            "[22]\tValidation-error:0.182836\n",
            "[23]\tValidation-error:0.179104\n",
            "[24]\tValidation-error:0.182836\n",
            "[25]\tValidation-error:0.175373\n",
            "[26]\tValidation-error:0.175373\n",
            "[27]\tValidation-error:0.186567\n",
            "[28]\tValidation-error:0.179104\n",
            "[29]\tValidation-error:0.179104\n",
            "[30]\tValidation-error:0.175373\n",
            "Stopping. Best iteration:\n",
            "[20]\tValidation-error:0.171642\n",
            "\n"
          ],
          "name": "stdout"
        }
      ]
    },
    {
      "cell_type": "markdown",
      "metadata": {
        "id": "FXOmW8Hpwprp",
        "colab_type": "text"
      },
      "source": [
        "## Analyze Model"
      ]
    },
    {
      "cell_type": "markdown",
      "metadata": {
        "id": "eosSO0bGH3cO",
        "colab_type": "text"
      },
      "source": [
        "### Importance Plot"
      ]
    },
    {
      "cell_type": "code",
      "metadata": {
        "id": "Mks0Wx5VQNf3",
        "colab_type": "code",
        "outputId": "8152bd2a-6f7c-4da5-f824-27bc57137b5e",
        "colab": {
          "base_uri": "https://localhost:8080/",
          "height": 313
        }
      },
      "source": [
        "xgb.plot_importance(bst)"
      ],
      "execution_count": 0,
      "outputs": [
        {
          "output_type": "execute_result",
          "data": {
            "text/plain": [
              "<matplotlib.axes._subplots.AxesSubplot at 0x7f423deda7f0>"
            ]
          },
          "metadata": {
            "tags": []
          },
          "execution_count": 68
        },
        {
          "output_type": "display_data",
          "data": {
            "image/png": "[encoded data removed]",
            "text/plain": [
              "<Figure size 432x288 with 1 Axes>"
            ]
          },
          "metadata": {
            "tags": []
          }
        }
      ]
    },
    {
      "cell_type": "markdown",
      "metadata": {
        "id": "pDfj4X8VH5fD",
        "colab_type": "text"
      },
      "source": [
        "### Tree Plot"
      ]
    },
    {
      "cell_type": "code",
      "metadata": {
        "id": "K9ruNoexws4B",
        "colab_type": "code",
        "outputId": "3be7319b-a3a6-4dc7-f38c-a5f1399afbd2",
        "colab": {
          "base_uri": "https://localhost:8080/",
          "height": 351
        }
      },
      "source": [
        "xgb.to_graphviz(bst, num_trees=20, rankdir='LR')"
      ],
      "execution_count": 0,
      "outputs": [
        {
          "output_type": "execute_result",
          "data": {
            "text/plain": [
              "<graphviz.dot.Digraph at 0x7f423df37a20>"
            ],
            "image/svg+xml": "<?xml version=\"1.0\" encoding=\"UTF-8\" standalone=\"no\"?>\n<!DOCTYPE svg PUBLIC \"-//W3C//DTD SVG 1.1//EN\"\n \"http://www.w3.org/Graphics/SVG/1.1/DTD/svg11.dtd\">\n<!-- Generated by graphviz version 2.40.1 (20161225.0304)\n -->\n<!-- Title: %3 Pages: 1 -->\n<svg width=\"843pt\" height=\"233pt\"\n viewBox=\"0.00 0.00 843.45 233.00\" xmlns=\"http://www.w3.org/2000/svg\" xmlns:xlink=\"http://www.w3.org/1999/xlink\">\n<g id=\"graph0\" class=\"graph\" transform=\"scale(1 1) rotate(0) translate(4 229)\">\n<title>%3</title>\n<polygon fill=\"#ffffff\" stroke=\"transparent\" points=\"-4,4 -4,-229 839.4533,-229 839.4533,4 -4,4\"/>\n<!-- 0 -->\n<g id=\"node1\" class=\"node\">\n<title>0</title>\n<ellipse fill=\"none\" stroke=\"#000000\" cx=\"36.3968\" cy=\"-99\" rx=\"36.2938\" ry=\"18\"/>\n<text text-anchor=\"middle\" x=\"36.3968\" y=\"-95.3\" font-family=\"Times,serif\" font-size=\"14.00\" fill=\"#000000\">M&lt;0.5</text>\n</g>\n<!-- 1 -->\n<g id=\"node2\" class=\"node\">\n<title>1</title>\n<ellipse fill=\"none\" stroke=\"#000000\" cx=\"223.8893\" cy=\"-126\" rx=\"48.1917\" ry=\"18\"/>\n<text text-anchor=\"middle\" x=\"223.8893\" y=\"-122.3\" font-family=\"Times,serif\" font-size=\"14.00\" fill=\"#000000\">D_M&lt;0.5</text>\n</g>\n<!-- 0&#45;&gt;1 -->\n<g id=\"edge1\" class=\"edge\">\n<title>0&#45;&gt;1</title>\n<path fill=\"none\" stroke=\"#0000ff\" d=\"M71.6627,-104.0785C99.0383,-108.0207 137.4916,-113.5582 168.9002,-118.0813\"/>\n<polygon fill=\"#0000ff\" stroke=\"#0000ff\" points=\"168.4305,-121.5496 178.8273,-119.5108 169.4283,-114.6211 168.4305,-121.5496\"/>\n<text text-anchor=\"middle\" x=\"124.2935\" y=\"-119.8\" font-family=\"Times,serif\" font-size=\"14.00\" fill=\"#000000\">yes</text>\n</g>\n<!-- 2 -->\n<g id=\"node3\" class=\"node\">\n<title>2</title>\n<ellipse fill=\"none\" stroke=\"#000000\" cx=\"223.8893\" cy=\"-72\" rx=\"33.5952\" ry=\"18\"/>\n<text text-anchor=\"middle\" x=\"223.8893\" y=\"-68.3\" font-family=\"Times,serif\" font-size=\"14.00\" fill=\"#000000\">S&lt;0.5</text>\n</g>\n<!-- 0&#45;&gt;2 -->\n<g id=\"edge2\" class=\"edge\">\n<title>0&#45;&gt;2</title>\n<path fill=\"none\" stroke=\"#ff0000\" d=\"M69.9805,-91.7721C76.8478,-90.4173 84.0396,-89.0871 90.7935,-88 120.6123,-83.2006 154.4015,-79.1555 180.473,-76.3333\"/>\n<polygon fill=\"#ff0000\" stroke=\"#ff0000\" points=\"180.8465,-79.8134 190.4201,-75.2751 180.106,-72.8526 180.8465,-79.8134\"/>\n<text text-anchor=\"middle\" x=\"124.2935\" y=\"-91.8\" font-family=\"Times,serif\" font-size=\"14.00\" fill=\"#000000\">no, missing</text>\n</g>\n<!-- 3 -->\n<g id=\"node4\" class=\"node\">\n<title>3</title>\n<ellipse fill=\"none\" stroke=\"#000000\" cx=\"463.3772\" cy=\"-180\" rx=\"33.5952\" ry=\"18\"/>\n<text text-anchor=\"middle\" x=\"463.3772\" y=\"-176.3\" font-family=\"Times,serif\" font-size=\"14.00\" fill=\"#000000\">S&lt;0.5</text>\n</g>\n<!-- 1&#45;&gt;3 -->\n<g id=\"edge3\" class=\"edge\">\n<title>1&#45;&gt;3</title>\n<path fill=\"none\" stroke=\"#0000ff\" d=\"M261.4979,-137.3798C270.7717,-140.0284 280.706,-142.7337 289.985,-145 334.5155,-155.8759 386.0653,-165.968 421.31,-172.4927\"/>\n<polygon fill=\"#0000ff\" stroke=\"#0000ff\" points=\"420.7804,-175.9539 431.2481,-174.318 422.0449,-169.0691 420.7804,-175.9539\"/>\n<text text-anchor=\"middle\" x=\"323.485\" y=\"-162.8\" font-family=\"Times,serif\" font-size=\"14.00\" fill=\"#000000\">yes</text>\n</g>\n<!-- 4 -->\n<g id=\"node5\" class=\"node\">\n<title>4</title>\n<ellipse fill=\"none\" stroke=\"#000000\" cx=\"463.3772\" cy=\"-126\" rx=\"88.2844\" ry=\"18\"/>\n<text text-anchor=\"middle\" x=\"463.3772\" y=\"-122.3\" font-family=\"Times,serif\" font-size=\"14.00\" fill=\"#000000\">leaf=&#45;0.0526883714</text>\n</g>\n<!-- 1&#45;&gt;4 -->\n<g id=\"edge4\" class=\"edge\">\n<title>1&#45;&gt;4</title>\n<path fill=\"none\" stroke=\"#ff0000\" d=\"M272.0651,-126C298.5642,-126 332.4494,-126 364.3185,-126\"/>\n<polygon fill=\"#ff0000\" stroke=\"#ff0000\" points=\"364.5829,-129.5001 374.5829,-126 364.5829,-122.5001 364.5829,-129.5001\"/>\n<text text-anchor=\"middle\" x=\"323.485\" y=\"-129.8\" font-family=\"Times,serif\" font-size=\"14.00\" fill=\"#000000\">no, missing</text>\n</g>\n<!-- 5 -->\n<g id=\"node8\" class=\"node\">\n<title>5</title>\n<ellipse fill=\"none\" stroke=\"#000000\" cx=\"463.3772\" cy=\"-72\" rx=\"85.2851\" ry=\"18\"/>\n<text text-anchor=\"middle\" x=\"463.3772\" y=\"-68.3\" font-family=\"Times,serif\" font-size=\"14.00\" fill=\"#000000\">leaf=0.0308510996</text>\n</g>\n<!-- 2&#45;&gt;5 -->\n<g id=\"edge7\" class=\"edge\">\n<title>2&#45;&gt;5</title>\n<path fill=\"none\" stroke=\"#0000ff\" d=\"M257.6941,-72C286.3369,-72 328.8453,-72 367.795,-72\"/>\n<polygon fill=\"#0000ff\" stroke=\"#0000ff\" points=\"368.1392,-75.5001 378.1392,-72 368.1391,-68.5001 368.1392,-75.5001\"/>\n<text text-anchor=\"middle\" x=\"323.485\" y=\"-75.8\" font-family=\"Times,serif\" font-size=\"14.00\" fill=\"#000000\">yes</text>\n</g>\n<!-- 6 -->\n<g id=\"node9\" class=\"node\">\n<title>6</title>\n<ellipse fill=\"none\" stroke=\"#000000\" cx=\"463.3772\" cy=\"-18\" rx=\"85.2851\" ry=\"18\"/>\n<text text-anchor=\"middle\" x=\"463.3772\" y=\"-14.3\" font-family=\"Times,serif\" font-size=\"14.00\" fill=\"#000000\">leaf=0.0994958431</text>\n</g>\n<!-- 2&#45;&gt;6 -->\n<g id=\"edge8\" class=\"edge\">\n<title>2&#45;&gt;6</title>\n<path fill=\"none\" stroke=\"#ff0000\" d=\"M253.3652,-62.9753C264.7522,-59.6343 277.9223,-55.9461 289.985,-53 322.0148,-45.1772 357.676,-37.7599 388.2892,-31.784\"/>\n<polygon fill=\"#ff0000\" stroke=\"#ff0000\" points=\"389.3124,-35.151 398.4649,-29.8141 387.982,-28.2786 389.3124,-35.151\"/>\n<text text-anchor=\"middle\" x=\"323.485\" y=\"-56.8\" font-family=\"Times,serif\" font-size=\"14.00\" fill=\"#000000\">no, missing</text>\n</g>\n<!-- 7 -->\n<g id=\"node6\" class=\"node\">\n<title>7</title>\n<ellipse fill=\"none\" stroke=\"#000000\" cx=\"745.1113\" cy=\"-207\" rx=\"88.2844\" ry=\"18\"/>\n<text text-anchor=\"middle\" x=\"745.1113\" y=\"-203.3\" font-family=\"Times,serif\" font-size=\"14.00\" fill=\"#000000\">leaf=&#45;0.0185476504</text>\n</g>\n<!-- 3&#45;&gt;7 -->\n<g id=\"edge5\" class=\"edge\">\n<title>3&#45;&gt;7</title>\n<path fill=\"none\" stroke=\"#0000ff\" d=\"M496.8021,-183.2033C535.4858,-186.9105 600.7836,-193.1684 654.7108,-198.3365\"/>\n<polygon fill=\"#0000ff\" stroke=\"#0000ff\" points=\"654.6973,-201.8511 664.9856,-199.3212 655.3652,-194.883 654.6973,-201.8511\"/>\n<text text-anchor=\"middle\" x=\"603.2693\" y=\"-198.8\" font-family=\"Times,serif\" font-size=\"14.00\" fill=\"#000000\">yes</text>\n</g>\n<!-- 8 -->\n<g id=\"node7\" class=\"node\">\n<title>8</title>\n<ellipse fill=\"none\" stroke=\"#000000\" cx=\"745.1113\" cy=\"-153\" rx=\"90.1842\" ry=\"18\"/>\n<text text-anchor=\"middle\" x=\"745.1113\" y=\"-149.3\" font-family=\"Times,serif\" font-size=\"14.00\" fill=\"#000000\">leaf=0.00158569217</text>\n</g>\n<!-- 3&#45;&gt;8 -->\n<g id=\"edge6\" class=\"edge\">\n<title>3&#45;&gt;8</title>\n<path fill=\"none\" stroke=\"#ff0000\" d=\"M496.8021,-176.7967C535.1435,-173.1223 599.63,-166.9422 653.2765,-161.801\"/>\n<polygon fill=\"#ff0000\" stroke=\"#ff0000\" points=\"653.8834,-165.259 663.5039,-160.8208 653.2156,-158.2909 653.8834,-165.259\"/>\n<text text-anchor=\"middle\" x=\"603.2693\" y=\"-172.8\" font-family=\"Times,serif\" font-size=\"14.00\" fill=\"#000000\">no, missing</text>\n</g>\n</g>\n</svg>\n"
          },
          "metadata": {
            "tags": []
          },
          "execution_count": 70
        }
      ]
    },
    {
      "cell_type": "markdown",
      "metadata": {
        "id": "m3xipGEdw8kG",
        "colab_type": "text"
      },
      "source": [
        "### ROC Curve/Threshold"
      ]
    },
    {
      "cell_type": "code",
      "metadata": {
        "id": "zMW8rDuCIptf",
        "colab_type": "code",
        "colab": {}
      },
      "source": [
        "from sklearn.metrics import roc_curve\n",
        "from sklearn.metrics import roc_auc_score"
      ],
      "execution_count": 0,
      "outputs": []
    },
    {
      "cell_type": "code",
      "metadata": {
        "id": "-S9N3r8Dw_ra",
        "colab_type": "code",
        "colab": {}
      },
      "source": [
        "lr_probs = bst.predict(dval)"
      ],
      "execution_count": 0,
      "outputs": []
    },
    {
      "cell_type": "code",
      "metadata": {
        "id": "s8GFBWSCIZ_f",
        "colab_type": "code",
        "colab": {}
      },
      "source": [
        "# generate a no skill prediction (majority class)\n",
        "ns_probs = [0 for _ in range(len(val_labels))]"
      ],
      "execution_count": 0,
      "outputs": []
    },
    {
      "cell_type": "code",
      "metadata": {
        "id": "iqotb6w_IEqP",
        "colab_type": "code",
        "colab": {}
      },
      "source": [
        "# calculate scores\n",
        "ns_auc = roc_auc_score(val_labels, ns_probs)\n",
        "lr_auc = roc_auc_score(val_labels, lr_probs)"
      ],
      "execution_count": 0,
      "outputs": []
    },
    {
      "cell_type": "code",
      "metadata": {
        "id": "ms4iKfYmI5wi",
        "colab_type": "code",
        "outputId": "38cc6b8f-7a48-4f02-96a8-8e3cfb6a043b",
        "colab": {
          "base_uri": "https://localhost:8080/",
          "height": 52
        }
      },
      "source": [
        "# summarize scores\n",
        "print('No Skill: ROC AUC=%.3f' % (ns_auc))\n",
        "print('XGBoost: ROC AUC=%.3f' % (lr_auc))"
      ],
      "execution_count": 0,
      "outputs": [
        {
          "output_type": "stream",
          "text": [
            "No Skill: ROC AUC=0.500\n",
            "XGBoost: ROC AUC=0.858\n"
          ],
          "name": "stdout"
        }
      ]
    },
    {
      "cell_type": "code",
      "metadata": {
        "id": "yr_WoOhJI7Gl",
        "colab_type": "code",
        "colab": {}
      },
      "source": [
        "# calculate roc curves\n",
        "ns_fpr, ns_tpr, _ = roc_curve(val_labels, ns_probs)\n",
        "lr_fpr, lr_tpr, _ = roc_curve(val_labels, lr_probs)"
      ],
      "execution_count": 0,
      "outputs": []
    },
    {
      "cell_type": "code",
      "metadata": {
        "id": "thiPnaSmJLTf",
        "colab_type": "code",
        "colab": {}
      },
      "source": [
        "from matplotlib import pyplot"
      ],
      "execution_count": 0,
      "outputs": []
    },
    {
      "cell_type": "code",
      "metadata": {
        "id": "klMD_WKJJEPm",
        "colab_type": "code",
        "outputId": "28ce779b-9b4e-451a-b48f-0dcde729a6c0",
        "colab": {
          "base_uri": "https://localhost:8080/",
          "height": 279
        }
      },
      "source": [
        "# plot the roc curve for the model\n",
        "pyplot.plot(ns_fpr, ns_tpr, linestyle='--', label='No Skill')\n",
        "pyplot.plot(lr_fpr, lr_tpr, marker='.', label='XGBoost')\n",
        "# axis labels\n",
        "pyplot.xlabel('False Positive Rate')\n",
        "pyplot.ylabel('True Positive Rate')\n",
        "# show the legend\n",
        "pyplot.legend()\n",
        "# show the plot\n",
        "pyplot.show()"
      ],
      "execution_count": 0,
      "outputs": [
        {
          "output_type": "display_data",
          "data": {
            "image/png": "[encoded data removed]",
            "text/plain": [
              "<Figure size 432x288 with 1 Axes>"
            ]
          },
          "metadata": {
            "tags": []
          }
        }
      ]
    },
    {
      "cell_type": "markdown",
      "metadata": {
        "id": "4zWZsJnmQRQY",
        "colab_type": "text"
      },
      "source": [
        "## Making Predictions"
      ]
    },
    {
      "cell_type": "code",
      "metadata": {
        "id": "4ht9FuB9CxYj",
        "colab_type": "code",
        "colab": {}
      },
      "source": [
        "y_pred = bst.predict(dtest)"
      ],
      "execution_count": 0,
      "outputs": []
    },
    {
      "cell_type": "code",
      "metadata": {
        "id": "44ceE6EHCzRd",
        "colab_type": "code",
        "outputId": "9aeb3931-bd1d-41dd-80b4-92b1a9e08233",
        "colab": {
          "base_uri": "https://localhost:8080/",
          "height": 34
        }
      },
      "source": [
        "y_pred.shape"
      ],
      "execution_count": 0,
      "outputs": [
        {
          "output_type": "execute_result",
          "data": {
            "text/plain": [
              "(418,)"
            ]
          },
          "metadata": {
            "tags": []
          },
          "execution_count": 136
        }
      ]
    },
    {
      "cell_type": "code",
      "metadata": {
        "id": "pF5_kvqtBwBP",
        "colab_type": "code",
        "colab": {}
      },
      "source": [
        "import numpy as np"
      ],
      "execution_count": 0,
      "outputs": []
    },
    {
      "cell_type": "code",
      "metadata": {
        "id": "QUVbONJBGz-2",
        "colab_type": "code",
        "colab": {}
      },
      "source": [
        "y_pred = np.where(y_pred > 0.9, 1, 0)\n",
        "y_pred = np.asarray(y_pred)"
      ],
      "execution_count": 0,
      "outputs": []
    },
    {
      "cell_type": "code",
      "metadata": {
        "id": "ofL3MXuTHDFQ",
        "colab_type": "code",
        "colab": {}
      },
      "source": [
        "test = pd.read_csv('test.csv')"
      ],
      "execution_count": 0,
      "outputs": []
    },
    {
      "cell_type": "code",
      "metadata": {
        "id": "Xv50f-hYI8dh",
        "colab_type": "code",
        "colab": {}
      },
      "source": [
        "submission = pd.DataFrame(\n",
        "    {\"PassengerID\": test.iloc[:,0],\n",
        "     \"Survived\": y_pred}\n",
        ")"
      ],
      "execution_count": 0,
      "outputs": []
    },
    {
      "cell_type": "markdown",
      "metadata": {
        "id": "2sAwpXWbs3yu",
        "colab_type": "text"
      },
      "source": [
        "### Saving Predictions"
      ]
    },
    {
      "cell_type": "code",
      "metadata": {
        "id": "fhysHfe-D-O1",
        "colab_type": "code",
        "colab": {}
      },
      "source": [
        "from numpy import asarray\n",
        "from numpy import savetxt\n",
        "savetxt('submission_16.csv', submission, delimiter=',') # save to csv file\n",
        "submission.to_csv(\"submission_16.csv\", index = False)"
      ],
      "execution_count": 0,
      "outputs": []
    },
    {
      "cell_type": "markdown",
      "metadata": {
        "id": "FHVzfeZCDu4m",
        "colab_type": "text"
      },
      "source": [
        "### Submitting via Kaggle API"
      ]
    },
    {
      "cell_type": "code",
      "metadata": {
        "id": "iF-UA4UeDfD7",
        "colab_type": "code",
        "outputId": "f1b15c8f-4544-4bbe-e0bb-f17f20e3425d",
        "colab": {
          "base_uri": "https://localhost:8080/",
          "height": 70
        }
      },
      "source": [
        "!kaggle competitions submit -c titanic -f submission_16.csv -m 'playing with label thresholds'"
      ],
      "execution_count": 0,
      "outputs": [
        {
          "output_type": "stream",
          "text": [
            "Warning: Looks like you're using an outdated API Version, please consider updating (server 1.5.6 / client 1.5.4)\n",
            "100% 2.77k/2.77k [00:05<00:00, 564B/s]\n",
            "Successfully submitted to Titanic: Machine Learning from Disaster"
          ],
          "name": "stdout"
        }
      ]
    },
    {
      "cell_type": "code",
      "metadata": {
        "id": "zvCYbCxEFNll",
        "colab_type": "code",
        "outputId": "0cac8fb4-c386-4cc3-ac83-dbd7653b0afc",
        "colab": {
          "base_uri": "https://localhost:8080/",
          "height": 422
        }
      },
      "source": [
        "!kaggle competitions submissions -c titanic"
      ],
      "execution_count": 0,
      "outputs": [
        {
          "output_type": "stream",
          "text": [
            "Warning: Looks like you're using an outdated API Version, please consider updating (server 1.5.6 / client 1.5.4)\n",
            "fileName           date                 description                                      status    publicScore  privateScore  \n",
            "-----------------  -------------------  -----------------------------------------------  --------  -----------  ------------  \n",
            "submission_16.csv  2020-03-13 23:11:13  playing with label thresholds                    complete  0.62679      None          \n",
            "submission_16.csv  2020-03-13 23:10:34  playing with label thresholds                    complete  0.64114      None          \n",
            "submission_16.csv  2020-03-13 23:10:07  playing with label thresholds                    complete  0.63157      None          \n",
            "submission_16.csv  2020-03-13 23:09:36  playing with label thresholds                    complete  0.60765      None          \n",
            "submission_16.csv  2020-03-13 23:08:51  playing with label thresholds                    complete  0.53588      None          \n",
            "submission_16.csv  2020-03-13 23:08:19  playing with label thresholds                    complete  0.57416      None          \n",
            "submission_15.csv  2020-03-13 04:29:29  early stopping                                   complete  0.58373      None          \n",
            "submission_14.csv  2020-03-13 04:26:22  early stopping                                   complete  0.59330      None          \n",
            "submission_13.csv  2020-03-13 03:54:34  feature engineering                              complete  0.57416      None          \n",
            "submission_12.csv  2020-03-12 03:55:46  more parameter tuning                            complete  0.79425      None          \n",
            "submission_12.csv  2020-03-12 03:05:27  more parameter tuning                            complete  0.78468      None          \n",
            "submission_11.csv  2020-03-11 23:30:08  added parameter tuning                           complete  0.79425      None          \n",
            "submission_11.csv  2020-03-11 23:26:22  added parameter tuning                           complete  0.78947      None          \n",
            "submission_11.csv  2020-03-11 23:24:49  added parameter tuning                           complete  0.78947      None          \n",
            "submission_10.csv  2020-03-11 22:27:29  Changed y_pred                                   complete  0.00000      None          \n",
            "submission_09.csv  2020-03-11 22:26:04  Added cross-validation, changed boosting rounds  complete  0.78947      None          \n",
            "submission_08.csv  2020-03-11 19:23:58  Added cross-validation, changed boosting rounds  complete  0.78947      None          \n",
            "submission_08.csv  2020-03-11 19:21:20  Added cross-validation, changed boosting rounds  complete  0.00000      None          \n",
            "submission_07.csv  2020-03-09 22:12:46  7 try with xgb                                   complete  0.78947      None          \n",
            "submission_06.csv  2020-03-09 21:52:21  sixth try with xgb                               complete  0.72248      None          \n"
          ],
          "name": "stdout"
        }
      ]
    },
    {
      "cell_type": "code",
      "metadata": {
        "id": "AAM1WWxFJ5ZS",
        "colab_type": "code",
        "colab": {}
      },
      "source": [
        ""
      ],
      "execution_count": 0,
      "outputs": []
    }
  ]
}